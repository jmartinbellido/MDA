{
  "nbformat": 4,
  "nbformat_minor": 0,
  "metadata": {
    "colab": {
      "name": "MDA Ejercicios dplyr.ipynb",
      "provenance": [],
      "collapsed_sections": [],
      "toc_visible": true,
      "authorship_tag": "ABX9TyOpLoUqpgXE3rAEg3V3Zwn2",
      "include_colab_link": true
    },
    "kernelspec": {
      "name": "ir",
      "display_name": "R"
    }
  },
  "cells": [
    {
      "cell_type": "markdown",
      "metadata": {
        "id": "view-in-github",
        "colab_type": "text"
      },
      "source": [
        "<a href=\"https://colab.research.google.com/github/jmartinbellido/MDA/blob/main/MDA_Ejercicios_dplyr.ipynb\" target=\"_parent\"><img src=\"https://colab.research.google.com/assets/colab-badge.svg\" alt=\"Open In Colab\"/></a>"
      ]
    },
    {
      "cell_type": "markdown",
      "metadata": {
        "id": "G0aIOusr4m2z"
      },
      "source": [
        "# ÍNDICE\n",
        "# **ISDI MDA**\n",
        "# R - Ejercicios de Repaso *dplyr*\n",
        "---\n",
        "Este *notebook* ha sido elaborado como guía práctica para el curso introductorio en R. \n",
        "\n",
        "### Profesor: Juan Martin Bellido (jmbelldo@isdi.education)\n",
        "\n"
      ]
    },
    {
      "cell_type": "code",
      "metadata": {
        "id": "fl0VkjJnQkqW"
      },
      "source": [
        "# Cargamos todas las librerías que utilizaremos en la sesión\n",
        "require(data.table)\n",
        "require(dplyr)"
      ],
      "execution_count": null,
      "outputs": []
    },
    {
      "cell_type": "markdown",
      "metadata": {
        "id": "EsVG0Od7GYTy"
      },
      "source": [
        "### 1. OPERACIONES BÁSICAS CON dplyr\n",
        "---\n",
        "\n"
      ]
    },
    {
      "cell_type": "markdown",
      "metadata": {
        "id": "DZhD1542WfTQ"
      },
      "source": [
        "#### EX 1A\n",
        "Seleccionar los top 3 actores, según salario total percibido en todas las películas en las que hayan participado.\n",
        "\n",
        "Dataset > https://data-wizards.s3.amazonaws.com/datasets/jamesbond.csv"
      ]
    },
    {
      "cell_type": "code",
      "metadata": {
        "colab": {
          "base_uri": "https://localhost:8080/"
        },
        "id": "trPf_6yBXSjg",
        "outputId": "b6d80062-06c3-4046-e137-08d25b2c0bec"
      },
      "source": [
        "# Importamos un df\n",
        "df_james_bond = data.table::fread(\"https://data-wizards.s3.amazonaws.com/datasets/jamesbond.csv\")\n",
        "glimpse(df_james_bond)"
      ],
      "execution_count": null,
      "outputs": [
        {
          "output_type": "stream",
          "text": [
            "Rows: 26\n",
            "Columns: 7\n",
            "$ Film                \u001b[3m\u001b[90m<chr>\u001b[39m\u001b[23m \"Dr. No\", \"From Russia with Love\", \"Goldfinger\", \"…\n",
            "$ Year                \u001b[3m\u001b[90m<int>\u001b[39m\u001b[23m 1962, 1963, 1964, 1965, 1967, 1967, 1969, 1971, 19…\n",
            "$ Actor               \u001b[3m\u001b[90m<chr>\u001b[39m\u001b[23m \"Sean Connery\", \"Sean Connery\", \"Sean Connery\", \"S…\n",
            "$ Director            \u001b[3m\u001b[90m<chr>\u001b[39m\u001b[23m \"Terence Young\", \"Terence Young\", \"Guy Hamilton\", …\n",
            "$ `Box Office`        \u001b[3m\u001b[90m<dbl>\u001b[39m\u001b[23m 448.8, 543.8, 820.4, 848.1, 315.0, 514.2, 291.5, 4…\n",
            "$ Budget              \u001b[3m\u001b[90m<dbl>\u001b[39m\u001b[23m 7.0, 12.6, 18.6, 41.9, 85.0, 59.9, 37.3, 34.7, 30.…\n",
            "$ `Bond Actor Salary` \u001b[3m\u001b[90m<dbl>\u001b[39m\u001b[23m 0.6, 1.6, 3.2, 4.7, NA, 4.4, 0.6, 5.8, NA, NA, NA,…\n"
          ],
          "name": "stdout"
        }
      ]
    },
    {
      "cell_type": "code",
      "metadata": {
        "colab": {
          "base_uri": "https://localhost:8080/",
          "height": 192
        },
        "id": "KCZypvnVYB7I",
        "outputId": "90c6f332-a6ab-4e42-fc17-fd2260af42d4"
      },
      "source": [
        "#1A\n",
        "df_james_bond %>% group_by(\n",
        "    Actor\n",
        "  ) %>% summarise(\n",
        "    total_salary = sum(`Bond Actor Salary`,na.rm=TRUE)\n",
        "  ) %>% arrange(\n",
        "    desc(total_salary)\n",
        "  ) %>% head(3)"
      ],
      "execution_count": null,
      "outputs": [
        {
          "output_type": "display_data",
          "data": {
            "text/plain": [
              "  Actor          total_salary\n",
              "1 Pierce Brosnan 46.5        \n",
              "2 Daniel Craig   25.9        \n",
              "3 Sean Connery   20.3        "
            ],
            "text/latex": "A tibble: 3 × 2\n\\begin{tabular}{ll}\n Actor & total\\_salary\\\\\n <chr> & <dbl>\\\\\n\\hline\n\t Pierce Brosnan & 46.5\\\\\n\t Daniel Craig   & 25.9\\\\\n\t Sean Connery   & 20.3\\\\\n\\end{tabular}\n",
            "text/markdown": "\nA tibble: 3 × 2\n\n| Actor &lt;chr&gt; | total_salary &lt;dbl&gt; |\n|---|---|\n| Pierce Brosnan | 46.5 |\n| Daniel Craig   | 25.9 |\n| Sean Connery   | 20.3 |\n\n",
            "text/html": [
              "<table class=\"dataframe\">\n",
              "<caption>A tibble: 3 × 2</caption>\n",
              "<thead>\n",
              "\t<tr><th scope=col>Actor</th><th scope=col>total_salary</th></tr>\n",
              "\t<tr><th scope=col>&lt;chr&gt;</th><th scope=col>&lt;dbl&gt;</th></tr>\n",
              "</thead>\n",
              "<tbody>\n",
              "\t<tr><td>Pierce Brosnan</td><td>46.5</td></tr>\n",
              "\t<tr><td>Daniel Craig  </td><td>25.9</td></tr>\n",
              "\t<tr><td>Sean Connery  </td><td>20.3</td></tr>\n",
              "</tbody>\n",
              "</table>\n"
            ]
          },
          "metadata": {
            "tags": []
          }
        }
      ]
    },
    {
      "cell_type": "markdown",
      "metadata": {
        "id": "HsV7W7tlCXCk"
      },
      "source": [
        "#### EX 1B\n",
        "Crear un campo *total_sales* en el dataframe que englobe las ventas totales en todas las regiones. Crear otro campo *video_game_segment* que identifique videojuegos que hayan vendido en total más de 5MM (\"top sales\") vs. el resto (\"not top sales\"). Filtrar por videojuegos para la plataforma 'N64' y desplegar columnas; *name*, *platform_code*, *total_sales*, *video_game_segment*.\n",
        "\n",
        "Dataset > https://data-wizards.s3.amazonaws.com/datasets/dataset_videogames_games.csv\n"
      ]
    },
    {
      "cell_type": "code",
      "metadata": {
        "id": "4iBgUCB7CYEL",
        "colab": {
          "base_uri": "https://localhost:8080/"
        },
        "outputId": "c1ae80fb-0123-4246-ebdf-db64c7725219"
      },
      "source": [
        "# Importamos df\n",
        "df_videogames = data.table::fread(\"https://data-wizards.s3.amazonaws.com/datasets/dataset_videogames_games.csv\")\n",
        "glimpse(df_videogames)"
      ],
      "execution_count": null,
      "outputs": [
        {
          "output_type": "stream",
          "text": [
            "Rows: 15,947\n",
            "Columns: 10\n",
            "$ rank          \u001b[3m\u001b[90m<int>\u001b[39m\u001b[23m 1, 2, 3, 4, 5, 6, 7, 8, 9, 10, 11, 12, 13, 14, 15, 16, 1…\n",
            "$ name          \u001b[3m\u001b[90m<chr>\u001b[39m\u001b[23m \"Wii Sports\", \"Super Mario Bros.\", \"Mario Kart Wii\", \"Wi…\n",
            "$ platform_code \u001b[3m\u001b[90m<chr>\u001b[39m\u001b[23m \"Wii\", \"NES\", \"Wii\", \"Wii\", \"GB\", \"GB\", \"DS\", \"Wii\", \"Wi…\n",
            "$ year          \u001b[3m\u001b[90m<int>\u001b[39m\u001b[23m 2006, 1985, 2008, 2009, 1996, 1989, 2006, 2006, 2009, 19…\n",
            "$ genre         \u001b[3m\u001b[90m<chr>\u001b[39m\u001b[23m \"Sports\", \"Platform\", \"Racing\", \"Sports\", \"Role-Playing\"…\n",
            "$ publisher     \u001b[3m\u001b[90m<chr>\u001b[39m\u001b[23m \"Nintendo\", \"Nintendo\", \"Nintendo\", \"Nintendo\", \"Nintend…\n",
            "$ NA_sales      \u001b[3m\u001b[90m<dbl>\u001b[39m\u001b[23m 41.49, 29.08, 15.85, 15.75, 11.27, 23.20, 11.38, 14.03, …\n",
            "$ EU_sales      \u001b[3m\u001b[90m<dbl>\u001b[39m\u001b[23m 29.02, 3.58, 12.88, 11.01, 8.89, 2.26, 9.23, 9.20, 7.06,…\n",
            "$ JP_sales      \u001b[3m\u001b[90m<dbl>\u001b[39m\u001b[23m 3.77, 6.81, 3.79, 3.28, 10.22, 4.22, 6.50, 2.93, 4.70, 0…\n",
            "$ Other_sales   \u001b[3m\u001b[90m<dbl>\u001b[39m\u001b[23m 8.46, 0.77, 3.31, 2.96, 1.00, 0.58, 2.90, 2.85, 2.26, 0.…\n"
          ],
          "name": "stdout"
        }
      ]
    },
    {
      "cell_type": "code",
      "metadata": {
        "id": "dd36i4UtUMma",
        "colab": {
          "base_uri": "https://localhost:8080/",
          "height": 1000
        },
        "outputId": "fa1d364a-da3b-4199-eaef-00cc009296bb"
      },
      "source": [
        "#1B\n",
        "df_videogames %>% mutate(\n",
        "  total_sales = NA_sales + EU_sales + JP_sales + Other_sales\n",
        "  ,video_game_segment = case_when(\n",
        "    total_sales > 5 ~ 'top_sales'\n",
        "    ,TRUE == TRUE ~ 'not_top_sales'\n",
        "  )\n",
        ") %>% filter(\n",
        "  platform_code == 'N64'\n",
        ") %>% select(\n",
        "  name\n",
        "  ,platform_code\n",
        "  ,total_sales\n",
        "  ,video_game_segment\n",
        ")"
      ],
      "execution_count": null,
      "outputs": [
        {
          "output_type": "display_data",
          "data": {
            "text/plain": [
              "    name                                           platform_code total_sales\n",
              "1   Super Mario 64                                 N64           11.90      \n",
              "2   Mario Kart 64                                  N64            9.87      \n",
              "3   GoldenEye 007                                  N64            8.09      \n",
              "4   The Legend of Zelda: Ocarina of Time           N64            7.60      \n",
              "5   Super Smash Bros.                              N64            5.56      \n",
              "6   Pokemon Stadium                                N64            5.45      \n",
              "7   Donkey Kong 64                                 N64            5.27      \n",
              "8   Diddy Kong Racing                              N64            4.89      \n",
              "9   Star Fox 64                                    N64            4.04      \n",
              "10  Banjo-Kazooie                                  N64            3.65      \n",
              "11  Pokemon Snap                                   N64            3.63      \n",
              "12  The Legend of Zelda: Majora's Mask             N64            3.36      \n",
              "13  Star Wars Episode I Racer                      N64            3.11      \n",
              "14  Wave Race 64                                   N64            2.94      \n",
              "15  Yoshi's Story                                  N64            2.85      \n",
              "16  Pok√©mon Stadium 2                             N64            2.74      \n",
              "17  Mario Party                                    N64            2.70      \n",
              "18  Star Wars: Shadows of the Empire               N64            2.65      \n",
              "19  Perfect Dark                                   N64            2.52      \n",
              "20  Mario Party 2                                  N64            2.51      \n",
              "21  WCW/nWo Revenge                                N64            2.38      \n",
              "22  Mario Tennis                                   N64            2.31      \n",
              "23  Star Wars: Rogue Squadron                      N64            2.17      \n",
              "24  Tony Hawk's Pro Skater                         N64            2.11      \n",
              "25  1080¬∞: TenEighty Snowboarding                 N64            2.04      \n",
              "26  Mario Party 3                                  N64            1.91      \n",
              "27  Turok 2: Seeds of Evil                         N64            1.86      \n",
              "28  Hey You, Pikachu!                              N64            1.82      \n",
              "29  Kirby 64: The Crystal Shards                   N64            1.76      \n",
              "30  Cruis'n USA                                    N64            1.74      \n",
              "⋮   ⋮                                              ⋮             ⋮          \n",
              "287 S.C.A.R.S                                      N64           0.06       \n",
              "288 Virtual Chess 64                               N64           0.06       \n",
              "289 Mike Piazza's Strike Zone                      N64           0.06       \n",
              "290 Bust-A-Move '99                                N64           0.06       \n",
              "291 Star Soldier: Vanishing Earth                  N64           0.06       \n",
              "292 Polaris SnoCross                               N64           0.06       \n",
              "293 NHL Blades of Steel '99                        N64           0.05       \n",
              "294 Blues Brothers 2000                            N64           0.05       \n",
              "295 All Star Tennis 99                             N64           0.05       \n",
              "296 Hercules: The Legendary Journeys               N64           0.05       \n",
              "297 Dual Heroes                                    N64           0.05       \n",
              "298 Fighter Destiny 2                              N64           0.05       \n",
              "299 Chameleon Twist 2                              N64           0.05       \n",
              "300 Turok: Dinosaur Hunter                         N64           0.05       \n",
              "301 Choro Q 64 2: Hacha Mecha Grand Prix Race      N64           0.05       \n",
              "302 NBA in the Zone 2000                           N64           0.04       \n",
              "303 NBA In The Zone '99                            N64           0.04       \n",
              "304 PD Ultraman Battle Collection 64               N64           0.04       \n",
              "305 Monaco Grand Prix                              N64           0.04       \n",
              "306 Worms Armageddon                               N64           0.04       \n",
              "307 Rally Challenge 2000                           N64           0.04       \n",
              "308 Looney Tunes Duck Dodgers Starring: Daffy Duck N64           0.04       \n",
              "309 Deadly Arts                                    N64           0.04       \n",
              "310 Starshot: Space Circus Fever                   N64           0.03       \n",
              "311 Charlie Blasts Territory                       N64           0.03       \n",
              "312 Big Mountain 2000                              N64           0.03       \n",
              "313 Super Bowling                                  N64           0.02       \n",
              "314 Rat Attack!                                    N64           0.02       \n",
              "315 PGA European Tour                              N64           0.01       \n",
              "316 Carmageddon 64                                 N64           0.01       \n",
              "    video_game_segment\n",
              "1   top_sales         \n",
              "2   top_sales         \n",
              "3   top_sales         \n",
              "4   top_sales         \n",
              "5   top_sales         \n",
              "6   top_sales         \n",
              "7   top_sales         \n",
              "8   not_top_sales     \n",
              "9   not_top_sales     \n",
              "10  not_top_sales     \n",
              "11  not_top_sales     \n",
              "12  not_top_sales     \n",
              "13  not_top_sales     \n",
              "14  not_top_sales     \n",
              "15  not_top_sales     \n",
              "16  not_top_sales     \n",
              "17  not_top_sales     \n",
              "18  not_top_sales     \n",
              "19  not_top_sales     \n",
              "20  not_top_sales     \n",
              "21  not_top_sales     \n",
              "22  not_top_sales     \n",
              "23  not_top_sales     \n",
              "24  not_top_sales     \n",
              "25  not_top_sales     \n",
              "26  not_top_sales     \n",
              "27  not_top_sales     \n",
              "28  not_top_sales     \n",
              "29  not_top_sales     \n",
              "30  not_top_sales     \n",
              "⋮   ⋮                 \n",
              "287 not_top_sales     \n",
              "288 not_top_sales     \n",
              "289 not_top_sales     \n",
              "290 not_top_sales     \n",
              "291 not_top_sales     \n",
              "292 not_top_sales     \n",
              "293 not_top_sales     \n",
              "294 not_top_sales     \n",
              "295 not_top_sales     \n",
              "296 not_top_sales     \n",
              "297 not_top_sales     \n",
              "298 not_top_sales     \n",
              "299 not_top_sales     \n",
              "300 not_top_sales     \n",
              "301 not_top_sales     \n",
              "302 not_top_sales     \n",
              "303 not_top_sales     \n",
              "304 not_top_sales     \n",
              "305 not_top_sales     \n",
              "306 not_top_sales     \n",
              "307 not_top_sales     \n",
              "308 not_top_sales     \n",
              "309 not_top_sales     \n",
              "310 not_top_sales     \n",
              "311 not_top_sales     \n",
              "312 not_top_sales     \n",
              "313 not_top_sales     \n",
              "314 not_top_sales     \n",
              "315 not_top_sales     \n",
              "316 not_top_sales     "
            ],
            "text/latex": "A data.table: 316 × 4\n\\begin{tabular}{llll}\n name & platform\\_code & total\\_sales & video\\_game\\_segment\\\\\n <chr> & <chr> & <dbl> & <chr>\\\\\n\\hline\n\t Super Mario 64                       & N64 & 11.90 & top\\_sales    \\\\\n\t Mario Kart 64                        & N64 &  9.87 & top\\_sales    \\\\\n\t GoldenEye 007                        & N64 &  8.09 & top\\_sales    \\\\\n\t The Legend of Zelda: Ocarina of Time & N64 &  7.60 & top\\_sales    \\\\\n\t Super Smash Bros.                    & N64 &  5.56 & top\\_sales    \\\\\n\t Pokemon Stadium                      & N64 &  5.45 & top\\_sales    \\\\\n\t Donkey Kong 64                       & N64 &  5.27 & top\\_sales    \\\\\n\t Diddy Kong Racing                    & N64 &  4.89 & not\\_top\\_sales\\\\\n\t Star Fox 64                          & N64 &  4.04 & not\\_top\\_sales\\\\\n\t Banjo-Kazooie                        & N64 &  3.65 & not\\_top\\_sales\\\\\n\t Pokemon Snap                         & N64 &  3.63 & not\\_top\\_sales\\\\\n\t The Legend of Zelda: Majora's Mask   & N64 &  3.36 & not\\_top\\_sales\\\\\n\t Star Wars Episode I Racer            & N64 &  3.11 & not\\_top\\_sales\\\\\n\t Wave Race 64                         & N64 &  2.94 & not\\_top\\_sales\\\\\n\t Yoshi's Story                        & N64 &  2.85 & not\\_top\\_sales\\\\\n\t Pok√©mon Stadium 2                   & N64 &  2.74 & not\\_top\\_sales\\\\\n\t Mario Party                          & N64 &  2.70 & not\\_top\\_sales\\\\\n\t Star Wars: Shadows of the Empire     & N64 &  2.65 & not\\_top\\_sales\\\\\n\t Perfect Dark                         & N64 &  2.52 & not\\_top\\_sales\\\\\n\t Mario Party 2                        & N64 &  2.51 & not\\_top\\_sales\\\\\n\t WCW/nWo Revenge                      & N64 &  2.38 & not\\_top\\_sales\\\\\n\t Mario Tennis                         & N64 &  2.31 & not\\_top\\_sales\\\\\n\t Star Wars: Rogue Squadron            & N64 &  2.17 & not\\_top\\_sales\\\\\n\t Tony Hawk's Pro Skater               & N64 &  2.11 & not\\_top\\_sales\\\\\n\t 1080¬∞: TenEighty Snowboarding       & N64 &  2.04 & not\\_top\\_sales\\\\\n\t Mario Party 3                        & N64 &  1.91 & not\\_top\\_sales\\\\\n\t Turok 2: Seeds of Evil               & N64 &  1.86 & not\\_top\\_sales\\\\\n\t Hey You, Pikachu!                    & N64 &  1.82 & not\\_top\\_sales\\\\\n\t Kirby 64: The Crystal Shards         & N64 &  1.76 & not\\_top\\_sales\\\\\n\t Cruis'n USA                          & N64 &  1.74 & not\\_top\\_sales\\\\\n\t ⋮ & ⋮ & ⋮ & ⋮\\\\\n\t S.C.A.R.S                                      & N64 & 0.06 & not\\_top\\_sales\\\\\n\t Virtual Chess 64                               & N64 & 0.06 & not\\_top\\_sales\\\\\n\t Mike Piazza's Strike Zone                      & N64 & 0.06 & not\\_top\\_sales\\\\\n\t Bust-A-Move '99                                & N64 & 0.06 & not\\_top\\_sales\\\\\n\t Star Soldier: Vanishing Earth                  & N64 & 0.06 & not\\_top\\_sales\\\\\n\t Polaris SnoCross                               & N64 & 0.06 & not\\_top\\_sales\\\\\n\t NHL Blades of Steel '99                        & N64 & 0.05 & not\\_top\\_sales\\\\\n\t Blues Brothers 2000                            & N64 & 0.05 & not\\_top\\_sales\\\\\n\t All Star Tennis 99                             & N64 & 0.05 & not\\_top\\_sales\\\\\n\t Hercules: The Legendary Journeys               & N64 & 0.05 & not\\_top\\_sales\\\\\n\t Dual Heroes                                    & N64 & 0.05 & not\\_top\\_sales\\\\\n\t Fighter Destiny 2                              & N64 & 0.05 & not\\_top\\_sales\\\\\n\t Chameleon Twist 2                              & N64 & 0.05 & not\\_top\\_sales\\\\\n\t Turok: Dinosaur Hunter                         & N64 & 0.05 & not\\_top\\_sales\\\\\n\t Choro Q 64 2: Hacha Mecha Grand Prix Race      & N64 & 0.05 & not\\_top\\_sales\\\\\n\t NBA in the Zone 2000                           & N64 & 0.04 & not\\_top\\_sales\\\\\n\t NBA In The Zone '99                            & N64 & 0.04 & not\\_top\\_sales\\\\\n\t PD Ultraman Battle Collection 64               & N64 & 0.04 & not\\_top\\_sales\\\\\n\t Monaco Grand Prix                              & N64 & 0.04 & not\\_top\\_sales\\\\\n\t Worms Armageddon                               & N64 & 0.04 & not\\_top\\_sales\\\\\n\t Rally Challenge 2000                           & N64 & 0.04 & not\\_top\\_sales\\\\\n\t Looney Tunes Duck Dodgers Starring: Daffy Duck & N64 & 0.04 & not\\_top\\_sales\\\\\n\t Deadly Arts                                    & N64 & 0.04 & not\\_top\\_sales\\\\\n\t Starshot: Space Circus Fever                   & N64 & 0.03 & not\\_top\\_sales\\\\\n\t Charlie Blasts Territory                       & N64 & 0.03 & not\\_top\\_sales\\\\\n\t Big Mountain 2000                              & N64 & 0.03 & not\\_top\\_sales\\\\\n\t Super Bowling                                  & N64 & 0.02 & not\\_top\\_sales\\\\\n\t Rat Attack!                                    & N64 & 0.02 & not\\_top\\_sales\\\\\n\t PGA European Tour                              & N64 & 0.01 & not\\_top\\_sales\\\\\n\t Carmageddon 64                                 & N64 & 0.01 & not\\_top\\_sales\\\\\n\\end{tabular}\n",
            "text/markdown": "\nA data.table: 316 × 4\n\n| name &lt;chr&gt; | platform_code &lt;chr&gt; | total_sales &lt;dbl&gt; | video_game_segment &lt;chr&gt; |\n|---|---|---|---|\n| Super Mario 64                       | N64 | 11.90 | top_sales     |\n| Mario Kart 64                        | N64 |  9.87 | top_sales     |\n| GoldenEye 007                        | N64 |  8.09 | top_sales     |\n| The Legend of Zelda: Ocarina of Time | N64 |  7.60 | top_sales     |\n| Super Smash Bros.                    | N64 |  5.56 | top_sales     |\n| Pokemon Stadium                      | N64 |  5.45 | top_sales     |\n| Donkey Kong 64                       | N64 |  5.27 | top_sales     |\n| Diddy Kong Racing                    | N64 |  4.89 | not_top_sales |\n| Star Fox 64                          | N64 |  4.04 | not_top_sales |\n| Banjo-Kazooie                        | N64 |  3.65 | not_top_sales |\n| Pokemon Snap                         | N64 |  3.63 | not_top_sales |\n| The Legend of Zelda: Majora's Mask   | N64 |  3.36 | not_top_sales |\n| Star Wars Episode I Racer            | N64 |  3.11 | not_top_sales |\n| Wave Race 64                         | N64 |  2.94 | not_top_sales |\n| Yoshi's Story                        | N64 |  2.85 | not_top_sales |\n| Pok√©mon Stadium 2                   | N64 |  2.74 | not_top_sales |\n| Mario Party                          | N64 |  2.70 | not_top_sales |\n| Star Wars: Shadows of the Empire     | N64 |  2.65 | not_top_sales |\n| Perfect Dark                         | N64 |  2.52 | not_top_sales |\n| Mario Party 2                        | N64 |  2.51 | not_top_sales |\n| WCW/nWo Revenge                      | N64 |  2.38 | not_top_sales |\n| Mario Tennis                         | N64 |  2.31 | not_top_sales |\n| Star Wars: Rogue Squadron            | N64 |  2.17 | not_top_sales |\n| Tony Hawk's Pro Skater               | N64 |  2.11 | not_top_sales |\n| 1080¬∞: TenEighty Snowboarding       | N64 |  2.04 | not_top_sales |\n| Mario Party 3                        | N64 |  1.91 | not_top_sales |\n| Turok 2: Seeds of Evil               | N64 |  1.86 | not_top_sales |\n| Hey You, Pikachu!                    | N64 |  1.82 | not_top_sales |\n| Kirby 64: The Crystal Shards         | N64 |  1.76 | not_top_sales |\n| Cruis'n USA                          | N64 |  1.74 | not_top_sales |\n| ⋮ | ⋮ | ⋮ | ⋮ |\n| S.C.A.R.S                                      | N64 | 0.06 | not_top_sales |\n| Virtual Chess 64                               | N64 | 0.06 | not_top_sales |\n| Mike Piazza's Strike Zone                      | N64 | 0.06 | not_top_sales |\n| Bust-A-Move '99                                | N64 | 0.06 | not_top_sales |\n| Star Soldier: Vanishing Earth                  | N64 | 0.06 | not_top_sales |\n| Polaris SnoCross                               | N64 | 0.06 | not_top_sales |\n| NHL Blades of Steel '99                        | N64 | 0.05 | not_top_sales |\n| Blues Brothers 2000                            | N64 | 0.05 | not_top_sales |\n| All Star Tennis 99                             | N64 | 0.05 | not_top_sales |\n| Hercules: The Legendary Journeys               | N64 | 0.05 | not_top_sales |\n| Dual Heroes                                    | N64 | 0.05 | not_top_sales |\n| Fighter Destiny 2                              | N64 | 0.05 | not_top_sales |\n| Chameleon Twist 2                              | N64 | 0.05 | not_top_sales |\n| Turok: Dinosaur Hunter                         | N64 | 0.05 | not_top_sales |\n| Choro Q 64 2: Hacha Mecha Grand Prix Race      | N64 | 0.05 | not_top_sales |\n| NBA in the Zone 2000                           | N64 | 0.04 | not_top_sales |\n| NBA In The Zone '99                            | N64 | 0.04 | not_top_sales |\n| PD Ultraman Battle Collection 64               | N64 | 0.04 | not_top_sales |\n| Monaco Grand Prix                              | N64 | 0.04 | not_top_sales |\n| Worms Armageddon                               | N64 | 0.04 | not_top_sales |\n| Rally Challenge 2000                           | N64 | 0.04 | not_top_sales |\n| Looney Tunes Duck Dodgers Starring: Daffy Duck | N64 | 0.04 | not_top_sales |\n| Deadly Arts                                    | N64 | 0.04 | not_top_sales |\n| Starshot: Space Circus Fever                   | N64 | 0.03 | not_top_sales |\n| Charlie Blasts Territory                       | N64 | 0.03 | not_top_sales |\n| Big Mountain 2000                              | N64 | 0.03 | not_top_sales |\n| Super Bowling                                  | N64 | 0.02 | not_top_sales |\n| Rat Attack!                                    | N64 | 0.02 | not_top_sales |\n| PGA European Tour                              | N64 | 0.01 | not_top_sales |\n| Carmageddon 64                                 | N64 | 0.01 | not_top_sales |\n\n",
            "text/html": [
              "<table class=\"dataframe\">\n",
              "<caption>A data.table: 316 × 4</caption>\n",
              "<thead>\n",
              "\t<tr><th scope=col>name</th><th scope=col>platform_code</th><th scope=col>total_sales</th><th scope=col>video_game_segment</th></tr>\n",
              "\t<tr><th scope=col>&lt;chr&gt;</th><th scope=col>&lt;chr&gt;</th><th scope=col>&lt;dbl&gt;</th><th scope=col>&lt;chr&gt;</th></tr>\n",
              "</thead>\n",
              "<tbody>\n",
              "\t<tr><td>Super Mario 64                      </td><td>N64</td><td>11.90</td><td>top_sales    </td></tr>\n",
              "\t<tr><td>Mario Kart 64                       </td><td>N64</td><td> 9.87</td><td>top_sales    </td></tr>\n",
              "\t<tr><td>GoldenEye 007                       </td><td>N64</td><td> 8.09</td><td>top_sales    </td></tr>\n",
              "\t<tr><td>The Legend of Zelda: Ocarina of Time</td><td>N64</td><td> 7.60</td><td>top_sales    </td></tr>\n",
              "\t<tr><td>Super Smash Bros.                   </td><td>N64</td><td> 5.56</td><td>top_sales    </td></tr>\n",
              "\t<tr><td>Pokemon Stadium                     </td><td>N64</td><td> 5.45</td><td>top_sales    </td></tr>\n",
              "\t<tr><td>Donkey Kong 64                      </td><td>N64</td><td> 5.27</td><td>top_sales    </td></tr>\n",
              "\t<tr><td>Diddy Kong Racing                   </td><td>N64</td><td> 4.89</td><td>not_top_sales</td></tr>\n",
              "\t<tr><td>Star Fox 64                         </td><td>N64</td><td> 4.04</td><td>not_top_sales</td></tr>\n",
              "\t<tr><td>Banjo-Kazooie                       </td><td>N64</td><td> 3.65</td><td>not_top_sales</td></tr>\n",
              "\t<tr><td>Pokemon Snap                        </td><td>N64</td><td> 3.63</td><td>not_top_sales</td></tr>\n",
              "\t<tr><td>The Legend of Zelda: Majora's Mask  </td><td>N64</td><td> 3.36</td><td>not_top_sales</td></tr>\n",
              "\t<tr><td>Star Wars Episode I Racer           </td><td>N64</td><td> 3.11</td><td>not_top_sales</td></tr>\n",
              "\t<tr><td>Wave Race 64                        </td><td>N64</td><td> 2.94</td><td>not_top_sales</td></tr>\n",
              "\t<tr><td>Yoshi's Story                       </td><td>N64</td><td> 2.85</td><td>not_top_sales</td></tr>\n",
              "\t<tr><td>Pok√©mon Stadium 2                  </td><td>N64</td><td> 2.74</td><td>not_top_sales</td></tr>\n",
              "\t<tr><td>Mario Party                         </td><td>N64</td><td> 2.70</td><td>not_top_sales</td></tr>\n",
              "\t<tr><td>Star Wars: Shadows of the Empire    </td><td>N64</td><td> 2.65</td><td>not_top_sales</td></tr>\n",
              "\t<tr><td>Perfect Dark                        </td><td>N64</td><td> 2.52</td><td>not_top_sales</td></tr>\n",
              "\t<tr><td>Mario Party 2                       </td><td>N64</td><td> 2.51</td><td>not_top_sales</td></tr>\n",
              "\t<tr><td>WCW/nWo Revenge                     </td><td>N64</td><td> 2.38</td><td>not_top_sales</td></tr>\n",
              "\t<tr><td>Mario Tennis                        </td><td>N64</td><td> 2.31</td><td>not_top_sales</td></tr>\n",
              "\t<tr><td>Star Wars: Rogue Squadron           </td><td>N64</td><td> 2.17</td><td>not_top_sales</td></tr>\n",
              "\t<tr><td>Tony Hawk's Pro Skater              </td><td>N64</td><td> 2.11</td><td>not_top_sales</td></tr>\n",
              "\t<tr><td>1080¬∞: TenEighty Snowboarding      </td><td>N64</td><td> 2.04</td><td>not_top_sales</td></tr>\n",
              "\t<tr><td>Mario Party 3                       </td><td>N64</td><td> 1.91</td><td>not_top_sales</td></tr>\n",
              "\t<tr><td>Turok 2: Seeds of Evil              </td><td>N64</td><td> 1.86</td><td>not_top_sales</td></tr>\n",
              "\t<tr><td>Hey You, Pikachu!                   </td><td>N64</td><td> 1.82</td><td>not_top_sales</td></tr>\n",
              "\t<tr><td>Kirby 64: The Crystal Shards        </td><td>N64</td><td> 1.76</td><td>not_top_sales</td></tr>\n",
              "\t<tr><td>Cruis'n USA                         </td><td>N64</td><td> 1.74</td><td>not_top_sales</td></tr>\n",
              "\t<tr><td>⋮</td><td>⋮</td><td>⋮</td><td>⋮</td></tr>\n",
              "\t<tr><td>S.C.A.R.S                                     </td><td>N64</td><td>0.06</td><td>not_top_sales</td></tr>\n",
              "\t<tr><td>Virtual Chess 64                              </td><td>N64</td><td>0.06</td><td>not_top_sales</td></tr>\n",
              "\t<tr><td>Mike Piazza's Strike Zone                     </td><td>N64</td><td>0.06</td><td>not_top_sales</td></tr>\n",
              "\t<tr><td>Bust-A-Move '99                               </td><td>N64</td><td>0.06</td><td>not_top_sales</td></tr>\n",
              "\t<tr><td>Star Soldier: Vanishing Earth                 </td><td>N64</td><td>0.06</td><td>not_top_sales</td></tr>\n",
              "\t<tr><td>Polaris SnoCross                              </td><td>N64</td><td>0.06</td><td>not_top_sales</td></tr>\n",
              "\t<tr><td>NHL Blades of Steel '99                       </td><td>N64</td><td>0.05</td><td>not_top_sales</td></tr>\n",
              "\t<tr><td>Blues Brothers 2000                           </td><td>N64</td><td>0.05</td><td>not_top_sales</td></tr>\n",
              "\t<tr><td>All Star Tennis 99                            </td><td>N64</td><td>0.05</td><td>not_top_sales</td></tr>\n",
              "\t<tr><td>Hercules: The Legendary Journeys              </td><td>N64</td><td>0.05</td><td>not_top_sales</td></tr>\n",
              "\t<tr><td>Dual Heroes                                   </td><td>N64</td><td>0.05</td><td>not_top_sales</td></tr>\n",
              "\t<tr><td>Fighter Destiny 2                             </td><td>N64</td><td>0.05</td><td>not_top_sales</td></tr>\n",
              "\t<tr><td>Chameleon Twist 2                             </td><td>N64</td><td>0.05</td><td>not_top_sales</td></tr>\n",
              "\t<tr><td>Turok: Dinosaur Hunter                        </td><td>N64</td><td>0.05</td><td>not_top_sales</td></tr>\n",
              "\t<tr><td>Choro Q 64 2: Hacha Mecha Grand Prix Race     </td><td>N64</td><td>0.05</td><td>not_top_sales</td></tr>\n",
              "\t<tr><td>NBA in the Zone 2000                          </td><td>N64</td><td>0.04</td><td>not_top_sales</td></tr>\n",
              "\t<tr><td>NBA In The Zone '99                           </td><td>N64</td><td>0.04</td><td>not_top_sales</td></tr>\n",
              "\t<tr><td>PD Ultraman Battle Collection 64              </td><td>N64</td><td>0.04</td><td>not_top_sales</td></tr>\n",
              "\t<tr><td>Monaco Grand Prix                             </td><td>N64</td><td>0.04</td><td>not_top_sales</td></tr>\n",
              "\t<tr><td>Worms Armageddon                              </td><td>N64</td><td>0.04</td><td>not_top_sales</td></tr>\n",
              "\t<tr><td>Rally Challenge 2000                          </td><td>N64</td><td>0.04</td><td>not_top_sales</td></tr>\n",
              "\t<tr><td>Looney Tunes Duck Dodgers Starring: Daffy Duck</td><td>N64</td><td>0.04</td><td>not_top_sales</td></tr>\n",
              "\t<tr><td>Deadly Arts                                   </td><td>N64</td><td>0.04</td><td>not_top_sales</td></tr>\n",
              "\t<tr><td>Starshot: Space Circus Fever                  </td><td>N64</td><td>0.03</td><td>not_top_sales</td></tr>\n",
              "\t<tr><td>Charlie Blasts Territory                      </td><td>N64</td><td>0.03</td><td>not_top_sales</td></tr>\n",
              "\t<tr><td>Big Mountain 2000                             </td><td>N64</td><td>0.03</td><td>not_top_sales</td></tr>\n",
              "\t<tr><td>Super Bowling                                 </td><td>N64</td><td>0.02</td><td>not_top_sales</td></tr>\n",
              "\t<tr><td>Rat Attack!                                   </td><td>N64</td><td>0.02</td><td>not_top_sales</td></tr>\n",
              "\t<tr><td>PGA European Tour                             </td><td>N64</td><td>0.01</td><td>not_top_sales</td></tr>\n",
              "\t<tr><td>Carmageddon 64                                </td><td>N64</td><td>0.01</td><td>not_top_sales</td></tr>\n",
              "</tbody>\n",
              "</table>\n"
            ]
          },
          "metadata": {
            "tags": []
          }
        }
      ]
    },
    {
      "cell_type": "markdown",
      "metadata": {
        "id": "f56yerbrUevr"
      },
      "source": [
        "#### EX 1C \n",
        "Dataset de Star Wars: ¿cuál es la combinación entre homeworld y species con mayor número de personajes?\n",
        "\n",
        "Dataset > https://data-wizards.s3.amazonaws.com/datasets/dataset_star_wars.csv\n",
        "\n"
      ]
    },
    {
      "cell_type": "code",
      "metadata": {
        "colab": {
          "base_uri": "https://localhost:8080/"
        },
        "id": "Nda9qsImUgvz",
        "outputId": "8d42f251-8732-4450-f47a-8c98c2e5553f"
      },
      "source": [
        "# Importamos df\n",
        "df_starwars = data.table::fread(\"https://data-wizards.s3.amazonaws.com/datasets/dataset_star_wars.csv\")\n",
        "glimpse(df_starwars)"
      ],
      "execution_count": null,
      "outputs": [
        {
          "output_type": "stream",
          "text": [
            "Rows: 87\n",
            "Columns: 10\n",
            "$ name       \u001b[3m\u001b[90m<chr>\u001b[39m\u001b[23m \"Mon Mothma\", \"Yoda\", \"Tion Medon\", \"Ratts Tyerell\", \"Luke …\n",
            "$ height     \u001b[3m\u001b[90m<int>\u001b[39m\u001b[23m 150, 66, 206, 79, 172, 96, 165, 228, 188, 188, 184, 150, 18…\n",
            "$ mass       \u001b[3m\u001b[90m<dbl>\u001b[39m\u001b[23m NA, 17.0, 80.0, 15.0, 77.0, 32.0, 75.0, 112.0, 79.0, 84.0, …\n",
            "$ hair_color \u001b[3m\u001b[90m<chr>\u001b[39m\u001b[23m \"auburn\", \"white\", \"none\", \"none\", \"blond\", \"\", \"brown\", \"b…\n",
            "$ skin_color \u001b[3m\u001b[90m<chr>\u001b[39m\u001b[23m \"fair\", \"green\", \"grey\", \"grey & blue\", \"fair\", \"white & bl…\n",
            "$ eye_color  \u001b[3m\u001b[90m<chr>\u001b[39m\u001b[23m \"blue\", \"brown\", \"black\", \"unknown\", \"blue\", \"red\", \"blue\",…\n",
            "$ birth_year \u001b[3m\u001b[90m<dbl>\u001b[39m\u001b[23m 48.0, 896.0, NA, NA, 19.0, 33.0, 47.0, 200.0, NA, 72.0, NA,…\n",
            "$ gender     \u001b[3m\u001b[90m<chr>\u001b[39m\u001b[23m \"female\", \"male\", \"male\", \"male\", \"male\", \"\", \"female\", \"ma…\n",
            "$ homeworld  \u001b[3m\u001b[90m<chr>\u001b[39m\u001b[23m \"Chandrila\", \"\", \"Utapau\", \"Aleen Minor\", \"Tatooine\", \"Nabo…\n",
            "$ species    \u001b[3m\u001b[90m<chr>\u001b[39m\u001b[23m \"Human\", \"Yoda's species\", \"Pau'an\", \"Aleena\", \"Human\", \"Dr…\n"
          ],
          "name": "stdout"
        }
      ]
    },
    {
      "cell_type": "code",
      "metadata": {
        "colab": {
          "base_uri": "https://localhost:8080/",
          "height": 1000
        },
        "id": "XFZoH9M42rff",
        "outputId": "809dd5fe-5abb-4ca3-c0f3-9afc9053f981"
      },
      "source": [
        "df_starwars %>% filter(\n",
        "  !homeworld == ''            # descartamos personajes con homeworld vacío. En este caso, negamos toda la condición \"es igual a\"\n",
        "  ,species != ''              # descartamos personaje con species vacío. En este caso, a modo de presentar una opción alternativa, utilizamos el operador \"es distinto\"\n",
        "  ) %>% group_by(             # agrupamos por dos variables categóricas\n",
        "    homeworld\n",
        "    ,species\n",
        "  ) %>% summarise(\n",
        "    total_count = n()         # definimos agregación y utilizamos función de agregación n() para contar observaciones\n",
        "  ) %>% arrange(\n",
        "    desc(total_count)         # ordenamos con criterio descendente\n",
        "  )"
      ],
      "execution_count": null,
      "outputs": [
        {
          "output_type": "stream",
          "text": [
            "`summarise()` has grouped output by 'homeworld'. You can override using the `.groups` argument.\n",
            "\n"
          ],
          "name": "stderr"
        },
        {
          "output_type": "display_data",
          "data": {
            "text/plain": [
              "   homeworld      species      total_count\n",
              "1  Tatooine       Human        8          \n",
              "2  Naboo          Human        5          \n",
              "3  Alderaan       Human        3          \n",
              "4  Naboo          Gungan       3          \n",
              "5  Corellia       Human        2          \n",
              "6  Coruscant      Human        2          \n",
              "7  Kamino         Kaminoan     2          \n",
              "8  Kashyyyk       Wookiee      2          \n",
              "9  Mirial         Mirialan     2          \n",
              "10 Ryloth         Twi'lek      2          \n",
              "11 Tatooine       Droid        2          \n",
              "12 Aleen Minor    Aleena       1          \n",
              "13 Bespin         Human        1          \n",
              "14 Bestine IV     Human        1          \n",
              "15 Cato Neimoidia Neimodian    1          \n",
              "16 Cerea          Cerean       1          \n",
              "17 Champala       Chagrian     1          \n",
              "18 Chandrila      Human        1          \n",
              "19 Concord Dawn   Human        1          \n",
              "20 Coruscant      Tholothian   1          \n",
              "21 Dathomir       Zabrak       1          \n",
              "22 Dorin          Kel Dor      1          \n",
              "23 Endor          Ewok         1          \n",
              "24 Eriadu         Human        1          \n",
              "25 Geonosis       Geonosian    1          \n",
              "26 Glee Anselm    Nautolan     1          \n",
              "27 Haruun Kal     Human        1          \n",
              "28 Iktotch        Iktotchi     1          \n",
              "29 Iridonia       Zabrak       1          \n",
              "30 Kalee          Kaleesh      1          \n",
              "31 Kamino         Human        1          \n",
              "32 Malastare      Dug          1          \n",
              "33 Mon Cala       Mon Calamari 1          \n",
              "34 Muunilinst     Muun         1          \n",
              "35 Naboo          Droid        1          \n",
              "36 Nal Hutta      Hutt         1          \n",
              "37 Ojom           Besalisk     1          \n",
              "38 Quermia        Quermian     1          \n",
              "39 Rodia          Rodian       1          \n",
              "40 Serenno        Human        1          \n",
              "41 Shili          Togruta      1          \n",
              "42 Skako          Skakoan      1          \n",
              "43 Socorro        Human        1          \n",
              "44 Stewjon        Human        1          \n",
              "45 Sullust        Sullustan    1          \n",
              "46 Toydaria       Toydarian    1          \n",
              "47 Trandosha      Trandoshan   1          \n",
              "48 Troiken        Xexto        1          \n",
              "49 Tund           Toong        1          \n",
              "50 Utapau         Pau'an       1          \n",
              "51 Vulpter        Vulptereen   1          \n",
              "52 Zolan          Clawdite     1          "
            ],
            "text/latex": "A grouped\\_df: 52 × 3\n\\begin{tabular}{lll}\n homeworld & species & total\\_count\\\\\n <chr> & <chr> & <int>\\\\\n\\hline\n\t Tatooine       & Human        & 8\\\\\n\t Naboo          & Human        & 5\\\\\n\t Alderaan       & Human        & 3\\\\\n\t Naboo          & Gungan       & 3\\\\\n\t Corellia       & Human        & 2\\\\\n\t Coruscant      & Human        & 2\\\\\n\t Kamino         & Kaminoan     & 2\\\\\n\t Kashyyyk       & Wookiee      & 2\\\\\n\t Mirial         & Mirialan     & 2\\\\\n\t Ryloth         & Twi'lek      & 2\\\\\n\t Tatooine       & Droid        & 2\\\\\n\t Aleen Minor    & Aleena       & 1\\\\\n\t Bespin         & Human        & 1\\\\\n\t Bestine IV     & Human        & 1\\\\\n\t Cato Neimoidia & Neimodian    & 1\\\\\n\t Cerea          & Cerean       & 1\\\\\n\t Champala       & Chagrian     & 1\\\\\n\t Chandrila      & Human        & 1\\\\\n\t Concord Dawn   & Human        & 1\\\\\n\t Coruscant      & Tholothian   & 1\\\\\n\t Dathomir       & Zabrak       & 1\\\\\n\t Dorin          & Kel Dor      & 1\\\\\n\t Endor          & Ewok         & 1\\\\\n\t Eriadu         & Human        & 1\\\\\n\t Geonosis       & Geonosian    & 1\\\\\n\t Glee Anselm    & Nautolan     & 1\\\\\n\t Haruun Kal     & Human        & 1\\\\\n\t Iktotch        & Iktotchi     & 1\\\\\n\t Iridonia       & Zabrak       & 1\\\\\n\t Kalee          & Kaleesh      & 1\\\\\n\t Kamino         & Human        & 1\\\\\n\t Malastare      & Dug          & 1\\\\\n\t Mon Cala       & Mon Calamari & 1\\\\\n\t Muunilinst     & Muun         & 1\\\\\n\t Naboo          & Droid        & 1\\\\\n\t Nal Hutta      & Hutt         & 1\\\\\n\t Ojom           & Besalisk     & 1\\\\\n\t Quermia        & Quermian     & 1\\\\\n\t Rodia          & Rodian       & 1\\\\\n\t Serenno        & Human        & 1\\\\\n\t Shili          & Togruta      & 1\\\\\n\t Skako          & Skakoan      & 1\\\\\n\t Socorro        & Human        & 1\\\\\n\t Stewjon        & Human        & 1\\\\\n\t Sullust        & Sullustan    & 1\\\\\n\t Toydaria       & Toydarian    & 1\\\\\n\t Trandosha      & Trandoshan   & 1\\\\\n\t Troiken        & Xexto        & 1\\\\\n\t Tund           & Toong        & 1\\\\\n\t Utapau         & Pau'an       & 1\\\\\n\t Vulpter        & Vulptereen   & 1\\\\\n\t Zolan          & Clawdite     & 1\\\\\n\\end{tabular}\n",
            "text/markdown": "\nA grouped_df: 52 × 3\n\n| homeworld &lt;chr&gt; | species &lt;chr&gt; | total_count &lt;int&gt; |\n|---|---|---|\n| Tatooine       | Human        | 8 |\n| Naboo          | Human        | 5 |\n| Alderaan       | Human        | 3 |\n| Naboo          | Gungan       | 3 |\n| Corellia       | Human        | 2 |\n| Coruscant      | Human        | 2 |\n| Kamino         | Kaminoan     | 2 |\n| Kashyyyk       | Wookiee      | 2 |\n| Mirial         | Mirialan     | 2 |\n| Ryloth         | Twi'lek      | 2 |\n| Tatooine       | Droid        | 2 |\n| Aleen Minor    | Aleena       | 1 |\n| Bespin         | Human        | 1 |\n| Bestine IV     | Human        | 1 |\n| Cato Neimoidia | Neimodian    | 1 |\n| Cerea          | Cerean       | 1 |\n| Champala       | Chagrian     | 1 |\n| Chandrila      | Human        | 1 |\n| Concord Dawn   | Human        | 1 |\n| Coruscant      | Tholothian   | 1 |\n| Dathomir       | Zabrak       | 1 |\n| Dorin          | Kel Dor      | 1 |\n| Endor          | Ewok         | 1 |\n| Eriadu         | Human        | 1 |\n| Geonosis       | Geonosian    | 1 |\n| Glee Anselm    | Nautolan     | 1 |\n| Haruun Kal     | Human        | 1 |\n| Iktotch        | Iktotchi     | 1 |\n| Iridonia       | Zabrak       | 1 |\n| Kalee          | Kaleesh      | 1 |\n| Kamino         | Human        | 1 |\n| Malastare      | Dug          | 1 |\n| Mon Cala       | Mon Calamari | 1 |\n| Muunilinst     | Muun         | 1 |\n| Naboo          | Droid        | 1 |\n| Nal Hutta      | Hutt         | 1 |\n| Ojom           | Besalisk     | 1 |\n| Quermia        | Quermian     | 1 |\n| Rodia          | Rodian       | 1 |\n| Serenno        | Human        | 1 |\n| Shili          | Togruta      | 1 |\n| Skako          | Skakoan      | 1 |\n| Socorro        | Human        | 1 |\n| Stewjon        | Human        | 1 |\n| Sullust        | Sullustan    | 1 |\n| Toydaria       | Toydarian    | 1 |\n| Trandosha      | Trandoshan   | 1 |\n| Troiken        | Xexto        | 1 |\n| Tund           | Toong        | 1 |\n| Utapau         | Pau'an       | 1 |\n| Vulpter        | Vulptereen   | 1 |\n| Zolan          | Clawdite     | 1 |\n\n",
            "text/html": [
              "<table class=\"dataframe\">\n",
              "<caption>A grouped_df: 52 × 3</caption>\n",
              "<thead>\n",
              "\t<tr><th scope=col>homeworld</th><th scope=col>species</th><th scope=col>total_count</th></tr>\n",
              "\t<tr><th scope=col>&lt;chr&gt;</th><th scope=col>&lt;chr&gt;</th><th scope=col>&lt;int&gt;</th></tr>\n",
              "</thead>\n",
              "<tbody>\n",
              "\t<tr><td>Tatooine      </td><td>Human       </td><td>8</td></tr>\n",
              "\t<tr><td>Naboo         </td><td>Human       </td><td>5</td></tr>\n",
              "\t<tr><td>Alderaan      </td><td>Human       </td><td>3</td></tr>\n",
              "\t<tr><td>Naboo         </td><td>Gungan      </td><td>3</td></tr>\n",
              "\t<tr><td>Corellia      </td><td>Human       </td><td>2</td></tr>\n",
              "\t<tr><td>Coruscant     </td><td>Human       </td><td>2</td></tr>\n",
              "\t<tr><td>Kamino        </td><td>Kaminoan    </td><td>2</td></tr>\n",
              "\t<tr><td>Kashyyyk      </td><td>Wookiee     </td><td>2</td></tr>\n",
              "\t<tr><td>Mirial        </td><td>Mirialan    </td><td>2</td></tr>\n",
              "\t<tr><td>Ryloth        </td><td>Twi'lek     </td><td>2</td></tr>\n",
              "\t<tr><td>Tatooine      </td><td>Droid       </td><td>2</td></tr>\n",
              "\t<tr><td>Aleen Minor   </td><td>Aleena      </td><td>1</td></tr>\n",
              "\t<tr><td>Bespin        </td><td>Human       </td><td>1</td></tr>\n",
              "\t<tr><td>Bestine IV    </td><td>Human       </td><td>1</td></tr>\n",
              "\t<tr><td>Cato Neimoidia</td><td>Neimodian   </td><td>1</td></tr>\n",
              "\t<tr><td>Cerea         </td><td>Cerean      </td><td>1</td></tr>\n",
              "\t<tr><td>Champala      </td><td>Chagrian    </td><td>1</td></tr>\n",
              "\t<tr><td>Chandrila     </td><td>Human       </td><td>1</td></tr>\n",
              "\t<tr><td>Concord Dawn  </td><td>Human       </td><td>1</td></tr>\n",
              "\t<tr><td>Coruscant     </td><td>Tholothian  </td><td>1</td></tr>\n",
              "\t<tr><td>Dathomir      </td><td>Zabrak      </td><td>1</td></tr>\n",
              "\t<tr><td>Dorin         </td><td>Kel Dor     </td><td>1</td></tr>\n",
              "\t<tr><td>Endor         </td><td>Ewok        </td><td>1</td></tr>\n",
              "\t<tr><td>Eriadu        </td><td>Human       </td><td>1</td></tr>\n",
              "\t<tr><td>Geonosis      </td><td>Geonosian   </td><td>1</td></tr>\n",
              "\t<tr><td>Glee Anselm   </td><td>Nautolan    </td><td>1</td></tr>\n",
              "\t<tr><td>Haruun Kal    </td><td>Human       </td><td>1</td></tr>\n",
              "\t<tr><td>Iktotch       </td><td>Iktotchi    </td><td>1</td></tr>\n",
              "\t<tr><td>Iridonia      </td><td>Zabrak      </td><td>1</td></tr>\n",
              "\t<tr><td>Kalee         </td><td>Kaleesh     </td><td>1</td></tr>\n",
              "\t<tr><td>Kamino        </td><td>Human       </td><td>1</td></tr>\n",
              "\t<tr><td>Malastare     </td><td>Dug         </td><td>1</td></tr>\n",
              "\t<tr><td>Mon Cala      </td><td>Mon Calamari</td><td>1</td></tr>\n",
              "\t<tr><td>Muunilinst    </td><td>Muun        </td><td>1</td></tr>\n",
              "\t<tr><td>Naboo         </td><td>Droid       </td><td>1</td></tr>\n",
              "\t<tr><td>Nal Hutta     </td><td>Hutt        </td><td>1</td></tr>\n",
              "\t<tr><td>Ojom          </td><td>Besalisk    </td><td>1</td></tr>\n",
              "\t<tr><td>Quermia       </td><td>Quermian    </td><td>1</td></tr>\n",
              "\t<tr><td>Rodia         </td><td>Rodian      </td><td>1</td></tr>\n",
              "\t<tr><td>Serenno       </td><td>Human       </td><td>1</td></tr>\n",
              "\t<tr><td>Shili         </td><td>Togruta     </td><td>1</td></tr>\n",
              "\t<tr><td>Skako         </td><td>Skakoan     </td><td>1</td></tr>\n",
              "\t<tr><td>Socorro       </td><td>Human       </td><td>1</td></tr>\n",
              "\t<tr><td>Stewjon       </td><td>Human       </td><td>1</td></tr>\n",
              "\t<tr><td>Sullust       </td><td>Sullustan   </td><td>1</td></tr>\n",
              "\t<tr><td>Toydaria      </td><td>Toydarian   </td><td>1</td></tr>\n",
              "\t<tr><td>Trandosha     </td><td>Trandoshan  </td><td>1</td></tr>\n",
              "\t<tr><td>Troiken       </td><td>Xexto       </td><td>1</td></tr>\n",
              "\t<tr><td>Tund          </td><td>Toong       </td><td>1</td></tr>\n",
              "\t<tr><td>Utapau        </td><td>Pau'an      </td><td>1</td></tr>\n",
              "\t<tr><td>Vulpter       </td><td>Vulptereen  </td><td>1</td></tr>\n",
              "\t<tr><td>Zolan         </td><td>Clawdite    </td><td>1</td></tr>\n",
              "</tbody>\n",
              "</table>\n"
            ]
          },
          "metadata": {
            "tags": []
          }
        }
      ]
    },
    {
      "cell_type": "markdown",
      "metadata": {
        "id": "k0MqW0U76spw"
      },
      "source": [
        "### 2. OPERACIONES AVANZADAS CON dplyr\n",
        "---"
      ]
    },
    {
      "cell_type": "markdown",
      "metadata": {
        "id": "0P_bDcFF6MuF"
      },
      "source": [
        "#### EX 2A \n",
        "Extrear el top 10 directores con mayor media de IMDB score. Incluir únicamente directores con más de 5 películas dirigidas.\n",
        "\n",
        "Dataset > https://data-wizards.s3.amazonaws.com/datasets/movies.csv"
      ]
    },
    {
      "cell_type": "code",
      "metadata": {
        "colab": {
          "base_uri": "https://localhost:8080/"
        },
        "id": "Jk7nZZPf6NV_",
        "outputId": "d0831eab-5b43-4606-b87f-947f3c590f36"
      },
      "source": [
        "# Importamos df\n",
        "df_movies = data.table::fread(\"https://data-wizards.s3.amazonaws.com/datasets/movies.csv\")\n",
        "glimpse(df_movies)"
      ],
      "execution_count": null,
      "outputs": [
        {
          "output_type": "stream",
          "text": [
            "Rows: 4,916\n",
            "Columns: 28\n",
            "$ color                     \u001b[3m\u001b[90m<chr>\u001b[39m\u001b[23m \"Color\", \"Color\", \"Color\", \"Color\", \"\", \"Col…\n",
            "$ director_name             \u001b[3m\u001b[90m<chr>\u001b[39m\u001b[23m \"James Cameron\", \"Gore Verbinski\", \"Sam Mend…\n",
            "$ num_critic_for_reviews    \u001b[3m\u001b[90m<int>\u001b[39m\u001b[23m 723, 302, 602, 813, NA, 462, 392, 324, 635, …\n",
            "$ duration                  \u001b[3m\u001b[90m<int>\u001b[39m\u001b[23m 178, 169, 148, 164, NA, 132, 156, 100, 141, …\n",
            "$ director_facebook_likes   \u001b[3m\u001b[90m<int>\u001b[39m\u001b[23m 0, 563, 0, 22000, 131, 475, 0, 15, 0, 282, 0…\n",
            "$ actor_3_facebook_likes    \u001b[3m\u001b[90m<int>\u001b[39m\u001b[23m 855, 1000, 161, 23000, NA, 530, 4000, 284, 1…\n",
            "$ actor_2_name              \u001b[3m\u001b[90m<chr>\u001b[39m\u001b[23m \"Joel David Moore\", \"Orlando Bloom\", \"Rory K…\n",
            "$ actor_1_facebook_likes    \u001b[3m\u001b[90m<int>\u001b[39m\u001b[23m 1000, 40000, 11000, 27000, 131, 640, 24000, …\n",
            "$ gross                     \u001b[3m\u001b[90m<dbl>\u001b[39m\u001b[23m 760505847, 309404152, 200074175, 448130642, …\n",
            "$ genres                    \u001b[3m\u001b[90m<chr>\u001b[39m\u001b[23m \"Action|Adventure|Fantasy|Sci-Fi\", \"Action|A…\n",
            "$ actor_1_name              \u001b[3m\u001b[90m<chr>\u001b[39m\u001b[23m \"CCH Pounder\", \"Johnny Depp\", \"Christoph Wal…\n",
            "$ movie_title               \u001b[3m\u001b[90m<chr>\u001b[39m\u001b[23m \"Avatar\", \"Pirates of the Caribbean: At Worl…\n",
            "$ num_voted_users           \u001b[3m\u001b[90m<int>\u001b[39m\u001b[23m 886204, 471220, 275868, 1144337, 8, 212204, …\n",
            "$ cast_total_facebook_likes \u001b[3m\u001b[90m<int>\u001b[39m\u001b[23m 4834, 48350, 11700, 106759, 143, 1873, 46055…\n",
            "$ actor_3_name              \u001b[3m\u001b[90m<chr>\u001b[39m\u001b[23m \"Wes Studi\", \"Jack Davenport\", \"Stephanie Si…\n",
            "$ facenumber_in_poster      \u001b[3m\u001b[90m<int>\u001b[39m\u001b[23m 0, 0, 1, 0, 0, 1, 0, 1, 4, 3, 0, 0, 1, 2, 1,…\n",
            "$ plot_keywords             \u001b[3m\u001b[90m<chr>\u001b[39m\u001b[23m \"avatar|future|marine|native|paraplegic\", \"g…\n",
            "$ movie_imdb_link           \u001b[3m\u001b[90m<chr>\u001b[39m\u001b[23m \"http://www.imdb.com/title/tt0499549/?ref_=f…\n",
            "$ num_user_for_reviews      \u001b[3m\u001b[90m<int>\u001b[39m\u001b[23m 3054, 1238, 994, 2701, NA, 738, 1902, 387, 1…\n",
            "$ language                  \u001b[3m\u001b[90m<chr>\u001b[39m\u001b[23m \"English\", \"English\", \"English\", \"English\", …\n",
            "$ country                   \u001b[3m\u001b[90m<chr>\u001b[39m\u001b[23m \"USA\", \"USA\", \"UK\", \"USA\", \"\", \"USA\", \"USA\",…\n",
            "$ content_rating            \u001b[3m\u001b[90m<chr>\u001b[39m\u001b[23m \"PG-13\", \"PG-13\", \"PG-13\", \"PG-13\", \"\", \"PG-…\n",
            "$ budget                    \u001b[3m\u001b[90m<dbl>\u001b[39m\u001b[23m 237000000, 300000000, 245000000, 250000000, …\n",
            "$ title_year                \u001b[3m\u001b[90m<int>\u001b[39m\u001b[23m 2009, 2007, 2015, 2012, NA, 2012, 2007, 2010…\n",
            "$ actor_2_facebook_likes    \u001b[3m\u001b[90m<int>\u001b[39m\u001b[23m 936, 5000, 393, 23000, 12, 632, 11000, 553, …\n",
            "$ imdb_score                \u001b[3m\u001b[90m<dbl>\u001b[39m\u001b[23m 7.9, 7.1, 6.8, 8.5, 7.1, 6.6, 6.2, 7.8, 7.5,…\n",
            "$ aspect_ratio              \u001b[3m\u001b[90m<dbl>\u001b[39m\u001b[23m 1.78, 2.35, 2.35, 2.35, NA, 2.35, 2.35, 1.85…\n",
            "$ movie_facebook_likes      \u001b[3m\u001b[90m<int>\u001b[39m\u001b[23m 33000, 0, 85000, 164000, 0, 24000, 0, 29000,…\n"
          ],
          "name": "stdout"
        }
      ]
    },
    {
      "cell_type": "code",
      "metadata": {
        "colab": {
          "base_uri": "https://localhost:8080/",
          "height": 410
        },
        "id": "xDG_gKPo6Z38",
        "outputId": "8c515ec4-799e-481a-90cc-81950df7da32"
      },
      "source": [
        "# 2A\n",
        "aux = df_movies %>% group_by(\n",
        "    director_name\n",
        "  ) %>% summarise(\n",
        "    total_movies = n()\n",
        "  ) %>% filter(\n",
        "    !director_name %in% ''\n",
        "    ,total_movies>5\n",
        "  )\n",
        "\n",
        "df_movies %>% filter(\n",
        "    director_name %in% aux$director_name\n",
        "  ) %>% group_by(\n",
        "    director_name\n",
        "  ) %>% summarise(\n",
        "    mean_imdb_score = round(mean(imdb_score),2)\n",
        "  ) %>% arrange(\n",
        "    desc(mean_imdb_score)\n",
        "  ) %>% head(10)"
      ],
      "execution_count": null,
      "outputs": [
        {
          "output_type": "display_data",
          "data": {
            "text/plain": [
              "   director_name         mean_imdb_score\n",
              "1  Christopher Nolan     8.43           \n",
              "2  Quentin Tarantino     8.20           \n",
              "3  Stanley Kubrick       8.05           \n",
              "4  James Cameron         7.91           \n",
              "5  Peter Jackson         7.89           \n",
              "6  Alejandro G. Iñárritu 7.78           \n",
              "7  David Fincher         7.75           \n",
              "8  Martin Scorsese       7.66           \n",
              "9  Wes Anderson          7.63           \n",
              "10 Paul Greengrass       7.59           "
            ],
            "text/latex": "A tibble: 10 × 2\n\\begin{tabular}{ll}\n director\\_name & mean\\_imdb\\_score\\\\\n <chr> & <dbl>\\\\\n\\hline\n\t Christopher Nolan     & 8.43\\\\\n\t Quentin Tarantino     & 8.20\\\\\n\t Stanley Kubrick       & 8.05\\\\\n\t James Cameron         & 7.91\\\\\n\t Peter Jackson         & 7.89\\\\\n\t Alejandro G. Iñárritu & 7.78\\\\\n\t David Fincher         & 7.75\\\\\n\t Martin Scorsese       & 7.66\\\\\n\t Wes Anderson          & 7.63\\\\\n\t Paul Greengrass       & 7.59\\\\\n\\end{tabular}\n",
            "text/markdown": "\nA tibble: 10 × 2\n\n| director_name &lt;chr&gt; | mean_imdb_score &lt;dbl&gt; |\n|---|---|\n| Christopher Nolan     | 8.43 |\n| Quentin Tarantino     | 8.20 |\n| Stanley Kubrick       | 8.05 |\n| James Cameron         | 7.91 |\n| Peter Jackson         | 7.89 |\n| Alejandro G. Iñárritu | 7.78 |\n| David Fincher         | 7.75 |\n| Martin Scorsese       | 7.66 |\n| Wes Anderson          | 7.63 |\n| Paul Greengrass       | 7.59 |\n\n",
            "text/html": [
              "<table class=\"dataframe\">\n",
              "<caption>A tibble: 10 × 2</caption>\n",
              "<thead>\n",
              "\t<tr><th scope=col>director_name</th><th scope=col>mean_imdb_score</th></tr>\n",
              "\t<tr><th scope=col>&lt;chr&gt;</th><th scope=col>&lt;dbl&gt;</th></tr>\n",
              "</thead>\n",
              "<tbody>\n",
              "\t<tr><td>Christopher Nolan    </td><td>8.43</td></tr>\n",
              "\t<tr><td>Quentin Tarantino    </td><td>8.20</td></tr>\n",
              "\t<tr><td>Stanley Kubrick      </td><td>8.05</td></tr>\n",
              "\t<tr><td>James Cameron        </td><td>7.91</td></tr>\n",
              "\t<tr><td>Peter Jackson        </td><td>7.89</td></tr>\n",
              "\t<tr><td>Alejandro G. Iñárritu</td><td>7.78</td></tr>\n",
              "\t<tr><td>David Fincher        </td><td>7.75</td></tr>\n",
              "\t<tr><td>Martin Scorsese      </td><td>7.66</td></tr>\n",
              "\t<tr><td>Wes Anderson         </td><td>7.63</td></tr>\n",
              "\t<tr><td>Paul Greengrass      </td><td>7.59</td></tr>\n",
              "</tbody>\n",
              "</table>\n"
            ]
          },
          "metadata": {
            "tags": []
          }
        }
      ]
    },
    {
      "cell_type": "markdown",
      "metadata": {
        "id": "erm_lhGS8zma"
      },
      "source": [
        "#### EX 2B \n",
        "La tabla de datos *employees* contiene información sobre empleados en EEUU. Manipular la información para evaluar si hay diferencias en salarios entre empleados blancos (*race White*)  y el resto.\n",
        "\n",
        "| POSITION_TITLE         | white_salary | salary_excl_white | delta |\n",
        "|------------------------|--------------|-------------------|-------|\n",
        "|   ACCOUNTANT ASSOCIATE | 35027        | 38334          | -0.09 |\n",
        "| ADMINISTRATION MANAGER | 77181        | 82321          | -0.07 |\n",
        "| ...                    | ...          | ...               | ...   |\n",
        "\n",
        "\n",
        "Dataset > https://data-wizards.s3.amazonaws.com/datasets/employees.csv"
      ]
    },
    {
      "cell_type": "code",
      "metadata": {
        "id": "AlmcX8rpHNJR",
        "colab": {
          "base_uri": "https://localhost:8080/"
        },
        "outputId": "43eba9e9-0a17-442d-deb4-be24070aff2e"
      },
      "source": [
        "# Importamos df\n",
        "df_employees = fread(\"https://data-wizards.s3.amazonaws.com/datasets/employees.csv\")\n",
        "glimpse(df_employees)"
      ],
      "execution_count": null,
      "outputs": [
        {
          "output_type": "stream",
          "text": [
            "Rows: 2,000\n",
            "Columns: 10\n",
            "$ UNIQUE_ID         \u001b[3m\u001b[90m<int>\u001b[39m\u001b[23m 0, 1, 2, 3, 4, 5, 6, 7, 8, 9, 10, 11, 12, 13, 14, 15…\n",
            "$ POSITION_TITLE    \u001b[3m\u001b[90m<chr>\u001b[39m\u001b[23m \"ASSISTANT DIRECTOR (EX LVL)\", \"LIBRARY ASSISTANT\", …\n",
            "$ DEPARTMENT        \u001b[3m\u001b[90m<chr>\u001b[39m\u001b[23m \"Municipal Courts Department\", \"Library\", \"Houston P…\n",
            "$ BASE_SALARY       \u001b[3m\u001b[90m<dbl>\u001b[39m\u001b[23m 121862, 26125, 45279, 63166, 56347, 66614, 71680, 42…\n",
            "$ RACE              \u001b[3m\u001b[90m<chr>\u001b[39m\u001b[23m \"Hispanic/Latino\", \"Hispanic/Latino\", \"White\", \"Whit…\n",
            "$ EMPLOYMENT_TYPE   \u001b[3m\u001b[90m<chr>\u001b[39m\u001b[23m \"Full Time\", \"Full Time\", \"Full Time\", \"Full Time\", …\n",
            "$ GENDER            \u001b[3m\u001b[90m<chr>\u001b[39m\u001b[23m \"Female\", \"Female\", \"Male\", \"Male\", \"Male\", \"Male\", …\n",
            "$ EMPLOYMENT_STATUS \u001b[3m\u001b[90m<chr>\u001b[39m\u001b[23m \"Active\", \"Active\", \"Active\", \"Active\", \"Active\", \"A…\n",
            "$ HIRE_DATE         \u001b[3m\u001b[90m<date>\u001b[39m\u001b[23m 2006-06-12, 2000-07-19, 2015-02-03, 1982-02-08, 198…\n",
            "$ JOB_DATE          \u001b[3m\u001b[90m<date>\u001b[39m\u001b[23m 2012-10-13, 2010-09-18, 2015-02-03, 1991-05-25, 199…\n"
          ],
          "name": "stdout"
        }
      ]
    },
    {
      "cell_type": "code",
      "metadata": {
        "colab": {
          "base_uri": "https://localhost:8080/",
          "height": 173
        },
        "id": "3GCfzo2w9Vn-",
        "outputId": "e8440142-4d97-4470-dc31-7c13166b1928"
      },
      "source": [
        "df_employees$RACE %>% table()"
      ],
      "execution_count": null,
      "outputs": [
        {
          "output_type": "display_data",
          "data": {
            "text/plain": [
              ".\n",
              "                                  American Indian or Alaskan Native \n",
              "                               35                                11 \n",
              "           Asian/Pacific Islander         Black or African American \n",
              "                              107                               700 \n",
              "                  Hispanic/Latino                            Others \n",
              "                              480                                 2 \n",
              "                            White \n",
              "                              665 "
            ]
          },
          "metadata": {
            "tags": []
          }
        }
      ]
    },
    {
      "cell_type": "code",
      "metadata": {
        "colab": {
          "base_uri": "https://localhost:8080/",
          "height": 1000
        },
        "id": "m-dNw_1_8GOJ",
        "outputId": "66264ada-952b-446b-f9fa-4be571d1e690"
      },
      "source": [
        "# 2B\n",
        "df_employees %>% filter(\n",
        "  EMPLOYMENT_STATUS == 'Active'\n",
        "  ,EMPLOYMENT_TYPE == 'Full Time'\n",
        ") %>% group_by(\n",
        "  POSITION_TITLE\n",
        ") %>% summarise(\n",
        "  white_salary = mean(BASE_SALARY[df_employees$RACE == 'White'],na.rm = TRUE)\n",
        "  ,salary_excl_white = mean(BASE_SALARY[!df_employees$RACE == 'White'],na.rm = TRUE)\n",
        ") %>% filter(\n",
        "  !white_salary %in% NaN\n",
        ") %>% mutate(\n",
        "  delta = round((white_salary-salary_excl_white)/white_salary,2)\n",
        ")"
      ],
      "execution_count": null,
      "outputs": [
        {
          "output_type": "display_data",
          "data": {
            "text/plain": [
              "    POSITION_TITLE                           white_salary salary_excl_white\n",
              "1   9-1-1 TELECOMMUNICATOR                    34611.25     34060.00        \n",
              "2   ACCOUNTANT ASSOCIATE                      35027.00     38334.50        \n",
              "3   ADMINISTRATION MANAGER                    77181.00     82321.20        \n",
              "4   ADMINISTRATIVE AIDE                       31637.00     33373.50        \n",
              "5   ADMINISTRATIVE ASSISTANT                  42940.55     45949.53        \n",
              "6   ADMINISTRATIVE ASSOCIATE                  35771.80     34961.33        \n",
              "7   ADMINISTRATIVE COORDINATOR                67641.20     63989.00        \n",
              "8   ADMINISTRATIVE SPECIALIST                 52317.88     52556.07        \n",
              "9   ADMINISTRATIVE SUPERVISOR                 54670.00     58956.00        \n",
              "10  AIRPORT OPERATIONS ASSISTANT              35616.67     35422.50        \n",
              "11  AIRPORT OPERATIONS COORDINATOR            51501.00     48058.50        \n",
              "12  AIRPORT OPERATIONS SPECIALIST             46543.67     45541.75        \n",
              "13  ANIMAL CARE TECHNICIAN                    30098.00     28725.00        \n",
              "14  ASSISTANT DIRECTOR (EXECUTIVE LEVEL)     125096.33    125666.00        \n",
              "15  BREASTFEEDING PEER COUNSELOR              27310.00     28600.00        \n",
              "16  CAPTAIN                                   68459.59     67986.20        \n",
              "17  CARPENTER                                 40653.50     41236.00        \n",
              "18  CODE ENFORCEMENT OFFICER II               43742.00     46217.50        \n",
              "19  COMMUNICATIONS CAPTAIN                    67742.33     68352.00        \n",
              "20  COMMUNITY LIAISON                         49379.00     48703.00        \n",
              "21  COUNSELOR                                 45136.00     45344.00        \n",
              "22  CUSTODIAN                                 26125.00     26204.67        \n",
              "23  CUSTOMER SERVICE CLERK                    30264.00     29469.00        \n",
              "24  CUSTOMER SERVICE REPRESENTATIVE I         30607.00     32532.69        \n",
              "25  CUSTOMER SERVICE REPRESENTATIVE II        33912.20     37623.55        \n",
              "26  CUSTOMER SERVICE REPRESENTATIVE III       40176.71     40041.62        \n",
              "27  CUSTOMER SERVICE SECTION CHIEF            55141.00     53341.50        \n",
              "28  CUSTOMER SERVICE SUPERVISOR               47247.50     44398.00        \n",
              "29  DATA ENTRY OPERATOR                       26554.67     28860.00        \n",
              "30  DEPUTY ASSISTANT DIRECTOR (EXECUTIVE LEV 102969.33    107246.00        \n",
              "⋮   ⋮                                        ⋮            ⋮                \n",
              "96  SENIOR LIBRARY SERVICE SPECIALIST        38563.00     38563.00         \n",
              "97  SENIOR MICROCOMPUTER ANALYST             62456.50     64941.00         \n",
              "98  SENIOR OFFICE ASSISTANT                  29931.00     32521.00         \n",
              "99  SENIOR PARALEGAL                         55786.00     61152.00         \n",
              "100 SENIOR PLAN ANALYST                      53092.00     55671.00         \n",
              "101 SENIOR PLANT OPERATOR                    46238.00     45926.00         \n",
              "102 SENIOR POLICE OFFICER                    65799.08     65962.07         \n",
              "103 SENIOR POLICE SERVICE OFFICER            30888.00     32375.50         \n",
              "104 SENIOR POLICE TELECOMMUNICATOR           43722.00     49504.00         \n",
              "105 SENIOR PROCUREMENT SPECIALIST            77535.00     74330.00         \n",
              "106 SENIOR PROJECT MANAGER                   83489.00     83388.67         \n",
              "107 SENIOR PUBLIC HEALTH INVESTIGATOR        43493.00     38750.50         \n",
              "108 SENIOR REFUSE TRUCK DRIVER               32579.67     34361.67         \n",
              "109 SENIOR SIDELOADER OPERATOR               36799.20     36319.11         \n",
              "110 SENIOR STAFF ANALYST                     97356.00     87107.75         \n",
              "111 SENIOR UTILITY MECHANIC                  37315.33     37414.25         \n",
              "112 SPECIAL SERVICE REPRESENTATIVE           33789.50     35297.50         \n",
              "113 STAFF ANALYST                            75844.60     70003.20         \n",
              "114 STAFF EPIDEMIOLOGIST                     50266.50     59950.50         \n",
              "115 SUPERINTENDENT                           63648.00     65083.25         \n",
              "116 SUPERVISING ENGINEER                     97664.75     95966.50         \n",
              "117 SURVEILLANCE INVESTIGATOR-EPIDEMIOLOGY   45146.50     46634.00         \n",
              "118 SYSTEMS SUPPORT ANALYST IV               76124.00     73501.00         \n",
              "119 TECHNICAL HARDWARE ANALYST I             41253.67     42047.50         \n",
              "120 TECHNICAL HARDWARE ANALYST II            50842.00     54406.00         \n",
              "121 TECHNICAL HARDWARE ANALYST III           57234.67     58885.00         \n",
              "122 UTILITY MECHANIC                         30597.00     30597.00         \n",
              "123 UTILITY WORKER                           33222.81     33243.67         \n",
              "124 WATER SERVICE INSPECTOR I                32240.00     33550.50         \n",
              "125 WEB DESIGNER                             60840.00     57710.00         \n",
              "    delta\n",
              "1    0.02\n",
              "2   -0.09\n",
              "3   -0.07\n",
              "4   -0.05\n",
              "5   -0.07\n",
              "6    0.02\n",
              "7    0.05\n",
              "8    0.00\n",
              "9   -0.08\n",
              "10   0.01\n",
              "11   0.07\n",
              "12   0.02\n",
              "13   0.05\n",
              "14   0.00\n",
              "15  -0.05\n",
              "16   0.01\n",
              "17  -0.01\n",
              "18  -0.06\n",
              "19  -0.01\n",
              "20   0.01\n",
              "21   0.00\n",
              "22   0.00\n",
              "23   0.03\n",
              "24  -0.06\n",
              "25  -0.11\n",
              "26   0.00\n",
              "27   0.03\n",
              "28   0.06\n",
              "29  -0.09\n",
              "30  -0.04\n",
              "⋮   ⋮    \n",
              "96   0.00\n",
              "97  -0.04\n",
              "98  -0.09\n",
              "99  -0.10\n",
              "100 -0.05\n",
              "101  0.01\n",
              "102  0.00\n",
              "103 -0.05\n",
              "104 -0.13\n",
              "105  0.04\n",
              "106  0.00\n",
              "107  0.11\n",
              "108 -0.05\n",
              "109  0.01\n",
              "110  0.11\n",
              "111  0.00\n",
              "112 -0.04\n",
              "113  0.08\n",
              "114 -0.19\n",
              "115 -0.02\n",
              "116  0.02\n",
              "117 -0.03\n",
              "118  0.03\n",
              "119 -0.02\n",
              "120 -0.07\n",
              "121 -0.03\n",
              "122  0.00\n",
              "123  0.00\n",
              "124 -0.04\n",
              "125  0.05"
            ],
            "text/latex": "A tibble: 125 × 4\n\\begin{tabular}{llll}\n POSITION\\_TITLE & white\\_salary & salary\\_excl\\_white & delta\\\\\n <chr> & <dbl> & <dbl> & <dbl>\\\\\n\\hline\n\t 9-1-1 TELECOMMUNICATOR                   &  34611.25 &  34060.00 &  0.02\\\\\n\t ACCOUNTANT ASSOCIATE                     &  35027.00 &  38334.50 & -0.09\\\\\n\t ADMINISTRATION MANAGER                   &  77181.00 &  82321.20 & -0.07\\\\\n\t ADMINISTRATIVE AIDE                      &  31637.00 &  33373.50 & -0.05\\\\\n\t ADMINISTRATIVE ASSISTANT                 &  42940.55 &  45949.53 & -0.07\\\\\n\t ADMINISTRATIVE ASSOCIATE                 &  35771.80 &  34961.33 &  0.02\\\\\n\t ADMINISTRATIVE COORDINATOR               &  67641.20 &  63989.00 &  0.05\\\\\n\t ADMINISTRATIVE SPECIALIST                &  52317.88 &  52556.07 &  0.00\\\\\n\t ADMINISTRATIVE SUPERVISOR                &  54670.00 &  58956.00 & -0.08\\\\\n\t AIRPORT OPERATIONS ASSISTANT             &  35616.67 &  35422.50 &  0.01\\\\\n\t AIRPORT OPERATIONS COORDINATOR           &  51501.00 &  48058.50 &  0.07\\\\\n\t AIRPORT OPERATIONS SPECIALIST            &  46543.67 &  45541.75 &  0.02\\\\\n\t ANIMAL CARE TECHNICIAN                   &  30098.00 &  28725.00 &  0.05\\\\\n\t ASSISTANT DIRECTOR (EXECUTIVE LEVEL)     & 125096.33 & 125666.00 &  0.00\\\\\n\t BREASTFEEDING PEER COUNSELOR             &  27310.00 &  28600.00 & -0.05\\\\\n\t CAPTAIN                                  &  68459.59 &  67986.20 &  0.01\\\\\n\t CARPENTER                                &  40653.50 &  41236.00 & -0.01\\\\\n\t CODE ENFORCEMENT OFFICER II              &  43742.00 &  46217.50 & -0.06\\\\\n\t COMMUNICATIONS CAPTAIN                   &  67742.33 &  68352.00 & -0.01\\\\\n\t COMMUNITY LIAISON                        &  49379.00 &  48703.00 &  0.01\\\\\n\t COUNSELOR                                &  45136.00 &  45344.00 &  0.00\\\\\n\t CUSTODIAN                                &  26125.00 &  26204.67 &  0.00\\\\\n\t CUSTOMER SERVICE CLERK                   &  30264.00 &  29469.00 &  0.03\\\\\n\t CUSTOMER SERVICE REPRESENTATIVE I        &  30607.00 &  32532.69 & -0.06\\\\\n\t CUSTOMER SERVICE REPRESENTATIVE II       &  33912.20 &  37623.55 & -0.11\\\\\n\t CUSTOMER SERVICE REPRESENTATIVE III      &  40176.71 &  40041.62 &  0.00\\\\\n\t CUSTOMER SERVICE SECTION CHIEF           &  55141.00 &  53341.50 &  0.03\\\\\n\t CUSTOMER SERVICE SUPERVISOR              &  47247.50 &  44398.00 &  0.06\\\\\n\t DATA ENTRY OPERATOR                      &  26554.67 &  28860.00 & -0.09\\\\\n\t DEPUTY ASSISTANT DIRECTOR (EXECUTIVE LEV & 102969.33 & 107246.00 & -0.04\\\\\n\t ⋮ & ⋮ & ⋮ & ⋮\\\\\n\t SENIOR LIBRARY SERVICE SPECIALIST      & 38563.00 & 38563.00 &  0.00\\\\\n\t SENIOR MICROCOMPUTER ANALYST           & 62456.50 & 64941.00 & -0.04\\\\\n\t SENIOR OFFICE ASSISTANT                & 29931.00 & 32521.00 & -0.09\\\\\n\t SENIOR PARALEGAL                       & 55786.00 & 61152.00 & -0.10\\\\\n\t SENIOR PLAN ANALYST                    & 53092.00 & 55671.00 & -0.05\\\\\n\t SENIOR PLANT OPERATOR                  & 46238.00 & 45926.00 &  0.01\\\\\n\t SENIOR POLICE OFFICER                  & 65799.08 & 65962.07 &  0.00\\\\\n\t SENIOR POLICE SERVICE OFFICER          & 30888.00 & 32375.50 & -0.05\\\\\n\t SENIOR POLICE TELECOMMUNICATOR         & 43722.00 & 49504.00 & -0.13\\\\\n\t SENIOR PROCUREMENT SPECIALIST          & 77535.00 & 74330.00 &  0.04\\\\\n\t SENIOR PROJECT MANAGER                 & 83489.00 & 83388.67 &  0.00\\\\\n\t SENIOR PUBLIC HEALTH INVESTIGATOR      & 43493.00 & 38750.50 &  0.11\\\\\n\t SENIOR REFUSE TRUCK DRIVER             & 32579.67 & 34361.67 & -0.05\\\\\n\t SENIOR SIDELOADER OPERATOR             & 36799.20 & 36319.11 &  0.01\\\\\n\t SENIOR STAFF ANALYST                   & 97356.00 & 87107.75 &  0.11\\\\\n\t SENIOR UTILITY MECHANIC                & 37315.33 & 37414.25 &  0.00\\\\\n\t SPECIAL SERVICE REPRESENTATIVE         & 33789.50 & 35297.50 & -0.04\\\\\n\t STAFF ANALYST                          & 75844.60 & 70003.20 &  0.08\\\\\n\t STAFF EPIDEMIOLOGIST                   & 50266.50 & 59950.50 & -0.19\\\\\n\t SUPERINTENDENT                         & 63648.00 & 65083.25 & -0.02\\\\\n\t SUPERVISING ENGINEER                   & 97664.75 & 95966.50 &  0.02\\\\\n\t SURVEILLANCE INVESTIGATOR-EPIDEMIOLOGY & 45146.50 & 46634.00 & -0.03\\\\\n\t SYSTEMS SUPPORT ANALYST IV             & 76124.00 & 73501.00 &  0.03\\\\\n\t TECHNICAL HARDWARE ANALYST I           & 41253.67 & 42047.50 & -0.02\\\\\n\t TECHNICAL HARDWARE ANALYST II          & 50842.00 & 54406.00 & -0.07\\\\\n\t TECHNICAL HARDWARE ANALYST III         & 57234.67 & 58885.00 & -0.03\\\\\n\t UTILITY MECHANIC                       & 30597.00 & 30597.00 &  0.00\\\\\n\t UTILITY WORKER                         & 33222.81 & 33243.67 &  0.00\\\\\n\t WATER SERVICE INSPECTOR I              & 32240.00 & 33550.50 & -0.04\\\\\n\t WEB DESIGNER                           & 60840.00 & 57710.00 &  0.05\\\\\n\\end{tabular}\n",
            "text/markdown": "\nA tibble: 125 × 4\n\n| POSITION_TITLE &lt;chr&gt; | white_salary &lt;dbl&gt; | salary_excl_white &lt;dbl&gt; | delta &lt;dbl&gt; |\n|---|---|---|---|\n| 9-1-1 TELECOMMUNICATOR                   |  34611.25 |  34060.00 |  0.02 |\n| ACCOUNTANT ASSOCIATE                     |  35027.00 |  38334.50 | -0.09 |\n| ADMINISTRATION MANAGER                   |  77181.00 |  82321.20 | -0.07 |\n| ADMINISTRATIVE AIDE                      |  31637.00 |  33373.50 | -0.05 |\n| ADMINISTRATIVE ASSISTANT                 |  42940.55 |  45949.53 | -0.07 |\n| ADMINISTRATIVE ASSOCIATE                 |  35771.80 |  34961.33 |  0.02 |\n| ADMINISTRATIVE COORDINATOR               |  67641.20 |  63989.00 |  0.05 |\n| ADMINISTRATIVE SPECIALIST                |  52317.88 |  52556.07 |  0.00 |\n| ADMINISTRATIVE SUPERVISOR                |  54670.00 |  58956.00 | -0.08 |\n| AIRPORT OPERATIONS ASSISTANT             |  35616.67 |  35422.50 |  0.01 |\n| AIRPORT OPERATIONS COORDINATOR           |  51501.00 |  48058.50 |  0.07 |\n| AIRPORT OPERATIONS SPECIALIST            |  46543.67 |  45541.75 |  0.02 |\n| ANIMAL CARE TECHNICIAN                   |  30098.00 |  28725.00 |  0.05 |\n| ASSISTANT DIRECTOR (EXECUTIVE LEVEL)     | 125096.33 | 125666.00 |  0.00 |\n| BREASTFEEDING PEER COUNSELOR             |  27310.00 |  28600.00 | -0.05 |\n| CAPTAIN                                  |  68459.59 |  67986.20 |  0.01 |\n| CARPENTER                                |  40653.50 |  41236.00 | -0.01 |\n| CODE ENFORCEMENT OFFICER II              |  43742.00 |  46217.50 | -0.06 |\n| COMMUNICATIONS CAPTAIN                   |  67742.33 |  68352.00 | -0.01 |\n| COMMUNITY LIAISON                        |  49379.00 |  48703.00 |  0.01 |\n| COUNSELOR                                |  45136.00 |  45344.00 |  0.00 |\n| CUSTODIAN                                |  26125.00 |  26204.67 |  0.00 |\n| CUSTOMER SERVICE CLERK                   |  30264.00 |  29469.00 |  0.03 |\n| CUSTOMER SERVICE REPRESENTATIVE I        |  30607.00 |  32532.69 | -0.06 |\n| CUSTOMER SERVICE REPRESENTATIVE II       |  33912.20 |  37623.55 | -0.11 |\n| CUSTOMER SERVICE REPRESENTATIVE III      |  40176.71 |  40041.62 |  0.00 |\n| CUSTOMER SERVICE SECTION CHIEF           |  55141.00 |  53341.50 |  0.03 |\n| CUSTOMER SERVICE SUPERVISOR              |  47247.50 |  44398.00 |  0.06 |\n| DATA ENTRY OPERATOR                      |  26554.67 |  28860.00 | -0.09 |\n| DEPUTY ASSISTANT DIRECTOR (EXECUTIVE LEV | 102969.33 | 107246.00 | -0.04 |\n| ⋮ | ⋮ | ⋮ | ⋮ |\n| SENIOR LIBRARY SERVICE SPECIALIST      | 38563.00 | 38563.00 |  0.00 |\n| SENIOR MICROCOMPUTER ANALYST           | 62456.50 | 64941.00 | -0.04 |\n| SENIOR OFFICE ASSISTANT                | 29931.00 | 32521.00 | -0.09 |\n| SENIOR PARALEGAL                       | 55786.00 | 61152.00 | -0.10 |\n| SENIOR PLAN ANALYST                    | 53092.00 | 55671.00 | -0.05 |\n| SENIOR PLANT OPERATOR                  | 46238.00 | 45926.00 |  0.01 |\n| SENIOR POLICE OFFICER                  | 65799.08 | 65962.07 |  0.00 |\n| SENIOR POLICE SERVICE OFFICER          | 30888.00 | 32375.50 | -0.05 |\n| SENIOR POLICE TELECOMMUNICATOR         | 43722.00 | 49504.00 | -0.13 |\n| SENIOR PROCUREMENT SPECIALIST          | 77535.00 | 74330.00 |  0.04 |\n| SENIOR PROJECT MANAGER                 | 83489.00 | 83388.67 |  0.00 |\n| SENIOR PUBLIC HEALTH INVESTIGATOR      | 43493.00 | 38750.50 |  0.11 |\n| SENIOR REFUSE TRUCK DRIVER             | 32579.67 | 34361.67 | -0.05 |\n| SENIOR SIDELOADER OPERATOR             | 36799.20 | 36319.11 |  0.01 |\n| SENIOR STAFF ANALYST                   | 97356.00 | 87107.75 |  0.11 |\n| SENIOR UTILITY MECHANIC                | 37315.33 | 37414.25 |  0.00 |\n| SPECIAL SERVICE REPRESENTATIVE         | 33789.50 | 35297.50 | -0.04 |\n| STAFF ANALYST                          | 75844.60 | 70003.20 |  0.08 |\n| STAFF EPIDEMIOLOGIST                   | 50266.50 | 59950.50 | -0.19 |\n| SUPERINTENDENT                         | 63648.00 | 65083.25 | -0.02 |\n| SUPERVISING ENGINEER                   | 97664.75 | 95966.50 |  0.02 |\n| SURVEILLANCE INVESTIGATOR-EPIDEMIOLOGY | 45146.50 | 46634.00 | -0.03 |\n| SYSTEMS SUPPORT ANALYST IV             | 76124.00 | 73501.00 |  0.03 |\n| TECHNICAL HARDWARE ANALYST I           | 41253.67 | 42047.50 | -0.02 |\n| TECHNICAL HARDWARE ANALYST II          | 50842.00 | 54406.00 | -0.07 |\n| TECHNICAL HARDWARE ANALYST III         | 57234.67 | 58885.00 | -0.03 |\n| UTILITY MECHANIC                       | 30597.00 | 30597.00 |  0.00 |\n| UTILITY WORKER                         | 33222.81 | 33243.67 |  0.00 |\n| WATER SERVICE INSPECTOR I              | 32240.00 | 33550.50 | -0.04 |\n| WEB DESIGNER                           | 60840.00 | 57710.00 |  0.05 |\n\n",
            "text/html": [
              "<table class=\"dataframe\">\n",
              "<caption>A tibble: 125 × 4</caption>\n",
              "<thead>\n",
              "\t<tr><th scope=col>POSITION_TITLE</th><th scope=col>white_salary</th><th scope=col>salary_excl_white</th><th scope=col>delta</th></tr>\n",
              "\t<tr><th scope=col>&lt;chr&gt;</th><th scope=col>&lt;dbl&gt;</th><th scope=col>&lt;dbl&gt;</th><th scope=col>&lt;dbl&gt;</th></tr>\n",
              "</thead>\n",
              "<tbody>\n",
              "\t<tr><td>9-1-1 TELECOMMUNICATOR                  </td><td> 34611.25</td><td> 34060.00</td><td> 0.02</td></tr>\n",
              "\t<tr><td>ACCOUNTANT ASSOCIATE                    </td><td> 35027.00</td><td> 38334.50</td><td>-0.09</td></tr>\n",
              "\t<tr><td>ADMINISTRATION MANAGER                  </td><td> 77181.00</td><td> 82321.20</td><td>-0.07</td></tr>\n",
              "\t<tr><td>ADMINISTRATIVE AIDE                     </td><td> 31637.00</td><td> 33373.50</td><td>-0.05</td></tr>\n",
              "\t<tr><td>ADMINISTRATIVE ASSISTANT                </td><td> 42940.55</td><td> 45949.53</td><td>-0.07</td></tr>\n",
              "\t<tr><td>ADMINISTRATIVE ASSOCIATE                </td><td> 35771.80</td><td> 34961.33</td><td> 0.02</td></tr>\n",
              "\t<tr><td>ADMINISTRATIVE COORDINATOR              </td><td> 67641.20</td><td> 63989.00</td><td> 0.05</td></tr>\n",
              "\t<tr><td>ADMINISTRATIVE SPECIALIST               </td><td> 52317.88</td><td> 52556.07</td><td> 0.00</td></tr>\n",
              "\t<tr><td>ADMINISTRATIVE SUPERVISOR               </td><td> 54670.00</td><td> 58956.00</td><td>-0.08</td></tr>\n",
              "\t<tr><td>AIRPORT OPERATIONS ASSISTANT            </td><td> 35616.67</td><td> 35422.50</td><td> 0.01</td></tr>\n",
              "\t<tr><td>AIRPORT OPERATIONS COORDINATOR          </td><td> 51501.00</td><td> 48058.50</td><td> 0.07</td></tr>\n",
              "\t<tr><td>AIRPORT OPERATIONS SPECIALIST           </td><td> 46543.67</td><td> 45541.75</td><td> 0.02</td></tr>\n",
              "\t<tr><td>ANIMAL CARE TECHNICIAN                  </td><td> 30098.00</td><td> 28725.00</td><td> 0.05</td></tr>\n",
              "\t<tr><td>ASSISTANT DIRECTOR (EXECUTIVE LEVEL)    </td><td>125096.33</td><td>125666.00</td><td> 0.00</td></tr>\n",
              "\t<tr><td>BREASTFEEDING PEER COUNSELOR            </td><td> 27310.00</td><td> 28600.00</td><td>-0.05</td></tr>\n",
              "\t<tr><td>CAPTAIN                                 </td><td> 68459.59</td><td> 67986.20</td><td> 0.01</td></tr>\n",
              "\t<tr><td>CARPENTER                               </td><td> 40653.50</td><td> 41236.00</td><td>-0.01</td></tr>\n",
              "\t<tr><td>CODE ENFORCEMENT OFFICER II             </td><td> 43742.00</td><td> 46217.50</td><td>-0.06</td></tr>\n",
              "\t<tr><td>COMMUNICATIONS CAPTAIN                  </td><td> 67742.33</td><td> 68352.00</td><td>-0.01</td></tr>\n",
              "\t<tr><td>COMMUNITY LIAISON                       </td><td> 49379.00</td><td> 48703.00</td><td> 0.01</td></tr>\n",
              "\t<tr><td>COUNSELOR                               </td><td> 45136.00</td><td> 45344.00</td><td> 0.00</td></tr>\n",
              "\t<tr><td>CUSTODIAN                               </td><td> 26125.00</td><td> 26204.67</td><td> 0.00</td></tr>\n",
              "\t<tr><td>CUSTOMER SERVICE CLERK                  </td><td> 30264.00</td><td> 29469.00</td><td> 0.03</td></tr>\n",
              "\t<tr><td>CUSTOMER SERVICE REPRESENTATIVE I       </td><td> 30607.00</td><td> 32532.69</td><td>-0.06</td></tr>\n",
              "\t<tr><td>CUSTOMER SERVICE REPRESENTATIVE II      </td><td> 33912.20</td><td> 37623.55</td><td>-0.11</td></tr>\n",
              "\t<tr><td>CUSTOMER SERVICE REPRESENTATIVE III     </td><td> 40176.71</td><td> 40041.62</td><td> 0.00</td></tr>\n",
              "\t<tr><td>CUSTOMER SERVICE SECTION CHIEF          </td><td> 55141.00</td><td> 53341.50</td><td> 0.03</td></tr>\n",
              "\t<tr><td>CUSTOMER SERVICE SUPERVISOR             </td><td> 47247.50</td><td> 44398.00</td><td> 0.06</td></tr>\n",
              "\t<tr><td>DATA ENTRY OPERATOR                     </td><td> 26554.67</td><td> 28860.00</td><td>-0.09</td></tr>\n",
              "\t<tr><td>DEPUTY ASSISTANT DIRECTOR (EXECUTIVE LEV</td><td>102969.33</td><td>107246.00</td><td>-0.04</td></tr>\n",
              "\t<tr><td>⋮</td><td>⋮</td><td>⋮</td><td>⋮</td></tr>\n",
              "\t<tr><td>SENIOR LIBRARY SERVICE SPECIALIST     </td><td>38563.00</td><td>38563.00</td><td> 0.00</td></tr>\n",
              "\t<tr><td>SENIOR MICROCOMPUTER ANALYST          </td><td>62456.50</td><td>64941.00</td><td>-0.04</td></tr>\n",
              "\t<tr><td>SENIOR OFFICE ASSISTANT               </td><td>29931.00</td><td>32521.00</td><td>-0.09</td></tr>\n",
              "\t<tr><td>SENIOR PARALEGAL                      </td><td>55786.00</td><td>61152.00</td><td>-0.10</td></tr>\n",
              "\t<tr><td>SENIOR PLAN ANALYST                   </td><td>53092.00</td><td>55671.00</td><td>-0.05</td></tr>\n",
              "\t<tr><td>SENIOR PLANT OPERATOR                 </td><td>46238.00</td><td>45926.00</td><td> 0.01</td></tr>\n",
              "\t<tr><td>SENIOR POLICE OFFICER                 </td><td>65799.08</td><td>65962.07</td><td> 0.00</td></tr>\n",
              "\t<tr><td>SENIOR POLICE SERVICE OFFICER         </td><td>30888.00</td><td>32375.50</td><td>-0.05</td></tr>\n",
              "\t<tr><td>SENIOR POLICE TELECOMMUNICATOR        </td><td>43722.00</td><td>49504.00</td><td>-0.13</td></tr>\n",
              "\t<tr><td>SENIOR PROCUREMENT SPECIALIST         </td><td>77535.00</td><td>74330.00</td><td> 0.04</td></tr>\n",
              "\t<tr><td>SENIOR PROJECT MANAGER                </td><td>83489.00</td><td>83388.67</td><td> 0.00</td></tr>\n",
              "\t<tr><td>SENIOR PUBLIC HEALTH INVESTIGATOR     </td><td>43493.00</td><td>38750.50</td><td> 0.11</td></tr>\n",
              "\t<tr><td>SENIOR REFUSE TRUCK DRIVER            </td><td>32579.67</td><td>34361.67</td><td>-0.05</td></tr>\n",
              "\t<tr><td>SENIOR SIDELOADER OPERATOR            </td><td>36799.20</td><td>36319.11</td><td> 0.01</td></tr>\n",
              "\t<tr><td>SENIOR STAFF ANALYST                  </td><td>97356.00</td><td>87107.75</td><td> 0.11</td></tr>\n",
              "\t<tr><td>SENIOR UTILITY MECHANIC               </td><td>37315.33</td><td>37414.25</td><td> 0.00</td></tr>\n",
              "\t<tr><td>SPECIAL SERVICE REPRESENTATIVE        </td><td>33789.50</td><td>35297.50</td><td>-0.04</td></tr>\n",
              "\t<tr><td>STAFF ANALYST                         </td><td>75844.60</td><td>70003.20</td><td> 0.08</td></tr>\n",
              "\t<tr><td>STAFF EPIDEMIOLOGIST                  </td><td>50266.50</td><td>59950.50</td><td>-0.19</td></tr>\n",
              "\t<tr><td>SUPERINTENDENT                        </td><td>63648.00</td><td>65083.25</td><td>-0.02</td></tr>\n",
              "\t<tr><td>SUPERVISING ENGINEER                  </td><td>97664.75</td><td>95966.50</td><td> 0.02</td></tr>\n",
              "\t<tr><td>SURVEILLANCE INVESTIGATOR-EPIDEMIOLOGY</td><td>45146.50</td><td>46634.00</td><td>-0.03</td></tr>\n",
              "\t<tr><td>SYSTEMS SUPPORT ANALYST IV            </td><td>76124.00</td><td>73501.00</td><td> 0.03</td></tr>\n",
              "\t<tr><td>TECHNICAL HARDWARE ANALYST I          </td><td>41253.67</td><td>42047.50</td><td>-0.02</td></tr>\n",
              "\t<tr><td>TECHNICAL HARDWARE ANALYST II         </td><td>50842.00</td><td>54406.00</td><td>-0.07</td></tr>\n",
              "\t<tr><td>TECHNICAL HARDWARE ANALYST III        </td><td>57234.67</td><td>58885.00</td><td>-0.03</td></tr>\n",
              "\t<tr><td>UTILITY MECHANIC                      </td><td>30597.00</td><td>30597.00</td><td> 0.00</td></tr>\n",
              "\t<tr><td>UTILITY WORKER                        </td><td>33222.81</td><td>33243.67</td><td> 0.00</td></tr>\n",
              "\t<tr><td>WATER SERVICE INSPECTOR I             </td><td>32240.00</td><td>33550.50</td><td>-0.04</td></tr>\n",
              "\t<tr><td>WEB DESIGNER                          </td><td>60840.00</td><td>57710.00</td><td> 0.05</td></tr>\n",
              "</tbody>\n",
              "</table>\n"
            ]
          },
          "metadata": {
            "tags": []
          }
        }
      ]
    }
  ]
}