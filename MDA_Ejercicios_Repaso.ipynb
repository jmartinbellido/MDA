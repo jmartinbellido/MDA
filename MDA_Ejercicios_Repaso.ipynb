{
  "nbformat": 4,
  "nbformat_minor": 0,
  "metadata": {
    "colab": {
      "name": "MDA Ejercicios Repaso.ipynb",
      "provenance": [],
      "collapsed_sections": [],
      "toc_visible": true
    },
    "kernelspec": {
      "name": "ir",
      "display_name": "R"
    }
  },
  "cells": [
    {
      "cell_type": "markdown",
      "metadata": {
        "id": "G0aIOusr4m2z"
      },
      "source": [
        "# ÍNDICE\n",
        "# **ISDI MDA**\n",
        "# R - Ejercicios de Repaso\n",
        "---\n",
        "Este *notebook* ha sido elaborado como guía práctica para el curso introductorio en R. \n",
        "\n",
        "### ÍNDICE DE CONTENIDO\n",
        "1. OPERACIONES BÁSICAS CON DATAFRAMES\n",
        "2. MANIPULACIÓN BÁSICA\n",
        "\n",
        "### Profesor: Juan Martin Bellido (jmbelldo@isdi.education)\n",
        "\n"
      ]
    },
    {
      "cell_type": "markdown",
      "metadata": {
        "id": "EsVG0Od7GYTy"
      },
      "source": [
        "### 1. OPERACIONES BÁSICAS CON DATAFRAMES\n",
        "---\n",
        "\n"
      ]
    },
    {
      "cell_type": "code",
      "metadata": {
        "id": "fl0VkjJnQkqW"
      },
      "source": [
        "# Cargamos todas las librerías que utilizaremos en la sesión\n",
        "require(data.table)\n",
        "require(dplyr)"
      ],
      "execution_count": null,
      "outputs": []
    },
    {
      "cell_type": "markdown",
      "metadata": {
        "id": "DZhD1542WfTQ"
      },
      "source": [
        "#### EX 1A\n",
        "Realizar las siguientes operaciones *sin utilizar la librería dplyr*: \n",
        "*   Importar dataframe\n",
        "*   Seleccionar columnas: \"Company\", \"Sector\" y \"Revenue\"\n",
        "*   Crear una nueva columna \"Profits_per_Employee\" como operación entre las columnas \"Profits\" y \"Employees\"\n",
        "\n",
        "Dataset > https://data-wizards.s3.amazonaws.com/datasets/fortune1000.csv"
      ]
    },
    {
      "cell_type": "code",
      "metadata": {
        "colab": {
          "base_uri": "https://localhost:8080/"
        },
        "id": "trPf_6yBXSjg",
        "outputId": "4b76c11e-cd30-4be3-d2e4-eb292b671f50"
      },
      "source": [
        "# Importamos df\n",
        "df_fortune = data.table::fread(\"https://data-wizards.s3.amazonaws.com/datasets/fortune1000.csv\")\n",
        "glimpse(df_fortune)"
      ],
      "execution_count": null,
      "outputs": [
        {
          "output_type": "stream",
          "text": [
            "Rows: 1,000\n",
            "Columns: 8\n",
            "$ Rank      \u001b[3m\u001b[90m<int>\u001b[39m\u001b[23m 1, 2, 3, 4, 5, 6, 7, 8, 9, 10, 11, 12, 13, 14, 15, 16, 17, 1…\n",
            "$ Company   \u001b[3m\u001b[90m<chr>\u001b[39m\u001b[23m \"Walmart\", \"Exxon Mobil\", \"Apple\", \"Berkshire Hathaway\", \"Mc…\n",
            "$ Sector    \u001b[3m\u001b[90m<chr>\u001b[39m\u001b[23m \"Retailing\", \"Energy\", \"Technology\", \"Financials\", \"Health C…\n",
            "$ Industry  \u001b[3m\u001b[90m<chr>\u001b[39m\u001b[23m \"General Merchandisers\", \"Petroleum Refining\", \"Computers, O…\n",
            "$ Location  \u001b[3m\u001b[90m<chr>\u001b[39m\u001b[23m \"Bentonville, AR\", \"Irving, TX\", \"Cupertino, CA\", \"Omaha, NE…\n",
            "$ Revenue   \u001b[3m\u001b[90m<int>\u001b[39m\u001b[23m 482130, 246204, 233715, 210821, 181241, 157107, 153290, 1523…\n",
            "$ Profits   \u001b[3m\u001b[90m<int>\u001b[39m\u001b[23m 14694, 16150, 53394, 24083, 1476, 5813, 5237, 9687, 7373, 13…\n",
            "$ Employees \u001b[3m\u001b[90m<int>\u001b[39m\u001b[23m 2300000, 75600, 110000, 331000, 70400, 200000, 199000, 21500…\n"
          ],
          "name": "stdout"
        }
      ]
    },
    {
      "cell_type": "code",
      "metadata": {
        "colab": {
          "base_uri": "https://localhost:8080/",
          "height": 1000
        },
        "id": "KCZypvnVYB7I",
        "outputId": "0aaece8f-5aaa-435a-f3ab-952e8a55617d"
      },
      "source": [
        "# Seleccionar tres columnas\n",
        "df_fortune[,c('Company','Sector','Revenue')]"
      ],
      "execution_count": null,
      "outputs": [
        {
          "output_type": "display_data",
          "data": {
            "text/plain": [
              "     Company                           Sector                       Revenue\n",
              "1    Walmart                           Retailing                    482130 \n",
              "2    Exxon Mobil                       Energy                       246204 \n",
              "3    Apple                             Technology                   233715 \n",
              "4    Berkshire Hathaway                Financials                   210821 \n",
              "5    McKesson                          Health Care                  181241 \n",
              "6    UnitedHealth Group                Health Care                  157107 \n",
              "7    CVS Health                        Food and Drug Stores         153290 \n",
              "8    General Motors                    Motor Vehicles & Parts       152356 \n",
              "9    Ford Motor                        Motor Vehicles & Parts       149558 \n",
              "10   AT&T                              Telecommunications           146801 \n",
              "11   General Electric                  Industrials                  140389 \n",
              "12   AmerisourceBergen                 Health Care                  135962 \n",
              "13   Verizon                           Telecommunications           131620 \n",
              "14   Chevron                           Energy                       131118 \n",
              "15   Costco                            Retailing                    116199 \n",
              "16   Fannie Mae                        Financials                   110359 \n",
              "17   Kroger                            Food and Drug Stores         109830 \n",
              "18   Amazon.com                        Technology                   107006 \n",
              "19   Walgreens Boots Alliance          Food and Drug Stores         103444 \n",
              "20   HP                                Technology                   103355 \n",
              "21   Cardinal Health                   Health Care                  102531 \n",
              "22   Express Scripts Holding           Health Care                  101752 \n",
              "23   J.P. Morgan Chase                 Financials                   101006 \n",
              "24   Boeing                            Aerospace & Defense           96114 \n",
              "25   Microsoft                         Technology                    93580 \n",
              "26   Bank of America Corp.             Financials                    93056 \n",
              "27   Wells Fargo                       Financials                    90033 \n",
              "28   Home Depot                        Retailing                     88519 \n",
              "29   Citigroup                         Financials                    88275 \n",
              "30   Phillips 66                       Energy                        87169 \n",
              "⋮    ⋮                                 ⋮                            ⋮      \n",
              "971  VeriFone Systems                  Technology                   2001   \n",
              "972  Genesee & Wyoming                 Transportation               2000   \n",
              "973  99 Cents Only Stores              Retailing                    1999   \n",
              "974  Roadrunner Transportation Systems Transportation               1995   \n",
              "975  Super Micro Computer              Technology                   1991   \n",
              "976  First Republic Bank               Financials                   1989   \n",
              "977  Hill-Rom Holdings                 Health Care                  1988   \n",
              "978  Providence Service                Health Care                  1987   \n",
              "979  Allison Transmission Holdings     Motor Vehicles & Parts       1986   \n",
              "980  Spire                             Energy                       1976   \n",
              "981  WPX Energy                        Energy                       1958   \n",
              "982  Century Aluminum                  Materials                    1950   \n",
              "983  Adams Resources & Energy          Energy                       1944   \n",
              "984  Nuance Communications             Technology                   1931   \n",
              "985  Primoris Services                 Engineering & Construction   1929   \n",
              "986  Schnitzer Steel Industries        Materials                    1924   \n",
              "987  Delta Tucker Holdings             Aerospace & Defense          1923   \n",
              "988  Hospitality Properties Trust      Financials                   1922   \n",
              "989  Cenveo                            Media                        1921   \n",
              "990  F5 Networks                       Technology                   1920   \n",
              "991  BlueLinx Holdings                 Wholesalers                  1917   \n",
              "992  Revlon                            Household Products           1914   \n",
              "993  DeVry Education Group             Business Services            1910   \n",
              "994  MDC Holdings                      Engineering & Construction   1909   \n",
              "995  EP Energy                         Energy                       1908   \n",
              "996  New York Community Bancorp        Financials                   1902   \n",
              "997  Portland General Electric         Energy                       1898   \n",
              "998  Portland General Electric         Energy                       1898   \n",
              "999  Wendy’s                           Hotels, Resturants & Leisure 1896   \n",
              "1000 Briggs & Stratton                 Industrials                  1895   "
            ],
            "text/latex": "A data.table: 1000 × 3\n\\begin{tabular}{lll}\n Company & Sector & Revenue\\\\\n <chr> & <chr> & <int>\\\\\n\\hline\n\t Walmart                  & Retailing              & 482130\\\\\n\t Exxon Mobil              & Energy                 & 246204\\\\\n\t Apple                    & Technology             & 233715\\\\\n\t Berkshire Hathaway       & Financials             & 210821\\\\\n\t McKesson                 & Health Care            & 181241\\\\\n\t UnitedHealth Group       & Health Care            & 157107\\\\\n\t CVS Health               & Food and Drug Stores   & 153290\\\\\n\t General Motors           & Motor Vehicles \\& Parts & 152356\\\\\n\t Ford Motor               & Motor Vehicles \\& Parts & 149558\\\\\n\t AT\\&T                     & Telecommunications     & 146801\\\\\n\t General Electric         & Industrials            & 140389\\\\\n\t AmerisourceBergen        & Health Care            & 135962\\\\\n\t Verizon                  & Telecommunications     & 131620\\\\\n\t Chevron                  & Energy                 & 131118\\\\\n\t Costco                   & Retailing              & 116199\\\\\n\t Fannie Mae               & Financials             & 110359\\\\\n\t Kroger                   & Food and Drug Stores   & 109830\\\\\n\t Amazon.com               & Technology             & 107006\\\\\n\t Walgreens Boots Alliance & Food and Drug Stores   & 103444\\\\\n\t HP                       & Technology             & 103355\\\\\n\t Cardinal Health          & Health Care            & 102531\\\\\n\t Express Scripts Holding  & Health Care            & 101752\\\\\n\t J.P. Morgan Chase        & Financials             & 101006\\\\\n\t Boeing                   & Aerospace \\& Defense    &  96114\\\\\n\t Microsoft                & Technology             &  93580\\\\\n\t Bank of America Corp.    & Financials             &  93056\\\\\n\t Wells Fargo              & Financials             &  90033\\\\\n\t Home Depot               & Retailing              &  88519\\\\\n\t Citigroup                & Financials             &  88275\\\\\n\t Phillips 66              & Energy                 &  87169\\\\\n\t ⋮ & ⋮ & ⋮\\\\\n\t VeriFone Systems                  & Technology                   & 2001\\\\\n\t Genesee \\& Wyoming                 & Transportation               & 2000\\\\\n\t 99 Cents Only Stores              & Retailing                    & 1999\\\\\n\t Roadrunner Transportation Systems & Transportation               & 1995\\\\\n\t Super Micro Computer              & Technology                   & 1991\\\\\n\t First Republic Bank               & Financials                   & 1989\\\\\n\t Hill-Rom Holdings                 & Health Care                  & 1988\\\\\n\t Providence Service                & Health Care                  & 1987\\\\\n\t Allison Transmission Holdings     & Motor Vehicles \\& Parts       & 1986\\\\\n\t Spire                             & Energy                       & 1976\\\\\n\t WPX Energy                        & Energy                       & 1958\\\\\n\t Century Aluminum                  & Materials                    & 1950\\\\\n\t Adams Resources \\& Energy          & Energy                       & 1944\\\\\n\t Nuance Communications             & Technology                   & 1931\\\\\n\t Primoris Services                 & Engineering \\& Construction   & 1929\\\\\n\t Schnitzer Steel Industries        & Materials                    & 1924\\\\\n\t Delta Tucker Holdings             & Aerospace \\& Defense          & 1923\\\\\n\t Hospitality Properties Trust      & Financials                   & 1922\\\\\n\t Cenveo                            & Media                        & 1921\\\\\n\t F5 Networks                       & Technology                   & 1920\\\\\n\t BlueLinx Holdings                 & Wholesalers                  & 1917\\\\\n\t Revlon                            & Household Products           & 1914\\\\\n\t DeVry Education Group             & Business Services            & 1910\\\\\n\t MDC Holdings                      & Engineering \\& Construction   & 1909\\\\\n\t EP Energy                         & Energy                       & 1908\\\\\n\t New York Community Bancorp        & Financials                   & 1902\\\\\n\t Portland General Electric         & Energy                       & 1898\\\\\n\t Portland General Electric         & Energy                       & 1898\\\\\n\t Wendy’s                           & Hotels, Resturants \\& Leisure & 1896\\\\\n\t Briggs \\& Stratton                 & Industrials                  & 1895\\\\\n\\end{tabular}\n",
            "text/markdown": "\nA data.table: 1000 × 3\n\n| Company &lt;chr&gt; | Sector &lt;chr&gt; | Revenue &lt;int&gt; |\n|---|---|---|\n| Walmart                  | Retailing              | 482130 |\n| Exxon Mobil              | Energy                 | 246204 |\n| Apple                    | Technology             | 233715 |\n| Berkshire Hathaway       | Financials             | 210821 |\n| McKesson                 | Health Care            | 181241 |\n| UnitedHealth Group       | Health Care            | 157107 |\n| CVS Health               | Food and Drug Stores   | 153290 |\n| General Motors           | Motor Vehicles &amp; Parts | 152356 |\n| Ford Motor               | Motor Vehicles &amp; Parts | 149558 |\n| AT&amp;T                     | Telecommunications     | 146801 |\n| General Electric         | Industrials            | 140389 |\n| AmerisourceBergen        | Health Care            | 135962 |\n| Verizon                  | Telecommunications     | 131620 |\n| Chevron                  | Energy                 | 131118 |\n| Costco                   | Retailing              | 116199 |\n| Fannie Mae               | Financials             | 110359 |\n| Kroger                   | Food and Drug Stores   | 109830 |\n| Amazon.com               | Technology             | 107006 |\n| Walgreens Boots Alliance | Food and Drug Stores   | 103444 |\n| HP                       | Technology             | 103355 |\n| Cardinal Health          | Health Care            | 102531 |\n| Express Scripts Holding  | Health Care            | 101752 |\n| J.P. Morgan Chase        | Financials             | 101006 |\n| Boeing                   | Aerospace &amp; Defense    |  96114 |\n| Microsoft                | Technology             |  93580 |\n| Bank of America Corp.    | Financials             |  93056 |\n| Wells Fargo              | Financials             |  90033 |\n| Home Depot               | Retailing              |  88519 |\n| Citigroup                | Financials             |  88275 |\n| Phillips 66              | Energy                 |  87169 |\n| ⋮ | ⋮ | ⋮ |\n| VeriFone Systems                  | Technology                   | 2001 |\n| Genesee &amp; Wyoming                 | Transportation               | 2000 |\n| 99 Cents Only Stores              | Retailing                    | 1999 |\n| Roadrunner Transportation Systems | Transportation               | 1995 |\n| Super Micro Computer              | Technology                   | 1991 |\n| First Republic Bank               | Financials                   | 1989 |\n| Hill-Rom Holdings                 | Health Care                  | 1988 |\n| Providence Service                | Health Care                  | 1987 |\n| Allison Transmission Holdings     | Motor Vehicles &amp; Parts       | 1986 |\n| Spire                             | Energy                       | 1976 |\n| WPX Energy                        | Energy                       | 1958 |\n| Century Aluminum                  | Materials                    | 1950 |\n| Adams Resources &amp; Energy          | Energy                       | 1944 |\n| Nuance Communications             | Technology                   | 1931 |\n| Primoris Services                 | Engineering &amp; Construction   | 1929 |\n| Schnitzer Steel Industries        | Materials                    | 1924 |\n| Delta Tucker Holdings             | Aerospace &amp; Defense          | 1923 |\n| Hospitality Properties Trust      | Financials                   | 1922 |\n| Cenveo                            | Media                        | 1921 |\n| F5 Networks                       | Technology                   | 1920 |\n| BlueLinx Holdings                 | Wholesalers                  | 1917 |\n| Revlon                            | Household Products           | 1914 |\n| DeVry Education Group             | Business Services            | 1910 |\n| MDC Holdings                      | Engineering &amp; Construction   | 1909 |\n| EP Energy                         | Energy                       | 1908 |\n| New York Community Bancorp        | Financials                   | 1902 |\n| Portland General Electric         | Energy                       | 1898 |\n| Portland General Electric         | Energy                       | 1898 |\n| Wendy’s                           | Hotels, Resturants &amp; Leisure | 1896 |\n| Briggs &amp; Stratton                 | Industrials                  | 1895 |\n\n",
            "text/html": [
              "<table class=\"dataframe\">\n",
              "<caption>A data.table: 1000 × 3</caption>\n",
              "<thead>\n",
              "\t<tr><th scope=col>Company</th><th scope=col>Sector</th><th scope=col>Revenue</th></tr>\n",
              "\t<tr><th scope=col>&lt;chr&gt;</th><th scope=col>&lt;chr&gt;</th><th scope=col>&lt;int&gt;</th></tr>\n",
              "</thead>\n",
              "<tbody>\n",
              "\t<tr><td>Walmart                 </td><td>Retailing             </td><td>482130</td></tr>\n",
              "\t<tr><td>Exxon Mobil             </td><td>Energy                </td><td>246204</td></tr>\n",
              "\t<tr><td>Apple                   </td><td>Technology            </td><td>233715</td></tr>\n",
              "\t<tr><td>Berkshire Hathaway      </td><td>Financials            </td><td>210821</td></tr>\n",
              "\t<tr><td>McKesson                </td><td>Health Care           </td><td>181241</td></tr>\n",
              "\t<tr><td>UnitedHealth Group      </td><td>Health Care           </td><td>157107</td></tr>\n",
              "\t<tr><td>CVS Health              </td><td>Food and Drug Stores  </td><td>153290</td></tr>\n",
              "\t<tr><td><span style=white-space:pre-wrap>General Motors          </span></td><td>Motor Vehicles &amp; Parts</td><td>152356</td></tr>\n",
              "\t<tr><td><span style=white-space:pre-wrap>Ford Motor              </span></td><td>Motor Vehicles &amp; Parts</td><td>149558</td></tr>\n",
              "\t<tr><td><span style=white-space:pre-wrap>AT&amp;T                    </span></td><td><span style=white-space:pre-wrap>Telecommunications    </span></td><td>146801</td></tr>\n",
              "\t<tr><td>General Electric        </td><td>Industrials           </td><td>140389</td></tr>\n",
              "\t<tr><td>AmerisourceBergen       </td><td>Health Care           </td><td>135962</td></tr>\n",
              "\t<tr><td>Verizon                 </td><td>Telecommunications    </td><td>131620</td></tr>\n",
              "\t<tr><td>Chevron                 </td><td>Energy                </td><td>131118</td></tr>\n",
              "\t<tr><td>Costco                  </td><td>Retailing             </td><td>116199</td></tr>\n",
              "\t<tr><td>Fannie Mae              </td><td>Financials            </td><td>110359</td></tr>\n",
              "\t<tr><td>Kroger                  </td><td>Food and Drug Stores  </td><td>109830</td></tr>\n",
              "\t<tr><td>Amazon.com              </td><td>Technology            </td><td>107006</td></tr>\n",
              "\t<tr><td>Walgreens Boots Alliance</td><td>Food and Drug Stores  </td><td>103444</td></tr>\n",
              "\t<tr><td>HP                      </td><td>Technology            </td><td>103355</td></tr>\n",
              "\t<tr><td>Cardinal Health         </td><td>Health Care           </td><td>102531</td></tr>\n",
              "\t<tr><td>Express Scripts Holding </td><td>Health Care           </td><td>101752</td></tr>\n",
              "\t<tr><td>J.P. Morgan Chase       </td><td>Financials            </td><td>101006</td></tr>\n",
              "\t<tr><td><span style=white-space:pre-wrap>Boeing                  </span></td><td><span style=white-space:pre-wrap>Aerospace &amp; Defense   </span></td><td> 96114</td></tr>\n",
              "\t<tr><td>Microsoft               </td><td>Technology            </td><td> 93580</td></tr>\n",
              "\t<tr><td>Bank of America Corp.   </td><td>Financials            </td><td> 93056</td></tr>\n",
              "\t<tr><td>Wells Fargo             </td><td>Financials            </td><td> 90033</td></tr>\n",
              "\t<tr><td>Home Depot              </td><td>Retailing             </td><td> 88519</td></tr>\n",
              "\t<tr><td>Citigroup               </td><td>Financials            </td><td> 88275</td></tr>\n",
              "\t<tr><td>Phillips 66             </td><td>Energy                </td><td> 87169</td></tr>\n",
              "\t<tr><td>⋮</td><td>⋮</td><td>⋮</td></tr>\n",
              "\t<tr><td>VeriFone Systems                 </td><td>Technology                  </td><td>2001</td></tr>\n",
              "\t<tr><td><span style=white-space:pre-wrap>Genesee &amp; Wyoming                </span></td><td><span style=white-space:pre-wrap>Transportation              </span></td><td>2000</td></tr>\n",
              "\t<tr><td>99 Cents Only Stores             </td><td>Retailing                   </td><td>1999</td></tr>\n",
              "\t<tr><td>Roadrunner Transportation Systems</td><td>Transportation              </td><td>1995</td></tr>\n",
              "\t<tr><td>Super Micro Computer             </td><td>Technology                  </td><td>1991</td></tr>\n",
              "\t<tr><td>First Republic Bank              </td><td>Financials                  </td><td>1989</td></tr>\n",
              "\t<tr><td>Hill-Rom Holdings                </td><td>Health Care                 </td><td>1988</td></tr>\n",
              "\t<tr><td>Providence Service               </td><td>Health Care                 </td><td>1987</td></tr>\n",
              "\t<tr><td><span style=white-space:pre-wrap>Allison Transmission Holdings    </span></td><td><span style=white-space:pre-wrap>Motor Vehicles &amp; Parts      </span></td><td>1986</td></tr>\n",
              "\t<tr><td>Spire                            </td><td>Energy                      </td><td>1976</td></tr>\n",
              "\t<tr><td>WPX Energy                       </td><td>Energy                      </td><td>1958</td></tr>\n",
              "\t<tr><td>Century Aluminum                 </td><td>Materials                   </td><td>1950</td></tr>\n",
              "\t<tr><td><span style=white-space:pre-wrap>Adams Resources &amp; Energy         </span></td><td><span style=white-space:pre-wrap>Energy                      </span></td><td>1944</td></tr>\n",
              "\t<tr><td>Nuance Communications            </td><td>Technology                  </td><td>1931</td></tr>\n",
              "\t<tr><td><span style=white-space:pre-wrap>Primoris Services                </span></td><td><span style=white-space:pre-wrap>Engineering &amp; Construction  </span></td><td>1929</td></tr>\n",
              "\t<tr><td>Schnitzer Steel Industries       </td><td>Materials                   </td><td>1924</td></tr>\n",
              "\t<tr><td><span style=white-space:pre-wrap>Delta Tucker Holdings            </span></td><td><span style=white-space:pre-wrap>Aerospace &amp; Defense         </span></td><td>1923</td></tr>\n",
              "\t<tr><td>Hospitality Properties Trust     </td><td>Financials                  </td><td>1922</td></tr>\n",
              "\t<tr><td>Cenveo                           </td><td>Media                       </td><td>1921</td></tr>\n",
              "\t<tr><td>F5 Networks                      </td><td>Technology                  </td><td>1920</td></tr>\n",
              "\t<tr><td>BlueLinx Holdings                </td><td>Wholesalers                 </td><td>1917</td></tr>\n",
              "\t<tr><td>Revlon                           </td><td>Household Products          </td><td>1914</td></tr>\n",
              "\t<tr><td>DeVry Education Group            </td><td>Business Services           </td><td>1910</td></tr>\n",
              "\t<tr><td><span style=white-space:pre-wrap>MDC Holdings                     </span></td><td><span style=white-space:pre-wrap>Engineering &amp; Construction  </span></td><td>1909</td></tr>\n",
              "\t<tr><td>EP Energy                        </td><td>Energy                      </td><td>1908</td></tr>\n",
              "\t<tr><td>New York Community Bancorp       </td><td>Financials                  </td><td>1902</td></tr>\n",
              "\t<tr><td>Portland General Electric        </td><td>Energy                      </td><td>1898</td></tr>\n",
              "\t<tr><td>Portland General Electric        </td><td>Energy                      </td><td>1898</td></tr>\n",
              "\t<tr><td><span style=white-space:pre-wrap>Wendy’s                          </span></td><td>Hotels, Resturants &amp; Leisure</td><td>1896</td></tr>\n",
              "\t<tr><td><span style=white-space:pre-wrap>Briggs &amp; Stratton                </span></td><td><span style=white-space:pre-wrap>Industrials                 </span></td><td>1895</td></tr>\n",
              "</tbody>\n",
              "</table>\n"
            ]
          },
          "metadata": {
            "tags": []
          }
        }
      ]
    },
    {
      "cell_type": "code",
      "metadata": {
        "colab": {
          "base_uri": "https://localhost:8080/",
          "height": 503
        },
        "id": "w8ji7xBMeMU1",
        "outputId": "5e1ff632-debe-4eae-f1f4-e92f0615b7c0"
      },
      "source": [
        "df_fortune$\"profits_per_employee\" = df_fortune$Profits / df_fortune$Employees\n",
        "head(df_fortune)"
      ],
      "execution_count": null,
      "outputs": [
        {
          "output_type": "display_data",
          "data": {
            "text/plain": [
              "  Rank Company            Sector      Industry                                \n",
              "1 1    Walmart            Retailing   General Merchandisers                   \n",
              "2 2    Exxon Mobil        Energy      Petroleum Refining                      \n",
              "3 3    Apple              Technology  Computers, Office Equipment             \n",
              "4 4    Berkshire Hathaway Financials  Insurance: Property and Casualty (Stock)\n",
              "5 5    McKesson           Health Care Wholesalers: Health Care                \n",
              "6 6    UnitedHealth Group Health Care Health Care: Insurance and Managed Care \n",
              "  Location          Revenue Profits Employees profits_per_employee\n",
              "1 Bentonville, AR   482130  14694   2300000   0.006388696         \n",
              "2 Irving, TX        246204  16150     75600   0.213624339         \n",
              "3 Cupertino, CA     233715  53394    110000   0.485400000         \n",
              "4 Omaha, NE         210821  24083    331000   0.072758308         \n",
              "5 San Francisco, CA 181241   1476     70400   0.020965909         \n",
              "6 Minnetonka, MN    157107   5813    200000   0.029065000         "
            ],
            "text/latex": "A data.table: 6 × 9\n\\begin{tabular}{lllllllll}\n Rank & Company & Sector & Industry & Location & Revenue & Profits & Employees & profits\\_per\\_employee\\\\\n <int> & <chr> & <chr> & <chr> & <chr> & <int> & <int> & <int> & <dbl>\\\\\n\\hline\n\t 1 & Walmart            & Retailing   & General Merchandisers                    & Bentonville, AR   & 482130 & 14694 & 2300000 & 0.006388696\\\\\n\t 2 & Exxon Mobil        & Energy      & Petroleum Refining                       & Irving, TX        & 246204 & 16150 &   75600 & 0.213624339\\\\\n\t 3 & Apple              & Technology  & Computers, Office Equipment              & Cupertino, CA     & 233715 & 53394 &  110000 & 0.485400000\\\\\n\t 4 & Berkshire Hathaway & Financials  & Insurance: Property and Casualty (Stock) & Omaha, NE         & 210821 & 24083 &  331000 & 0.072758308\\\\\n\t 5 & McKesson           & Health Care & Wholesalers: Health Care                 & San Francisco, CA & 181241 &  1476 &   70400 & 0.020965909\\\\\n\t 6 & UnitedHealth Group & Health Care & Health Care: Insurance and Managed Care  & Minnetonka, MN    & 157107 &  5813 &  200000 & 0.029065000\\\\\n\\end{tabular}\n",
            "text/markdown": "\nA data.table: 6 × 9\n\n| Rank &lt;int&gt; | Company &lt;chr&gt; | Sector &lt;chr&gt; | Industry &lt;chr&gt; | Location &lt;chr&gt; | Revenue &lt;int&gt; | Profits &lt;int&gt; | Employees &lt;int&gt; | profits_per_employee &lt;dbl&gt; |\n|---|---|---|---|---|---|---|---|---|\n| 1 | Walmart            | Retailing   | General Merchandisers                    | Bentonville, AR   | 482130 | 14694 | 2300000 | 0.006388696 |\n| 2 | Exxon Mobil        | Energy      | Petroleum Refining                       | Irving, TX        | 246204 | 16150 |   75600 | 0.213624339 |\n| 3 | Apple              | Technology  | Computers, Office Equipment              | Cupertino, CA     | 233715 | 53394 |  110000 | 0.485400000 |\n| 4 | Berkshire Hathaway | Financials  | Insurance: Property and Casualty (Stock) | Omaha, NE         | 210821 | 24083 |  331000 | 0.072758308 |\n| 5 | McKesson           | Health Care | Wholesalers: Health Care                 | San Francisco, CA | 181241 |  1476 |   70400 | 0.020965909 |\n| 6 | UnitedHealth Group | Health Care | Health Care: Insurance and Managed Care  | Minnetonka, MN    | 157107 |  5813 |  200000 | 0.029065000 |\n\n",
            "text/html": [
              "<table class=\"dataframe\">\n",
              "<caption>A data.table: 6 × 9</caption>\n",
              "<thead>\n",
              "\t<tr><th scope=col>Rank</th><th scope=col>Company</th><th scope=col>Sector</th><th scope=col>Industry</th><th scope=col>Location</th><th scope=col>Revenue</th><th scope=col>Profits</th><th scope=col>Employees</th><th scope=col>profits_per_employee</th></tr>\n",
              "\t<tr><th scope=col>&lt;int&gt;</th><th scope=col>&lt;chr&gt;</th><th scope=col>&lt;chr&gt;</th><th scope=col>&lt;chr&gt;</th><th scope=col>&lt;chr&gt;</th><th scope=col>&lt;int&gt;</th><th scope=col>&lt;int&gt;</th><th scope=col>&lt;int&gt;</th><th scope=col>&lt;dbl&gt;</th></tr>\n",
              "</thead>\n",
              "<tbody>\n",
              "\t<tr><td>1</td><td>Walmart           </td><td>Retailing  </td><td>General Merchandisers                   </td><td>Bentonville, AR  </td><td>482130</td><td>14694</td><td>2300000</td><td>0.006388696</td></tr>\n",
              "\t<tr><td>2</td><td>Exxon Mobil       </td><td>Energy     </td><td>Petroleum Refining                      </td><td>Irving, TX       </td><td>246204</td><td>16150</td><td>  75600</td><td>0.213624339</td></tr>\n",
              "\t<tr><td>3</td><td>Apple             </td><td>Technology </td><td>Computers, Office Equipment             </td><td>Cupertino, CA    </td><td>233715</td><td>53394</td><td> 110000</td><td>0.485400000</td></tr>\n",
              "\t<tr><td>4</td><td>Berkshire Hathaway</td><td>Financials </td><td>Insurance: Property and Casualty (Stock)</td><td>Omaha, NE        </td><td>210821</td><td>24083</td><td> 331000</td><td>0.072758308</td></tr>\n",
              "\t<tr><td>5</td><td>McKesson          </td><td>Health Care</td><td>Wholesalers: Health Care                </td><td>San Francisco, CA</td><td>181241</td><td> 1476</td><td>  70400</td><td>0.020965909</td></tr>\n",
              "\t<tr><td>6</td><td>UnitedHealth Group</td><td>Health Care</td><td>Health Care: Insurance and Managed Care </td><td>Minnetonka, MN   </td><td>157107</td><td> 5813</td><td> 200000</td><td>0.029065000</td></tr>\n",
              "</tbody>\n",
              "</table>\n"
            ]
          },
          "metadata": {
            "tags": []
          }
        }
      ]
    },
    {
      "cell_type": "code",
      "metadata": {
        "colab": {
          "base_uri": "https://localhost:8080/"
        },
        "id": "zAsD9ju2gl9I",
        "outputId": "8fe4703d-3f46-4860-ce9d-b027fc7338fc"
      },
      "source": [
        "# Cambiamos nombre de una columna\n",
        "colnames(df_fortune)[6] = 'Company_Revenue'\n",
        "glimpse(df_fortune)"
      ],
      "execution_count": null,
      "outputs": [
        {
          "output_type": "stream",
          "text": [
            "Rows: 1,000\n",
            "Columns: 9\n",
            "$ Rank                 \u001b[3m\u001b[90m<int>\u001b[39m\u001b[23m 1, 2, 3, 4, 5, 6, 7, 8, 9, 10, 11, 12, 13, 14, 15…\n",
            "$ Company              \u001b[3m\u001b[90m<chr>\u001b[39m\u001b[23m \"Walmart\", \"Exxon Mobil\", \"Apple\", \"Berkshire Hat…\n",
            "$ Sector               \u001b[3m\u001b[90m<chr>\u001b[39m\u001b[23m \"Retailing\", \"Energy\", \"Technology\", \"Financials\"…\n",
            "$ Industry             \u001b[3m\u001b[90m<chr>\u001b[39m\u001b[23m \"General Merchandisers\", \"Petroleum Refining\", \"C…\n",
            "$ Location             \u001b[3m\u001b[90m<chr>\u001b[39m\u001b[23m \"Bentonville, AR\", \"Irving, TX\", \"Cupertino, CA\",…\n",
            "$ Company_Revenue      \u001b[3m\u001b[90m<int>\u001b[39m\u001b[23m 482130, 246204, 233715, 210821, 181241, 157107, 1…\n",
            "$ Profits              \u001b[3m\u001b[90m<int>\u001b[39m\u001b[23m 14694, 16150, 53394, 24083, 1476, 5813, 5237, 968…\n",
            "$ Employees            \u001b[3m\u001b[90m<int>\u001b[39m\u001b[23m 2300000, 75600, 110000, 331000, 70400, 200000, 19…\n",
            "$ profits_per_employee \u001b[3m\u001b[90m<dbl>\u001b[39m\u001b[23m 0.006388696, 0.213624339, 0.485400000, 0.07275830…\n"
          ],
          "name": "stdout"
        }
      ]
    },
    {
      "cell_type": "markdown",
      "metadata": {
        "id": "HsV7W7tlCXCk"
      },
      "source": [
        "#### EX 1B\n",
        "Utilizar comandos de R Base (no utilizar dplyr) para seleccionar películas de James Bond entre 1980 y 1999; también aquellas cuyo actor sea Sean Connery. Exportar resultado en formato csv.\n",
        "\n",
        "Dataset > https://data-wizards.s3.amazonaws.com/datasets/jamesbond.csv\n"
      ]
    },
    {
      "cell_type": "code",
      "metadata": {
        "id": "4iBgUCB7CYEL",
        "colab": {
          "base_uri": "https://localhost:8080/"
        },
        "outputId": "73ac4a17-978b-43dd-98dd-9a4c36fe0613"
      },
      "source": [
        "# Importamos df\n",
        "df_james_bond = data.table::fread(\"https://data-wizards.s3.amazonaws.com/datasets/jamesbond.csv\")\n",
        "glimpse(df_james_bond)"
      ],
      "execution_count": null,
      "outputs": [
        {
          "output_type": "stream",
          "text": [
            "Rows: 26\n",
            "Columns: 7\n",
            "$ Film                \u001b[3m\u001b[90m<chr>\u001b[39m\u001b[23m \"Dr. No\", \"From Russia with Love\", \"Goldfinger\", \"…\n",
            "$ Year                \u001b[3m\u001b[90m<int>\u001b[39m\u001b[23m 1962, 1963, 1964, 1965, 1967, 1967, 1969, 1971, 19…\n",
            "$ Actor               \u001b[3m\u001b[90m<chr>\u001b[39m\u001b[23m \"Sean Connery\", \"Sean Connery\", \"Sean Connery\", \"S…\n",
            "$ Director            \u001b[3m\u001b[90m<chr>\u001b[39m\u001b[23m \"Terence Young\", \"Terence Young\", \"Guy Hamilton\", …\n",
            "$ `Box Office`        \u001b[3m\u001b[90m<dbl>\u001b[39m\u001b[23m 448.8, 543.8, 820.4, 848.1, 315.0, 514.2, 291.5, 4…\n",
            "$ Budget              \u001b[3m\u001b[90m<dbl>\u001b[39m\u001b[23m 7.0, 12.6, 18.6, 41.9, 85.0, 59.9, 37.3, 34.7, 30.…\n",
            "$ `Bond Actor Salary` \u001b[3m\u001b[90m<dbl>\u001b[39m\u001b[23m 0.6, 1.6, 3.2, 4.7, NA, 4.4, 0.6, 5.8, NA, NA, NA,…\n"
          ],
          "name": "stdout"
        }
      ]
    },
    {
      "cell_type": "code",
      "metadata": {
        "id": "dd36i4UtUMma",
        "colab": {
          "base_uri": "https://localhost:8080/",
          "height": 777
        },
        "outputId": "3f2ecd3e-302f-4593-d383-58d81a5f7593"
      },
      "source": [
        "# Solución\n",
        "cond_1 = df_james_bond$Year >= 1980\n",
        "cond_2 = df_james_bond$Year < 2000\n",
        "cond_3 = df_james_bond$Actor == 'Sean Connery'\n",
        "\n",
        "df = df_james_bond[(cond_1 & cond_2)|cond_3,] # observar que la primera condición se compone de dos (sub)condiciones: cond_1 y cond_2\n",
        "df # invocamos objeto"
      ],
      "execution_count": null,
      "outputs": [
        {
          "output_type": "display_data",
          "data": {
            "text/plain": [
              "   Film                    Year Actor          Director           Box Office\n",
              "1  Dr. No                  1962 Sean Connery   Terence Young      448.8     \n",
              "2  From Russia with Love   1963 Sean Connery   Terence Young      543.8     \n",
              "3  Goldfinger              1964 Sean Connery   Guy Hamilton       820.4     \n",
              "4  Thunderball             1965 Sean Connery   Terence Young      848.1     \n",
              "5  You Only Live Twice     1967 Sean Connery   Lewis Gilbert      514.2     \n",
              "6  Diamonds Are Forever    1971 Sean Connery   Guy Hamilton       442.5     \n",
              "7  For Your Eyes Only      1981 Roger Moore    John Glen          449.4     \n",
              "8  Never Say Never Again   1983 Sean Connery   Irvin Kershner     380.0     \n",
              "9  Octopussy               1983 Roger Moore    John Glen          373.8     \n",
              "10 A View to a Kill        1985 Roger Moore    John Glen          275.2     \n",
              "11 The Living Daylights    1987 Timothy Dalton John Glen          313.5     \n",
              "12 Licence to Kill         1989 Timothy Dalton John Glen          250.9     \n",
              "13 GoldenEye               1995 Pierce Brosnan Martin Campbell    518.5     \n",
              "14 Tomorrow Never Dies     1997 Pierce Brosnan Roger Spottiswoode 463.2     \n",
              "15 The World Is Not Enough 1999 Pierce Brosnan Michael Apted      439.5     \n",
              "   Budget Bond Actor Salary\n",
              "1    7.0   0.6             \n",
              "2   12.6   1.6             \n",
              "3   18.6   3.2             \n",
              "4   41.9   4.7             \n",
              "5   59.9   4.4             \n",
              "6   34.7   5.8             \n",
              "7   60.2    NA             \n",
              "8   86.0    NA             \n",
              "9   53.9   7.8             \n",
              "10  54.5   9.1             \n",
              "11  68.8   5.2             \n",
              "12  56.7   7.9             \n",
              "13  76.9   5.1             \n",
              "14 133.9  10.0             \n",
              "15 158.3  13.5             "
            ],
            "text/latex": "A data.table: 15 × 7\n\\begin{tabular}{lllllll}\n Film & Year & Actor & Director & Box Office & Budget & Bond Actor Salary\\\\\n <chr> & <int> & <chr> & <chr> & <dbl> & <dbl> & <dbl>\\\\\n\\hline\n\t Dr. No                  & 1962 & Sean Connery   & Terence Young      & 448.8 &   7.0 &  0.6\\\\\n\t From Russia with Love   & 1963 & Sean Connery   & Terence Young      & 543.8 &  12.6 &  1.6\\\\\n\t Goldfinger              & 1964 & Sean Connery   & Guy Hamilton       & 820.4 &  18.6 &  3.2\\\\\n\t Thunderball             & 1965 & Sean Connery   & Terence Young      & 848.1 &  41.9 &  4.7\\\\\n\t You Only Live Twice     & 1967 & Sean Connery   & Lewis Gilbert      & 514.2 &  59.9 &  4.4\\\\\n\t Diamonds Are Forever    & 1971 & Sean Connery   & Guy Hamilton       & 442.5 &  34.7 &  5.8\\\\\n\t For Your Eyes Only      & 1981 & Roger Moore    & John Glen          & 449.4 &  60.2 &   NA\\\\\n\t Never Say Never Again   & 1983 & Sean Connery   & Irvin Kershner     & 380.0 &  86.0 &   NA\\\\\n\t Octopussy               & 1983 & Roger Moore    & John Glen          & 373.8 &  53.9 &  7.8\\\\\n\t A View to a Kill        & 1985 & Roger Moore    & John Glen          & 275.2 &  54.5 &  9.1\\\\\n\t The Living Daylights    & 1987 & Timothy Dalton & John Glen          & 313.5 &  68.8 &  5.2\\\\\n\t Licence to Kill         & 1989 & Timothy Dalton & John Glen          & 250.9 &  56.7 &  7.9\\\\\n\t GoldenEye               & 1995 & Pierce Brosnan & Martin Campbell    & 518.5 &  76.9 &  5.1\\\\\n\t Tomorrow Never Dies     & 1997 & Pierce Brosnan & Roger Spottiswoode & 463.2 & 133.9 & 10.0\\\\\n\t The World Is Not Enough & 1999 & Pierce Brosnan & Michael Apted      & 439.5 & 158.3 & 13.5\\\\\n\\end{tabular}\n",
            "text/markdown": "\nA data.table: 15 × 7\n\n| Film &lt;chr&gt; | Year &lt;int&gt; | Actor &lt;chr&gt; | Director &lt;chr&gt; | Box Office &lt;dbl&gt; | Budget &lt;dbl&gt; | Bond Actor Salary &lt;dbl&gt; |\n|---|---|---|---|---|---|---|\n| Dr. No                  | 1962 | Sean Connery   | Terence Young      | 448.8 |   7.0 |  0.6 |\n| From Russia with Love   | 1963 | Sean Connery   | Terence Young      | 543.8 |  12.6 |  1.6 |\n| Goldfinger              | 1964 | Sean Connery   | Guy Hamilton       | 820.4 |  18.6 |  3.2 |\n| Thunderball             | 1965 | Sean Connery   | Terence Young      | 848.1 |  41.9 |  4.7 |\n| You Only Live Twice     | 1967 | Sean Connery   | Lewis Gilbert      | 514.2 |  59.9 |  4.4 |\n| Diamonds Are Forever    | 1971 | Sean Connery   | Guy Hamilton       | 442.5 |  34.7 |  5.8 |\n| For Your Eyes Only      | 1981 | Roger Moore    | John Glen          | 449.4 |  60.2 |   NA |\n| Never Say Never Again   | 1983 | Sean Connery   | Irvin Kershner     | 380.0 |  86.0 |   NA |\n| Octopussy               | 1983 | Roger Moore    | John Glen          | 373.8 |  53.9 |  7.8 |\n| A View to a Kill        | 1985 | Roger Moore    | John Glen          | 275.2 |  54.5 |  9.1 |\n| The Living Daylights    | 1987 | Timothy Dalton | John Glen          | 313.5 |  68.8 |  5.2 |\n| Licence to Kill         | 1989 | Timothy Dalton | John Glen          | 250.9 |  56.7 |  7.9 |\n| GoldenEye               | 1995 | Pierce Brosnan | Martin Campbell    | 518.5 |  76.9 |  5.1 |\n| Tomorrow Never Dies     | 1997 | Pierce Brosnan | Roger Spottiswoode | 463.2 | 133.9 | 10.0 |\n| The World Is Not Enough | 1999 | Pierce Brosnan | Michael Apted      | 439.5 | 158.3 | 13.5 |\n\n",
            "text/html": [
              "<table class=\"dataframe\">\n",
              "<caption>A data.table: 15 × 7</caption>\n",
              "<thead>\n",
              "\t<tr><th scope=col>Film</th><th scope=col>Year</th><th scope=col>Actor</th><th scope=col>Director</th><th scope=col>Box Office</th><th scope=col>Budget</th><th scope=col>Bond Actor Salary</th></tr>\n",
              "\t<tr><th scope=col>&lt;chr&gt;</th><th scope=col>&lt;int&gt;</th><th scope=col>&lt;chr&gt;</th><th scope=col>&lt;chr&gt;</th><th scope=col>&lt;dbl&gt;</th><th scope=col>&lt;dbl&gt;</th><th scope=col>&lt;dbl&gt;</th></tr>\n",
              "</thead>\n",
              "<tbody>\n",
              "\t<tr><td>Dr. No                 </td><td>1962</td><td>Sean Connery  </td><td>Terence Young     </td><td>448.8</td><td>  7.0</td><td> 0.6</td></tr>\n",
              "\t<tr><td>From Russia with Love  </td><td>1963</td><td>Sean Connery  </td><td>Terence Young     </td><td>543.8</td><td> 12.6</td><td> 1.6</td></tr>\n",
              "\t<tr><td>Goldfinger             </td><td>1964</td><td>Sean Connery  </td><td>Guy Hamilton      </td><td>820.4</td><td> 18.6</td><td> 3.2</td></tr>\n",
              "\t<tr><td>Thunderball            </td><td>1965</td><td>Sean Connery  </td><td>Terence Young     </td><td>848.1</td><td> 41.9</td><td> 4.7</td></tr>\n",
              "\t<tr><td>You Only Live Twice    </td><td>1967</td><td>Sean Connery  </td><td>Lewis Gilbert     </td><td>514.2</td><td> 59.9</td><td> 4.4</td></tr>\n",
              "\t<tr><td>Diamonds Are Forever   </td><td>1971</td><td>Sean Connery  </td><td>Guy Hamilton      </td><td>442.5</td><td> 34.7</td><td> 5.8</td></tr>\n",
              "\t<tr><td>For Your Eyes Only     </td><td>1981</td><td>Roger Moore   </td><td>John Glen         </td><td>449.4</td><td> 60.2</td><td>  NA</td></tr>\n",
              "\t<tr><td>Never Say Never Again  </td><td>1983</td><td>Sean Connery  </td><td>Irvin Kershner    </td><td>380.0</td><td> 86.0</td><td>  NA</td></tr>\n",
              "\t<tr><td>Octopussy              </td><td>1983</td><td>Roger Moore   </td><td>John Glen         </td><td>373.8</td><td> 53.9</td><td> 7.8</td></tr>\n",
              "\t<tr><td>A View to a Kill       </td><td>1985</td><td>Roger Moore   </td><td>John Glen         </td><td>275.2</td><td> 54.5</td><td> 9.1</td></tr>\n",
              "\t<tr><td>The Living Daylights   </td><td>1987</td><td>Timothy Dalton</td><td>John Glen         </td><td>313.5</td><td> 68.8</td><td> 5.2</td></tr>\n",
              "\t<tr><td>Licence to Kill        </td><td>1989</td><td>Timothy Dalton</td><td>John Glen         </td><td>250.9</td><td> 56.7</td><td> 7.9</td></tr>\n",
              "\t<tr><td>GoldenEye              </td><td>1995</td><td>Pierce Brosnan</td><td>Martin Campbell   </td><td>518.5</td><td> 76.9</td><td> 5.1</td></tr>\n",
              "\t<tr><td>Tomorrow Never Dies    </td><td>1997</td><td>Pierce Brosnan</td><td>Roger Spottiswoode</td><td>463.2</td><td>133.9</td><td>10.0</td></tr>\n",
              "\t<tr><td>The World Is Not Enough</td><td>1999</td><td>Pierce Brosnan</td><td>Michael Apted     </td><td>439.5</td><td>158.3</td><td>13.5</td></tr>\n",
              "</tbody>\n",
              "</table>\n"
            ]
          },
          "metadata": {
            "tags": []
          }
        }
      ]
    },
    {
      "cell_type": "code",
      "metadata": {
        "id": "APtuhE3wUTOf"
      },
      "source": [
        "# exportamos a directorio de trabajo\n",
        "write_csv(df,\"output.csv\")"
      ],
      "execution_count": null,
      "outputs": []
    },
    {
      "cell_type": "markdown",
      "metadata": {
        "id": "f56yerbrUevr"
      },
      "source": [
        "#### EX 1C \n",
        "Ejercicios:\n",
        "*   Importar dataframe. Seleccionar las primeras 10 filas para las primeras tres columnas del dataframe\n",
        "*   Seleccionar películas producidas fuera de USA, con IMDB score mayor a 8 y dirigidas por alguno de lo siguientes directores: James Cameron, Peter Jackson, Tim Burton\n",
        "\n",
        "Dataset > https://data-wizards.s3.amazonaws.com/datasets/movies.csv\n",
        "\n"
      ]
    },
    {
      "cell_type": "code",
      "metadata": {
        "colab": {
          "base_uri": "https://localhost:8080/"
        },
        "id": "Nda9qsImUgvz",
        "outputId": "46a59270-5b4d-4185-f2a8-0f25f32d0c04"
      },
      "source": [
        "# Importamos df\n",
        "df_movies = data.table::fread(\"https://data-wizards.s3.amazonaws.com/datasets/movies.csv\")\n",
        "glimpse(df_movies)"
      ],
      "execution_count": null,
      "outputs": [
        {
          "output_type": "stream",
          "text": [
            "Rows: 4,916\n",
            "Columns: 28\n",
            "$ color                     \u001b[3m\u001b[90m<chr>\u001b[39m\u001b[23m \"Color\", \"Color\", \"Color\", \"Color\", \"\", \"Col…\n",
            "$ director_name             \u001b[3m\u001b[90m<chr>\u001b[39m\u001b[23m \"James Cameron\", \"Gore Verbinski\", \"Sam Mend…\n",
            "$ num_critic_for_reviews    \u001b[3m\u001b[90m<int>\u001b[39m\u001b[23m 723, 302, 602, 813, NA, 462, 392, 324, 635, …\n",
            "$ duration                  \u001b[3m\u001b[90m<int>\u001b[39m\u001b[23m 178, 169, 148, 164, NA, 132, 156, 100, 141, …\n",
            "$ director_facebook_likes   \u001b[3m\u001b[90m<int>\u001b[39m\u001b[23m 0, 563, 0, 22000, 131, 475, 0, 15, 0, 282, 0…\n",
            "$ actor_3_facebook_likes    \u001b[3m\u001b[90m<int>\u001b[39m\u001b[23m 855, 1000, 161, 23000, NA, 530, 4000, 284, 1…\n",
            "$ actor_2_name              \u001b[3m\u001b[90m<chr>\u001b[39m\u001b[23m \"Joel David Moore\", \"Orlando Bloom\", \"Rory K…\n",
            "$ actor_1_facebook_likes    \u001b[3m\u001b[90m<int>\u001b[39m\u001b[23m 1000, 40000, 11000, 27000, 131, 640, 24000, …\n",
            "$ gross                     \u001b[3m\u001b[90m<dbl>\u001b[39m\u001b[23m 760505847, 309404152, 200074175, 448130642, …\n",
            "$ genres                    \u001b[3m\u001b[90m<chr>\u001b[39m\u001b[23m \"Action|Adventure|Fantasy|Sci-Fi\", \"Action|A…\n",
            "$ actor_1_name              \u001b[3m\u001b[90m<chr>\u001b[39m\u001b[23m \"CCH Pounder\", \"Johnny Depp\", \"Christoph Wal…\n",
            "$ movie_title               \u001b[3m\u001b[90m<chr>\u001b[39m\u001b[23m \"Avatar\", \"Pirates of the Caribbean: At Worl…\n",
            "$ num_voted_users           \u001b[3m\u001b[90m<int>\u001b[39m\u001b[23m 886204, 471220, 275868, 1144337, 8, 212204, …\n",
            "$ cast_total_facebook_likes \u001b[3m\u001b[90m<int>\u001b[39m\u001b[23m 4834, 48350, 11700, 106759, 143, 1873, 46055…\n",
            "$ actor_3_name              \u001b[3m\u001b[90m<chr>\u001b[39m\u001b[23m \"Wes Studi\", \"Jack Davenport\", \"Stephanie Si…\n",
            "$ facenumber_in_poster      \u001b[3m\u001b[90m<int>\u001b[39m\u001b[23m 0, 0, 1, 0, 0, 1, 0, 1, 4, 3, 0, 0, 1, 2, 1,…\n",
            "$ plot_keywords             \u001b[3m\u001b[90m<chr>\u001b[39m\u001b[23m \"avatar|future|marine|native|paraplegic\", \"g…\n",
            "$ movie_imdb_link           \u001b[3m\u001b[90m<chr>\u001b[39m\u001b[23m \"http://www.imdb.com/title/tt0499549/?ref_=f…\n",
            "$ num_user_for_reviews      \u001b[3m\u001b[90m<int>\u001b[39m\u001b[23m 3054, 1238, 994, 2701, NA, 738, 1902, 387, 1…\n",
            "$ language                  \u001b[3m\u001b[90m<chr>\u001b[39m\u001b[23m \"English\", \"English\", \"English\", \"English\", …\n",
            "$ country                   \u001b[3m\u001b[90m<chr>\u001b[39m\u001b[23m \"USA\", \"USA\", \"UK\", \"USA\", \"\", \"USA\", \"USA\",…\n",
            "$ content_rating            \u001b[3m\u001b[90m<chr>\u001b[39m\u001b[23m \"PG-13\", \"PG-13\", \"PG-13\", \"PG-13\", \"\", \"PG-…\n",
            "$ budget                    \u001b[3m\u001b[90m<dbl>\u001b[39m\u001b[23m 237000000, 300000000, 245000000, 250000000, …\n",
            "$ title_year                \u001b[3m\u001b[90m<int>\u001b[39m\u001b[23m 2009, 2007, 2015, 2012, NA, 2012, 2007, 2010…\n",
            "$ actor_2_facebook_likes    \u001b[3m\u001b[90m<int>\u001b[39m\u001b[23m 936, 5000, 393, 23000, 12, 632, 11000, 553, …\n",
            "$ imdb_score                \u001b[3m\u001b[90m<dbl>\u001b[39m\u001b[23m 7.9, 7.1, 6.8, 8.5, 7.1, 6.6, 6.2, 7.8, 7.5,…\n",
            "$ aspect_ratio              \u001b[3m\u001b[90m<dbl>\u001b[39m\u001b[23m 1.78, 2.35, 2.35, 2.35, NA, 2.35, 2.35, 1.85…\n",
            "$ movie_facebook_likes      \u001b[3m\u001b[90m<int>\u001b[39m\u001b[23m 33000, 0, 85000, 164000, 0, 24000, 0, 29000,…\n"
          ],
          "name": "stdout"
        }
      ]
    },
    {
      "cell_type": "code",
      "metadata": {
        "colab": {
          "base_uri": "https://localhost:8080/",
          "height": 405
        },
        "id": "nTvdEIEHUg0r",
        "outputId": "eb47c845-b1b0-4635-a423-9542bad1593c"
      },
      "source": [
        "# Seleccionamos filas y columnas utilizando rangos\n",
        "df_movies[1:10,1:3]"
      ],
      "execution_count": null,
      "outputs": [
        {
          "output_type": "display_data",
          "data": {
            "text/plain": [
              "   color director_name     num_critic_for_reviews\n",
              "1  Color James Cameron     723                   \n",
              "2  Color Gore Verbinski    302                   \n",
              "3  Color Sam Mendes        602                   \n",
              "4  Color Christopher Nolan 813                   \n",
              "5        Doug Walker        NA                   \n",
              "6  Color Andrew Stanton    462                   \n",
              "7  Color Sam Raimi         392                   \n",
              "8  Color Nathan Greno      324                   \n",
              "9  Color Joss Whedon       635                   \n",
              "10 Color David Yates       375                   "
            ],
            "text/latex": "A data.table: 10 × 3\n\\begin{tabular}{lll}\n color & director\\_name & num\\_critic\\_for\\_reviews\\\\\n <chr> & <chr> & <int>\\\\\n\\hline\n\t Color & James Cameron     & 723\\\\\n\t Color & Gore Verbinski    & 302\\\\\n\t Color & Sam Mendes        & 602\\\\\n\t Color & Christopher Nolan & 813\\\\\n\t       & Doug Walker       &  NA\\\\\n\t Color & Andrew Stanton    & 462\\\\\n\t Color & Sam Raimi         & 392\\\\\n\t Color & Nathan Greno      & 324\\\\\n\t Color & Joss Whedon       & 635\\\\\n\t Color & David Yates       & 375\\\\\n\\end{tabular}\n",
            "text/markdown": "\nA data.table: 10 × 3\n\n| color &lt;chr&gt; | director_name &lt;chr&gt; | num_critic_for_reviews &lt;int&gt; |\n|---|---|---|\n| Color | James Cameron     | 723 |\n| Color | Gore Verbinski    | 302 |\n| Color | Sam Mendes        | 602 |\n| Color | Christopher Nolan | 813 |\n| <!----> | Doug Walker       |  NA |\n| Color | Andrew Stanton    | 462 |\n| Color | Sam Raimi         | 392 |\n| Color | Nathan Greno      | 324 |\n| Color | Joss Whedon       | 635 |\n| Color | David Yates       | 375 |\n\n",
            "text/html": [
              "<table class=\"dataframe\">\n",
              "<caption>A data.table: 10 × 3</caption>\n",
              "<thead>\n",
              "\t<tr><th scope=col>color</th><th scope=col>director_name</th><th scope=col>num_critic_for_reviews</th></tr>\n",
              "\t<tr><th scope=col>&lt;chr&gt;</th><th scope=col>&lt;chr&gt;</th><th scope=col>&lt;int&gt;</th></tr>\n",
              "</thead>\n",
              "<tbody>\n",
              "\t<tr><td>Color</td><td>James Cameron    </td><td>723</td></tr>\n",
              "\t<tr><td>Color</td><td>Gore Verbinski   </td><td>302</td></tr>\n",
              "\t<tr><td>Color</td><td>Sam Mendes       </td><td>602</td></tr>\n",
              "\t<tr><td>Color</td><td>Christopher Nolan</td><td>813</td></tr>\n",
              "\t<tr><td>     </td><td>Doug Walker      </td><td> NA</td></tr>\n",
              "\t<tr><td>Color</td><td>Andrew Stanton   </td><td>462</td></tr>\n",
              "\t<tr><td>Color</td><td>Sam Raimi        </td><td>392</td></tr>\n",
              "\t<tr><td>Color</td><td>Nathan Greno     </td><td>324</td></tr>\n",
              "\t<tr><td>Color</td><td>Joss Whedon      </td><td>635</td></tr>\n",
              "\t<tr><td>Color</td><td>David Yates      </td><td>375</td></tr>\n",
              "</tbody>\n",
              "</table>\n"
            ]
          },
          "metadata": {
            "tags": []
          }
        }
      ]
    },
    {
      "cell_type": "code",
      "metadata": {
        "id": "0AxXUvYEsqK7",
        "colab": {
          "base_uri": "https://localhost:8080/",
          "height": 220
        },
        "outputId": "bd3d50ac-e90c-484f-872e-373748d204a1"
      },
      "source": [
        "# Filtramos filas y columnas\n",
        "cond_1 = df_movies$country == 'USA'\n",
        "cond_2 = df_movies$imdb_score > 8\n",
        "cond_3 = df_movies$director_name %in% c(\"James Cameron\", \"Peter Jackson\", \"Tim Burton\")\n",
        "\n",
        "df_movies[-cond_1 & cond_2 & cond_3,c('movie_title','director_name','imdb_score')]\n"
      ],
      "execution_count": null,
      "outputs": [
        {
          "output_type": "display_data",
          "data": {
            "text/plain": [
              "  movie_title                                   director_name imdb_score\n",
              "1 Terminator 2: Judgment Day                    James Cameron 8.5       \n",
              "2 The Lord of the Rings: The Return of the King Peter Jackson 8.9       \n",
              "3 The Lord of the Rings: The Two Towers         Peter Jackson 8.7       \n",
              "4 Aliens                                        James Cameron 8.4       "
            ],
            "text/latex": "A data.table: 4 × 3\n\\begin{tabular}{lll}\n movie\\_title & director\\_name & imdb\\_score\\\\\n <chr> & <chr> & <dbl>\\\\\n\\hline\n\t Terminator 2: Judgment Day                    & James Cameron & 8.5\\\\\n\t The Lord of the Rings: The Return of the King & Peter Jackson & 8.9\\\\\n\t The Lord of the Rings: The Two Towers         & Peter Jackson & 8.7\\\\\n\t Aliens                                        & James Cameron & 8.4\\\\\n\\end{tabular}\n",
            "text/markdown": "\nA data.table: 4 × 3\n\n| movie_title &lt;chr&gt; | director_name &lt;chr&gt; | imdb_score &lt;dbl&gt; |\n|---|---|---|\n| Terminator 2: Judgment Day                    | James Cameron | 8.5 |\n| The Lord of the Rings: The Return of the King | Peter Jackson | 8.9 |\n| The Lord of the Rings: The Two Towers         | Peter Jackson | 8.7 |\n| Aliens                                        | James Cameron | 8.4 |\n\n",
            "text/html": [
              "<table class=\"dataframe\">\n",
              "<caption>A data.table: 4 × 3</caption>\n",
              "<thead>\n",
              "\t<tr><th scope=col>movie_title</th><th scope=col>director_name</th><th scope=col>imdb_score</th></tr>\n",
              "\t<tr><th scope=col>&lt;chr&gt;</th><th scope=col>&lt;chr&gt;</th><th scope=col>&lt;dbl&gt;</th></tr>\n",
              "</thead>\n",
              "<tbody>\n",
              "\t<tr><td>Terminator 2: Judgment Day                   </td><td>James Cameron</td><td>8.5</td></tr>\n",
              "\t<tr><td>The Lord of the Rings: The Return of the King</td><td>Peter Jackson</td><td>8.9</td></tr>\n",
              "\t<tr><td>The Lord of the Rings: The Two Towers        </td><td>Peter Jackson</td><td>8.7</td></tr>\n",
              "\t<tr><td>Aliens                                       </td><td>James Cameron</td><td>8.4</td></tr>\n",
              "</tbody>\n",
              "</table>\n"
            ]
          },
          "metadata": {
            "tags": []
          }
        }
      ]
    },
    {
      "cell_type": "markdown",
      "metadata": {
        "id": "k0MqW0U76spw"
      },
      "source": [
        "### 2. MANIPULACIÓN BÁSICA\n",
        "---"
      ]
    },
    {
      "cell_type": "code",
      "metadata": {
        "colab": {
          "base_uri": "https://localhost:8080/"
        },
        "id": "s6aYO0BIeQXc",
        "outputId": "e3da3297-6efc-45ab-9892-f5c01ef2f456"
      },
      "source": [
        "# Cargamos todas las librerías que utilizaremos en la sesión\n",
        "require(data.table)\n",
        "require(dplyr)"
      ],
      "execution_count": null,
      "outputs": [
        {
          "output_type": "stream",
          "text": [
            "Loading required package: data.table\n",
            "\n",
            "Loading required package: dplyr\n",
            "\n",
            "\n",
            "Attaching package: ‘dplyr’\n",
            "\n",
            "\n",
            "The following objects are masked from ‘package:data.table’:\n",
            "\n",
            "    between, first, last\n",
            "\n",
            "\n",
            "The following objects are masked from ‘package:stats’:\n",
            "\n",
            "    filter, lag\n",
            "\n",
            "\n",
            "The following objects are masked from ‘package:base’:\n",
            "\n",
            "    intersect, setdiff, setequal, union\n",
            "\n",
            "\n"
          ],
          "name": "stderr"
        }
      ]
    },
    {
      "cell_type": "markdown",
      "metadata": {
        "id": "0P_bDcFF6MuF"
      },
      "source": [
        "#### EX 2A \n",
        "Seleccionar las top 10 películas de Sci-Fi, según IMDB Score.\n",
        "\n",
        "Dataset > https://data-wizards.s3.amazonaws.com/datasets/movies.csv"
      ]
    },
    {
      "cell_type": "code",
      "metadata": {
        "colab": {
          "base_uri": "https://localhost:8080/"
        },
        "id": "Jk7nZZPf6NV_",
        "outputId": "60844747-696e-4d42-b8fe-113f6837cdd5"
      },
      "source": [
        "# Importamos df\n",
        "df_movies = data.table::fread(\"https://data-wizards.s3.amazonaws.com/datasets/movies.csv\")\n",
        "glimpse(df_movies)"
      ],
      "execution_count": null,
      "outputs": [
        {
          "output_type": "stream",
          "text": [
            "Rows: 4,916\n",
            "Columns: 28\n",
            "$ color                     \u001b[3m\u001b[90m<chr>\u001b[39m\u001b[23m \"Color\", \"Color\", \"Color\", \"Color\", \"\", \"Col…\n",
            "$ director_name             \u001b[3m\u001b[90m<chr>\u001b[39m\u001b[23m \"James Cameron\", \"Gore Verbinski\", \"Sam Mend…\n",
            "$ num_critic_for_reviews    \u001b[3m\u001b[90m<int>\u001b[39m\u001b[23m 723, 302, 602, 813, NA, 462, 392, 324, 635, …\n",
            "$ duration                  \u001b[3m\u001b[90m<int>\u001b[39m\u001b[23m 178, 169, 148, 164, NA, 132, 156, 100, 141, …\n",
            "$ director_facebook_likes   \u001b[3m\u001b[90m<int>\u001b[39m\u001b[23m 0, 563, 0, 22000, 131, 475, 0, 15, 0, 282, 0…\n",
            "$ actor_3_facebook_likes    \u001b[3m\u001b[90m<int>\u001b[39m\u001b[23m 855, 1000, 161, 23000, NA, 530, 4000, 284, 1…\n",
            "$ actor_2_name              \u001b[3m\u001b[90m<chr>\u001b[39m\u001b[23m \"Joel David Moore\", \"Orlando Bloom\", \"Rory K…\n",
            "$ actor_1_facebook_likes    \u001b[3m\u001b[90m<int>\u001b[39m\u001b[23m 1000, 40000, 11000, 27000, 131, 640, 24000, …\n",
            "$ gross                     \u001b[3m\u001b[90m<dbl>\u001b[39m\u001b[23m 760505847, 309404152, 200074175, 448130642, …\n",
            "$ genres                    \u001b[3m\u001b[90m<chr>\u001b[39m\u001b[23m \"Action|Adventure|Fantasy|Sci-Fi\", \"Action|A…\n",
            "$ actor_1_name              \u001b[3m\u001b[90m<chr>\u001b[39m\u001b[23m \"CCH Pounder\", \"Johnny Depp\", \"Christoph Wal…\n",
            "$ movie_title               \u001b[3m\u001b[90m<chr>\u001b[39m\u001b[23m \"Avatar\", \"Pirates of the Caribbean: At Worl…\n",
            "$ num_voted_users           \u001b[3m\u001b[90m<int>\u001b[39m\u001b[23m 886204, 471220, 275868, 1144337, 8, 212204, …\n",
            "$ cast_total_facebook_likes \u001b[3m\u001b[90m<int>\u001b[39m\u001b[23m 4834, 48350, 11700, 106759, 143, 1873, 46055…\n",
            "$ actor_3_name              \u001b[3m\u001b[90m<chr>\u001b[39m\u001b[23m \"Wes Studi\", \"Jack Davenport\", \"Stephanie Si…\n",
            "$ facenumber_in_poster      \u001b[3m\u001b[90m<int>\u001b[39m\u001b[23m 0, 0, 1, 0, 0, 1, 0, 1, 4, 3, 0, 0, 1, 2, 1,…\n",
            "$ plot_keywords             \u001b[3m\u001b[90m<chr>\u001b[39m\u001b[23m \"avatar|future|marine|native|paraplegic\", \"g…\n",
            "$ movie_imdb_link           \u001b[3m\u001b[90m<chr>\u001b[39m\u001b[23m \"http://www.imdb.com/title/tt0499549/?ref_=f…\n",
            "$ num_user_for_reviews      \u001b[3m\u001b[90m<int>\u001b[39m\u001b[23m 3054, 1238, 994, 2701, NA, 738, 1902, 387, 1…\n",
            "$ language                  \u001b[3m\u001b[90m<chr>\u001b[39m\u001b[23m \"English\", \"English\", \"English\", \"English\", …\n",
            "$ country                   \u001b[3m\u001b[90m<chr>\u001b[39m\u001b[23m \"USA\", \"USA\", \"UK\", \"USA\", \"\", \"USA\", \"USA\",…\n",
            "$ content_rating            \u001b[3m\u001b[90m<chr>\u001b[39m\u001b[23m \"PG-13\", \"PG-13\", \"PG-13\", \"PG-13\", \"\", \"PG-…\n",
            "$ budget                    \u001b[3m\u001b[90m<dbl>\u001b[39m\u001b[23m 237000000, 300000000, 245000000, 250000000, …\n",
            "$ title_year                \u001b[3m\u001b[90m<int>\u001b[39m\u001b[23m 2009, 2007, 2015, 2012, NA, 2012, 2007, 2010…\n",
            "$ actor_2_facebook_likes    \u001b[3m\u001b[90m<int>\u001b[39m\u001b[23m 936, 5000, 393, 23000, 12, 632, 11000, 553, …\n",
            "$ imdb_score                \u001b[3m\u001b[90m<dbl>\u001b[39m\u001b[23m 7.9, 7.1, 6.8, 8.5, 7.1, 6.6, 6.2, 7.8, 7.5,…\n",
            "$ aspect_ratio              \u001b[3m\u001b[90m<dbl>\u001b[39m\u001b[23m 1.78, 2.35, 2.35, 2.35, NA, 2.35, 2.35, 1.85…\n",
            "$ movie_facebook_likes      \u001b[3m\u001b[90m<int>\u001b[39m\u001b[23m 33000, 0, 85000, 164000, 0, 24000, 0, 29000,…\n"
          ],
          "name": "stdout"
        }
      ]
    },
    {
      "cell_type": "code",
      "metadata": {
        "colab": {
          "base_uri": "https://localhost:8080/",
          "height": 438
        },
        "id": "xDG_gKPo6Z38",
        "outputId": "a6b99f62-4f56-4716-d291-0b4a845cade0"
      },
      "source": [
        "# Utilizamos dplyr para seleccionar top 10 películas de Sci-Fi\n",
        "df_movies %>% filter(\n",
        "  grepl('Sci-Fi',genres) \n",
        ") %>% select(\n",
        "  movie_title\n",
        "  ,imdb_score\n",
        "  ,director_name\n",
        "  ,genres\n",
        ") %>% head(10)"
      ],
      "execution_count": null,
      "outputs": [
        {
          "output_type": "display_data",
          "data": {
            "text/plain": [
              "   movie_title                        imdb_score director_name   \n",
              "1  Avatar                             7.9        James Cameron   \n",
              "2  John Carter                        6.6        Andrew Stanton  \n",
              "3  Avengers: Age of Ultron            7.5        Joss Whedon     \n",
              "4  Batman v Superman: Dawn of Justice 6.9        Zack Snyder     \n",
              "5  Superman Returns                   6.1        Bryan Singer    \n",
              "6  Man of Steel                       7.2        Zack Snyder     \n",
              "7  The Avengers                       8.1        Joss Whedon     \n",
              "8  Men in Black 3                     6.8        Barry Sonnenfeld\n",
              "9  Captain America: Civil War         8.2        Anthony Russo   \n",
              "10 Battleship                         5.9        Peter Berg      \n",
              "   genres                                       \n",
              "1  Action|Adventure|Fantasy|Sci-Fi              \n",
              "2  Action|Adventure|Sci-Fi                      \n",
              "3  Action|Adventure|Sci-Fi                      \n",
              "4  Action|Adventure|Sci-Fi                      \n",
              "5  Action|Adventure|Sci-Fi                      \n",
              "6  Action|Adventure|Fantasy|Sci-Fi              \n",
              "7  Action|Adventure|Sci-Fi                      \n",
              "8  Action|Adventure|Comedy|Family|Fantasy|Sci-Fi\n",
              "9  Action|Adventure|Sci-Fi                      \n",
              "10 Action|Adventure|Sci-Fi|Thriller             "
            ],
            "text/latex": "A data.table: 10 × 4\n\\begin{tabular}{llll}\n movie\\_title & imdb\\_score & director\\_name & genres\\\\\n <chr> & <dbl> & <chr> & <chr>\\\\\n\\hline\n\t Avatar                             & 7.9 & James Cameron    & Action\\textbar{}Adventure\\textbar{}Fantasy\\textbar{}Sci-Fi              \\\\\n\t John Carter                        & 6.6 & Andrew Stanton   & Action\\textbar{}Adventure\\textbar{}Sci-Fi                      \\\\\n\t Avengers: Age of Ultron            & 7.5 & Joss Whedon      & Action\\textbar{}Adventure\\textbar{}Sci-Fi                      \\\\\n\t Batman v Superman: Dawn of Justice & 6.9 & Zack Snyder      & Action\\textbar{}Adventure\\textbar{}Sci-Fi                      \\\\\n\t Superman Returns                   & 6.1 & Bryan Singer     & Action\\textbar{}Adventure\\textbar{}Sci-Fi                      \\\\\n\t Man of Steel                       & 7.2 & Zack Snyder      & Action\\textbar{}Adventure\\textbar{}Fantasy\\textbar{}Sci-Fi              \\\\\n\t The Avengers                       & 8.1 & Joss Whedon      & Action\\textbar{}Adventure\\textbar{}Sci-Fi                      \\\\\n\t Men in Black 3                     & 6.8 & Barry Sonnenfeld & Action\\textbar{}Adventure\\textbar{}Comedy\\textbar{}Family\\textbar{}Fantasy\\textbar{}Sci-Fi\\\\\n\t Captain America: Civil War         & 8.2 & Anthony Russo    & Action\\textbar{}Adventure\\textbar{}Sci-Fi                      \\\\\n\t Battleship                         & 5.9 & Peter Berg       & Action\\textbar{}Adventure\\textbar{}Sci-Fi\\textbar{}Thriller             \\\\\n\\end{tabular}\n",
            "text/markdown": "\nA data.table: 10 × 4\n\n| movie_title &lt;chr&gt; | imdb_score &lt;dbl&gt; | director_name &lt;chr&gt; | genres &lt;chr&gt; |\n|---|---|---|---|\n| Avatar                             | 7.9 | James Cameron    | Action|Adventure|Fantasy|Sci-Fi               |\n| John Carter                        | 6.6 | Andrew Stanton   | Action|Adventure|Sci-Fi                       |\n| Avengers: Age of Ultron            | 7.5 | Joss Whedon      | Action|Adventure|Sci-Fi                       |\n| Batman v Superman: Dawn of Justice | 6.9 | Zack Snyder      | Action|Adventure|Sci-Fi                       |\n| Superman Returns                   | 6.1 | Bryan Singer     | Action|Adventure|Sci-Fi                       |\n| Man of Steel                       | 7.2 | Zack Snyder      | Action|Adventure|Fantasy|Sci-Fi               |\n| The Avengers                       | 8.1 | Joss Whedon      | Action|Adventure|Sci-Fi                       |\n| Men in Black 3                     | 6.8 | Barry Sonnenfeld | Action|Adventure|Comedy|Family|Fantasy|Sci-Fi |\n| Captain America: Civil War         | 8.2 | Anthony Russo    | Action|Adventure|Sci-Fi                       |\n| Battleship                         | 5.9 | Peter Berg       | Action|Adventure|Sci-Fi|Thriller              |\n\n",
            "text/html": [
              "<table class=\"dataframe\">\n",
              "<caption>A data.table: 10 × 4</caption>\n",
              "<thead>\n",
              "\t<tr><th scope=col>movie_title</th><th scope=col>imdb_score</th><th scope=col>director_name</th><th scope=col>genres</th></tr>\n",
              "\t<tr><th scope=col>&lt;chr&gt;</th><th scope=col>&lt;dbl&gt;</th><th scope=col>&lt;chr&gt;</th><th scope=col>&lt;chr&gt;</th></tr>\n",
              "</thead>\n",
              "<tbody>\n",
              "\t<tr><td>Avatar                            </td><td>7.9</td><td>James Cameron   </td><td>Action|Adventure|Fantasy|Sci-Fi              </td></tr>\n",
              "\t<tr><td>John Carter                       </td><td>6.6</td><td>Andrew Stanton  </td><td>Action|Adventure|Sci-Fi                      </td></tr>\n",
              "\t<tr><td>Avengers: Age of Ultron           </td><td>7.5</td><td>Joss Whedon     </td><td>Action|Adventure|Sci-Fi                      </td></tr>\n",
              "\t<tr><td>Batman v Superman: Dawn of Justice</td><td>6.9</td><td>Zack Snyder     </td><td>Action|Adventure|Sci-Fi                      </td></tr>\n",
              "\t<tr><td>Superman Returns                  </td><td>6.1</td><td>Bryan Singer    </td><td>Action|Adventure|Sci-Fi                      </td></tr>\n",
              "\t<tr><td>Man of Steel                      </td><td>7.2</td><td>Zack Snyder     </td><td>Action|Adventure|Fantasy|Sci-Fi              </td></tr>\n",
              "\t<tr><td>The Avengers                      </td><td>8.1</td><td>Joss Whedon     </td><td>Action|Adventure|Sci-Fi                      </td></tr>\n",
              "\t<tr><td>Men in Black 3                    </td><td>6.8</td><td>Barry Sonnenfeld</td><td>Action|Adventure|Comedy|Family|Fantasy|Sci-Fi</td></tr>\n",
              "\t<tr><td>Captain America: Civil War        </td><td>8.2</td><td>Anthony Russo   </td><td>Action|Adventure|Sci-Fi                      </td></tr>\n",
              "\t<tr><td>Battleship                        </td><td>5.9</td><td>Peter Berg      </td><td>Action|Adventure|Sci-Fi|Thriller             </td></tr>\n",
              "</tbody>\n",
              "</table>\n"
            ]
          },
          "metadata": {
            "tags": []
          }
        }
      ]
    },
    {
      "cell_type": "markdown",
      "metadata": {
        "id": "erm_lhGS8zma"
      },
      "source": [
        "#### EX 2B \n",
        "Filtrar por películas de acción, crear un segmento para identificar películas del cuartil superior (top 75%) según IMDB score (\"top movies\") vs. el resto (\"not top movies\"). \n",
        "\n",
        "Dataset > https://data-wizards.s3.amazonaws.com/datasets/movies.csv"
      ]
    },
    {
      "cell_type": "code",
      "metadata": {
        "id": "AlmcX8rpHNJR"
      },
      "source": [
        "# Importamos df\n",
        "df_movies = data.table::fread(\"https://data-wizards.s3.amazonaws.com/datasets/movies.csv\")\n",
        "glimpse(df_movies)"
      ],
      "execution_count": null,
      "outputs": []
    },
    {
      "cell_type": "code",
      "metadata": {
        "colab": {
          "base_uri": "https://localhost:8080/",
          "height": 1000
        },
        "id": "Gx8PbmTB6NYY",
        "outputId": "b0cc796e-a2b6-4afc-e46f-9b74d51b1038"
      },
      "source": [
        "# Utilizamos dplyr para crear un segmento\n",
        "dist_75 = df_movies[grepl('Action',genres),\"imdb_score\"]$imdb_score %>% quantile(0.75)\n",
        "\n",
        "df_movies %>% mutate(\n",
        "  segment = case_when(\n",
        "    imdb_score >= dist_75 ~ 'top action movie'\n",
        "    ,TRUE == TRUE ~ 'not top action movie'\n",
        "  )\n",
        ") %>% filter(\n",
        "  grepl('Action',genres)\n",
        ") %>% select(\n",
        "  movie_title\n",
        "  ,director_name\n",
        "  ,imdb_score\n",
        "  ,segment\n",
        ") %>% arrange(desc(imdb_score))\n"
      ],
      "execution_count": null,
      "outputs": [
        {
          "output_type": "display_data",
          "data": {
            "text/plain": [
              "     movie_title                                       director_name         \n",
              "1    Kickboxer: Vengeance                              John Stockwell        \n",
              "2    The Dark Knight                                   Christopher Nolan     \n",
              "3    The Lord of the Rings: The Return of the King     Peter Jackson         \n",
              "4    Inception                                         Christopher Nolan     \n",
              "5    The Lord of the Rings: The Fellowship of the Ring Peter Jackson         \n",
              "6    Daredevil                                                               \n",
              "7    Star Wars: Episode V - The Empire Strikes Back    Irvin Kershner        \n",
              "8    The Lord of the Rings: The Two Towers             Peter Jackson         \n",
              "9    The Matrix                                        Lana Wachowski        \n",
              "10   Star Wars: Episode IV - A New Hope                George Lucas          \n",
              "11   Queen of the Mountains                            Sadyk Sher-Niyaz      \n",
              "12   Seven Samurai                                     Akira Kurosawa        \n",
              "13   Saving Private Ryan                               Steven Spielberg      \n",
              "14   Spartacus: War of the Damned                                            \n",
              "15   The Dark Knight Rises                             Christopher Nolan     \n",
              "16   Gladiator                                         Ridley Scott          \n",
              "17   Terminator 2: Judgment Day                        James Cameron         \n",
              "18   Raiders of the Lost Ark                           Steven Spielberg      \n",
              "19   Airlift                                           Raja Menon            \n",
              "20   Stargate SG-1                                                           \n",
              "21   Baahubali: The Beginning                          S.S. Rajamouli        \n",
              "22   Star Wars: Episode VI - Return of the Jedi        Richard Marquand      \n",
              "23   Aliens                                            James Cameron         \n",
              "24   Batman: The Dark Knight Returns, Part 2           Jay Oliva             \n",
              "25   Batman Begins                                     Christopher Nolan     \n",
              "26   Indiana Jones and the Last Crusade                Steven Spielberg      \n",
              "27   Captain America: Civil War                        Anthony Russo         \n",
              "28   Godzilla Resurgence                               Hideaki Anno          \n",
              "29   V for Vendetta                                    James McTeigue        \n",
              "30   Die Hard                                          John McTiernan        \n",
              "⋮    ⋮                                                 ⋮                     \n",
              "1084 Dragon Wars: D-War                                Hyung-rae Shim        \n",
              "1085 Spy Kids: All the Time in the World in 4D         Robert Rodriguez      \n",
              "1086 Superman IV: The Quest for Peace                  Sidney J. Furie       \n",
              "1087 Wind Walkers                                      Russell Friedenberg   \n",
              "1088 Echo Dr.                                          Patrick Ryan Sims     \n",
              "1089 The Adventures of Sharkboy and Lavagirl 3-D       Robert Rodriguez      \n",
              "1090 Dance Flick                                       Damien Dante Wayans   \n",
              "1091 Megaforce                                         Hal Needham           \n",
              "1092 The Omega Code                                    Robert Marcarelli     \n",
              "1093 Chain of Command                                  Kevin Carraway        \n",
              "1094 Zombie Hunter                                     K. King               \n",
              "1095 Navy Seals vs. Zombies                            Stanton Barrett       \n",
              "1096 Independence Daysaster                            W.D. Hogan            \n",
              "1097 Catwoman                                          Pitof                 \n",
              "1098 In the Name of the King: The Last Job             Uwe Boll              \n",
              "1099 Legend of Kung Fu Rabbit                          Lijun Sun             \n",
              "1100 Royal Kill                                        Babar Ahmed           \n",
              "1101 Left Behind                                       Vic Armstrong         \n",
              "1102 Checkmate                                         Timothy Woodward Jr.  \n",
              "1103 Rollerball                                        John McTiernan        \n",
              "1104 The Dead Undead                                   Matthew R. Anderson   \n",
              "1105 BloodRayne                                        Uwe Boll              \n",
              "1106 Steel                                             Kenneth Johnson       \n",
              "1107 Hum To Mohabbat Karega                            Kundan Shah           \n",
              "1108 Dragonball: Evolution                             James Wong            \n",
              "1109 Battlefield Earth                                 Roger Christian       \n",
              "1110 Subconscious                                      Georgia Hilton        \n",
              "1111 Crossover                                         Preston A. Whitmore II\n",
              "1112 The Helix... Loaded                               A. Raven Cruz         \n",
              "1113 Foodfight!                                        Lawrence Kasanoff     \n",
              "     imdb_score segment             \n",
              "1    9.1        top action movie    \n",
              "2    9.0        top action movie    \n",
              "3    8.9        top action movie    \n",
              "4    8.8        top action movie    \n",
              "5    8.8        top action movie    \n",
              "6    8.8        top action movie    \n",
              "7    8.8        top action movie    \n",
              "8    8.7        top action movie    \n",
              "9    8.7        top action movie    \n",
              "10   8.7        top action movie    \n",
              "11   8.7        top action movie    \n",
              "12   8.7        top action movie    \n",
              "13   8.6        top action movie    \n",
              "14   8.6        top action movie    \n",
              "15   8.5        top action movie    \n",
              "16   8.5        top action movie    \n",
              "17   8.5        top action movie    \n",
              "18   8.5        top action movie    \n",
              "19   8.5        top action movie    \n",
              "20   8.4        top action movie    \n",
              "21   8.4        top action movie    \n",
              "22   8.4        top action movie    \n",
              "23   8.4        top action movie    \n",
              "24   8.4        top action movie    \n",
              "25   8.3        top action movie    \n",
              "26   8.3        top action movie    \n",
              "27   8.2        top action movie    \n",
              "28   8.2        top action movie    \n",
              "29   8.2        top action movie    \n",
              "30   8.2        top action movie    \n",
              "⋮    ⋮          ⋮                   \n",
              "1084 3.6        not top action movie\n",
              "1085 3.6        not top action movie\n",
              "1086 3.6        not top action movie\n",
              "1087 3.6        not top action movie\n",
              "1088 3.6        not top action movie\n",
              "1089 3.5        not top action movie\n",
              "1090 3.5        not top action movie\n",
              "1091 3.5        not top action movie\n",
              "1092 3.5        not top action movie\n",
              "1093 3.5        not top action movie\n",
              "1094 3.5        not top action movie\n",
              "1095 3.4        not top action movie\n",
              "1096 3.4        not top action movie\n",
              "1097 3.3        not top action movie\n",
              "1098 3.3        not top action movie\n",
              "1099 3.2        not top action movie\n",
              "1100 3.2        not top action movie\n",
              "1101 3.1        not top action movie\n",
              "1102 3.1        not top action movie\n",
              "1103 3.0        not top action movie\n",
              "1104 3.0        not top action movie\n",
              "1105 2.9        not top action movie\n",
              "1106 2.8        not top action movie\n",
              "1107 2.8        not top action movie\n",
              "1108 2.7        not top action movie\n",
              "1109 2.4        not top action movie\n",
              "1110 2.2        not top action movie\n",
              "1111 2.1        not top action movie\n",
              "1112 1.9        not top action movie\n",
              "1113 1.7        not top action movie"
            ],
            "text/latex": "A data.table: 1113 × 4\n\\begin{tabular}{llll}\n movie\\_title & director\\_name & imdb\\_score & segment\\\\\n <chr> & <chr> & <dbl> & <chr>\\\\\n\\hline\n\t Kickboxer: Vengeance                              & John Stockwell    & 9.1 & top action movie\\\\\n\t The Dark Knight                                   & Christopher Nolan & 9.0 & top action movie\\\\\n\t The Lord of the Rings: The Return of the King     & Peter Jackson     & 8.9 & top action movie\\\\\n\t Inception                                         & Christopher Nolan & 8.8 & top action movie\\\\\n\t The Lord of the Rings: The Fellowship of the Ring & Peter Jackson     & 8.8 & top action movie\\\\\n\t Daredevil                                         &                   & 8.8 & top action movie\\\\\n\t Star Wars: Episode V - The Empire Strikes Back    & Irvin Kershner    & 8.8 & top action movie\\\\\n\t The Lord of the Rings: The Two Towers             & Peter Jackson     & 8.7 & top action movie\\\\\n\t The Matrix                                        & Lana Wachowski    & 8.7 & top action movie\\\\\n\t Star Wars: Episode IV - A New Hope                & George Lucas      & 8.7 & top action movie\\\\\n\t Queen of the Mountains                            & Sadyk Sher-Niyaz  & 8.7 & top action movie\\\\\n\t Seven Samurai                                     & Akira Kurosawa    & 8.7 & top action movie\\\\\n\t Saving Private Ryan                               & Steven Spielberg  & 8.6 & top action movie\\\\\n\t Spartacus: War of the Damned                      &                   & 8.6 & top action movie\\\\\n\t The Dark Knight Rises                             & Christopher Nolan & 8.5 & top action movie\\\\\n\t Gladiator                                         & Ridley Scott      & 8.5 & top action movie\\\\\n\t Terminator 2: Judgment Day                        & James Cameron     & 8.5 & top action movie\\\\\n\t Raiders of the Lost Ark                           & Steven Spielberg  & 8.5 & top action movie\\\\\n\t Airlift                                           & Raja Menon        & 8.5 & top action movie\\\\\n\t Stargate SG-1                                     &                   & 8.4 & top action movie\\\\\n\t Baahubali: The Beginning                          & S.S. Rajamouli    & 8.4 & top action movie\\\\\n\t Star Wars: Episode VI - Return of the Jedi        & Richard Marquand  & 8.4 & top action movie\\\\\n\t Aliens                                            & James Cameron     & 8.4 & top action movie\\\\\n\t Batman: The Dark Knight Returns, Part 2           & Jay Oliva         & 8.4 & top action movie\\\\\n\t Batman Begins                                     & Christopher Nolan & 8.3 & top action movie\\\\\n\t Indiana Jones and the Last Crusade                & Steven Spielberg  & 8.3 & top action movie\\\\\n\t Captain America: Civil War                        & Anthony Russo     & 8.2 & top action movie\\\\\n\t Godzilla Resurgence                               & Hideaki Anno      & 8.2 & top action movie\\\\\n\t V for Vendetta                                    & James McTeigue    & 8.2 & top action movie\\\\\n\t Die Hard                                          & John McTiernan    & 8.2 & top action movie\\\\\n\t ⋮ & ⋮ & ⋮ & ⋮\\\\\n\t Dragon Wars: D-War                          & Hyung-rae Shim         & 3.6 & not top action movie\\\\\n\t Spy Kids: All the Time in the World in 4D   & Robert Rodriguez       & 3.6 & not top action movie\\\\\n\t Superman IV: The Quest for Peace            & Sidney J. Furie        & 3.6 & not top action movie\\\\\n\t Wind Walkers                                & Russell Friedenberg    & 3.6 & not top action movie\\\\\n\t Echo Dr.                                    & Patrick Ryan Sims      & 3.6 & not top action movie\\\\\n\t The Adventures of Sharkboy and Lavagirl 3-D & Robert Rodriguez       & 3.5 & not top action movie\\\\\n\t Dance Flick                                 & Damien Dante Wayans    & 3.5 & not top action movie\\\\\n\t Megaforce                                   & Hal Needham            & 3.5 & not top action movie\\\\\n\t The Omega Code                              & Robert Marcarelli      & 3.5 & not top action movie\\\\\n\t Chain of Command                            & Kevin Carraway         & 3.5 & not top action movie\\\\\n\t Zombie Hunter                               & K. King                & 3.5 & not top action movie\\\\\n\t Navy Seals vs. Zombies                      & Stanton Barrett        & 3.4 & not top action movie\\\\\n\t Independence Daysaster                      & W.D. Hogan             & 3.4 & not top action movie\\\\\n\t Catwoman                                    & Pitof                  & 3.3 & not top action movie\\\\\n\t In the Name of the King: The Last Job       & Uwe Boll               & 3.3 & not top action movie\\\\\n\t Legend of Kung Fu Rabbit                    & Lijun Sun              & 3.2 & not top action movie\\\\\n\t Royal Kill                                  & Babar Ahmed            & 3.2 & not top action movie\\\\\n\t Left Behind                                 & Vic Armstrong          & 3.1 & not top action movie\\\\\n\t Checkmate                                   & Timothy Woodward Jr.   & 3.1 & not top action movie\\\\\n\t Rollerball                                  & John McTiernan         & 3.0 & not top action movie\\\\\n\t The Dead Undead                             & Matthew R. Anderson    & 3.0 & not top action movie\\\\\n\t BloodRayne                                  & Uwe Boll               & 2.9 & not top action movie\\\\\n\t Steel                                       & Kenneth Johnson        & 2.8 & not top action movie\\\\\n\t Hum To Mohabbat Karega                      & Kundan Shah            & 2.8 & not top action movie\\\\\n\t Dragonball: Evolution                       & James Wong             & 2.7 & not top action movie\\\\\n\t Battlefield Earth                           & Roger Christian        & 2.4 & not top action movie\\\\\n\t Subconscious                                & Georgia Hilton         & 2.2 & not top action movie\\\\\n\t Crossover                                   & Preston A. Whitmore II & 2.1 & not top action movie\\\\\n\t The Helix... Loaded                         & A. Raven Cruz          & 1.9 & not top action movie\\\\\n\t Foodfight!                                  & Lawrence Kasanoff      & 1.7 & not top action movie\\\\\n\\end{tabular}\n",
            "text/markdown": "\nA data.table: 1113 × 4\n\n| movie_title &lt;chr&gt; | director_name &lt;chr&gt; | imdb_score &lt;dbl&gt; | segment &lt;chr&gt; |\n|---|---|---|---|\n| Kickboxer: Vengeance                              | John Stockwell    | 9.1 | top action movie |\n| The Dark Knight                                   | Christopher Nolan | 9.0 | top action movie |\n| The Lord of the Rings: The Return of the King     | Peter Jackson     | 8.9 | top action movie |\n| Inception                                         | Christopher Nolan | 8.8 | top action movie |\n| The Lord of the Rings: The Fellowship of the Ring | Peter Jackson     | 8.8 | top action movie |\n| Daredevil                                         | <!----> | 8.8 | top action movie |\n| Star Wars: Episode V - The Empire Strikes Back    | Irvin Kershner    | 8.8 | top action movie |\n| The Lord of the Rings: The Two Towers             | Peter Jackson     | 8.7 | top action movie |\n| The Matrix                                        | Lana Wachowski    | 8.7 | top action movie |\n| Star Wars: Episode IV - A New Hope                | George Lucas      | 8.7 | top action movie |\n| Queen of the Mountains                            | Sadyk Sher-Niyaz  | 8.7 | top action movie |\n| Seven Samurai                                     | Akira Kurosawa    | 8.7 | top action movie |\n| Saving Private Ryan                               | Steven Spielberg  | 8.6 | top action movie |\n| Spartacus: War of the Damned                      | <!----> | 8.6 | top action movie |\n| The Dark Knight Rises                             | Christopher Nolan | 8.5 | top action movie |\n| Gladiator                                         | Ridley Scott      | 8.5 | top action movie |\n| Terminator 2: Judgment Day                        | James Cameron     | 8.5 | top action movie |\n| Raiders of the Lost Ark                           | Steven Spielberg  | 8.5 | top action movie |\n| Airlift                                           | Raja Menon        | 8.5 | top action movie |\n| Stargate SG-1                                     | <!----> | 8.4 | top action movie |\n| Baahubali: The Beginning                          | S.S. Rajamouli    | 8.4 | top action movie |\n| Star Wars: Episode VI - Return of the Jedi        | Richard Marquand  | 8.4 | top action movie |\n| Aliens                                            | James Cameron     | 8.4 | top action movie |\n| Batman: The Dark Knight Returns, Part 2           | Jay Oliva         | 8.4 | top action movie |\n| Batman Begins                                     | Christopher Nolan | 8.3 | top action movie |\n| Indiana Jones and the Last Crusade                | Steven Spielberg  | 8.3 | top action movie |\n| Captain America: Civil War                        | Anthony Russo     | 8.2 | top action movie |\n| Godzilla Resurgence                               | Hideaki Anno      | 8.2 | top action movie |\n| V for Vendetta                                    | James McTeigue    | 8.2 | top action movie |\n| Die Hard                                          | John McTiernan    | 8.2 | top action movie |\n| ⋮ | ⋮ | ⋮ | ⋮ |\n| Dragon Wars: D-War                          | Hyung-rae Shim         | 3.6 | not top action movie |\n| Spy Kids: All the Time in the World in 4D   | Robert Rodriguez       | 3.6 | not top action movie |\n| Superman IV: The Quest for Peace            | Sidney J. Furie        | 3.6 | not top action movie |\n| Wind Walkers                                | Russell Friedenberg    | 3.6 | not top action movie |\n| Echo Dr.                                    | Patrick Ryan Sims      | 3.6 | not top action movie |\n| The Adventures of Sharkboy and Lavagirl 3-D | Robert Rodriguez       | 3.5 | not top action movie |\n| Dance Flick                                 | Damien Dante Wayans    | 3.5 | not top action movie |\n| Megaforce                                   | Hal Needham            | 3.5 | not top action movie |\n| The Omega Code                              | Robert Marcarelli      | 3.5 | not top action movie |\n| Chain of Command                            | Kevin Carraway         | 3.5 | not top action movie |\n| Zombie Hunter                               | K. King                | 3.5 | not top action movie |\n| Navy Seals vs. Zombies                      | Stanton Barrett        | 3.4 | not top action movie |\n| Independence Daysaster                      | W.D. Hogan             | 3.4 | not top action movie |\n| Catwoman                                    | Pitof                  | 3.3 | not top action movie |\n| In the Name of the King: The Last Job       | Uwe Boll               | 3.3 | not top action movie |\n| Legend of Kung Fu Rabbit                    | Lijun Sun              | 3.2 | not top action movie |\n| Royal Kill                                  | Babar Ahmed            | 3.2 | not top action movie |\n| Left Behind                                 | Vic Armstrong          | 3.1 | not top action movie |\n| Checkmate                                   | Timothy Woodward Jr.   | 3.1 | not top action movie |\n| Rollerball                                  | John McTiernan         | 3.0 | not top action movie |\n| The Dead Undead                             | Matthew R. Anderson    | 3.0 | not top action movie |\n| BloodRayne                                  | Uwe Boll               | 2.9 | not top action movie |\n| Steel                                       | Kenneth Johnson        | 2.8 | not top action movie |\n| Hum To Mohabbat Karega                      | Kundan Shah            | 2.8 | not top action movie |\n| Dragonball: Evolution                       | James Wong             | 2.7 | not top action movie |\n| Battlefield Earth                           | Roger Christian        | 2.4 | not top action movie |\n| Subconscious                                | Georgia Hilton         | 2.2 | not top action movie |\n| Crossover                                   | Preston A. Whitmore II | 2.1 | not top action movie |\n| The Helix... Loaded                         | A. Raven Cruz          | 1.9 | not top action movie |\n| Foodfight!                                  | Lawrence Kasanoff      | 1.7 | not top action movie |\n\n",
            "text/html": [
              "<table class=\"dataframe\">\n",
              "<caption>A data.table: 1113 × 4</caption>\n",
              "<thead>\n",
              "\t<tr><th scope=col>movie_title</th><th scope=col>director_name</th><th scope=col>imdb_score</th><th scope=col>segment</th></tr>\n",
              "\t<tr><th scope=col>&lt;chr&gt;</th><th scope=col>&lt;chr&gt;</th><th scope=col>&lt;dbl&gt;</th><th scope=col>&lt;chr&gt;</th></tr>\n",
              "</thead>\n",
              "<tbody>\n",
              "\t<tr><td>Kickboxer: Vengeance                             </td><td>John Stockwell   </td><td>9.1</td><td>top action movie</td></tr>\n",
              "\t<tr><td>The Dark Knight                                  </td><td>Christopher Nolan</td><td>9.0</td><td>top action movie</td></tr>\n",
              "\t<tr><td>The Lord of the Rings: The Return of the King    </td><td>Peter Jackson    </td><td>8.9</td><td>top action movie</td></tr>\n",
              "\t<tr><td>Inception                                        </td><td>Christopher Nolan</td><td>8.8</td><td>top action movie</td></tr>\n",
              "\t<tr><td>The Lord of the Rings: The Fellowship of the Ring</td><td>Peter Jackson    </td><td>8.8</td><td>top action movie</td></tr>\n",
              "\t<tr><td>Daredevil                                        </td><td>                 </td><td>8.8</td><td>top action movie</td></tr>\n",
              "\t<tr><td>Star Wars: Episode V - The Empire Strikes Back   </td><td>Irvin Kershner   </td><td>8.8</td><td>top action movie</td></tr>\n",
              "\t<tr><td>The Lord of the Rings: The Two Towers            </td><td>Peter Jackson    </td><td>8.7</td><td>top action movie</td></tr>\n",
              "\t<tr><td>The Matrix                                       </td><td>Lana Wachowski   </td><td>8.7</td><td>top action movie</td></tr>\n",
              "\t<tr><td>Star Wars: Episode IV - A New Hope               </td><td>George Lucas     </td><td>8.7</td><td>top action movie</td></tr>\n",
              "\t<tr><td>Queen of the Mountains                           </td><td>Sadyk Sher-Niyaz </td><td>8.7</td><td>top action movie</td></tr>\n",
              "\t<tr><td>Seven Samurai                                    </td><td>Akira Kurosawa   </td><td>8.7</td><td>top action movie</td></tr>\n",
              "\t<tr><td>Saving Private Ryan                              </td><td>Steven Spielberg </td><td>8.6</td><td>top action movie</td></tr>\n",
              "\t<tr><td>Spartacus: War of the Damned                     </td><td>                 </td><td>8.6</td><td>top action movie</td></tr>\n",
              "\t<tr><td>The Dark Knight Rises                            </td><td>Christopher Nolan</td><td>8.5</td><td>top action movie</td></tr>\n",
              "\t<tr><td>Gladiator                                        </td><td>Ridley Scott     </td><td>8.5</td><td>top action movie</td></tr>\n",
              "\t<tr><td>Terminator 2: Judgment Day                       </td><td>James Cameron    </td><td>8.5</td><td>top action movie</td></tr>\n",
              "\t<tr><td>Raiders of the Lost Ark                          </td><td>Steven Spielberg </td><td>8.5</td><td>top action movie</td></tr>\n",
              "\t<tr><td>Airlift                                          </td><td>Raja Menon       </td><td>8.5</td><td>top action movie</td></tr>\n",
              "\t<tr><td>Stargate SG-1                                    </td><td>                 </td><td>8.4</td><td>top action movie</td></tr>\n",
              "\t<tr><td>Baahubali: The Beginning                         </td><td>S.S. Rajamouli   </td><td>8.4</td><td>top action movie</td></tr>\n",
              "\t<tr><td>Star Wars: Episode VI - Return of the Jedi       </td><td>Richard Marquand </td><td>8.4</td><td>top action movie</td></tr>\n",
              "\t<tr><td>Aliens                                           </td><td>James Cameron    </td><td>8.4</td><td>top action movie</td></tr>\n",
              "\t<tr><td>Batman: The Dark Knight Returns, Part 2          </td><td>Jay Oliva        </td><td>8.4</td><td>top action movie</td></tr>\n",
              "\t<tr><td>Batman Begins                                    </td><td>Christopher Nolan</td><td>8.3</td><td>top action movie</td></tr>\n",
              "\t<tr><td>Indiana Jones and the Last Crusade               </td><td>Steven Spielberg </td><td>8.3</td><td>top action movie</td></tr>\n",
              "\t<tr><td>Captain America: Civil War                       </td><td>Anthony Russo    </td><td>8.2</td><td>top action movie</td></tr>\n",
              "\t<tr><td>Godzilla Resurgence                              </td><td>Hideaki Anno     </td><td>8.2</td><td>top action movie</td></tr>\n",
              "\t<tr><td>V for Vendetta                                   </td><td>James McTeigue   </td><td>8.2</td><td>top action movie</td></tr>\n",
              "\t<tr><td>Die Hard                                         </td><td>John McTiernan   </td><td>8.2</td><td>top action movie</td></tr>\n",
              "\t<tr><td>⋮</td><td>⋮</td><td>⋮</td><td>⋮</td></tr>\n",
              "\t<tr><td>Dragon Wars: D-War                         </td><td>Hyung-rae Shim        </td><td>3.6</td><td>not top action movie</td></tr>\n",
              "\t<tr><td>Spy Kids: All the Time in the World in 4D  </td><td>Robert Rodriguez      </td><td>3.6</td><td>not top action movie</td></tr>\n",
              "\t<tr><td>Superman IV: The Quest for Peace           </td><td>Sidney J. Furie       </td><td>3.6</td><td>not top action movie</td></tr>\n",
              "\t<tr><td>Wind Walkers                               </td><td>Russell Friedenberg   </td><td>3.6</td><td>not top action movie</td></tr>\n",
              "\t<tr><td>Echo Dr.                                   </td><td>Patrick Ryan Sims     </td><td>3.6</td><td>not top action movie</td></tr>\n",
              "\t<tr><td>The Adventures of Sharkboy and Lavagirl 3-D</td><td>Robert Rodriguez      </td><td>3.5</td><td>not top action movie</td></tr>\n",
              "\t<tr><td>Dance Flick                                </td><td>Damien Dante Wayans   </td><td>3.5</td><td>not top action movie</td></tr>\n",
              "\t<tr><td>Megaforce                                  </td><td>Hal Needham           </td><td>3.5</td><td>not top action movie</td></tr>\n",
              "\t<tr><td>The Omega Code                             </td><td>Robert Marcarelli     </td><td>3.5</td><td>not top action movie</td></tr>\n",
              "\t<tr><td>Chain of Command                           </td><td>Kevin Carraway        </td><td>3.5</td><td>not top action movie</td></tr>\n",
              "\t<tr><td>Zombie Hunter                              </td><td>K. King               </td><td>3.5</td><td>not top action movie</td></tr>\n",
              "\t<tr><td>Navy Seals vs. Zombies                     </td><td>Stanton Barrett       </td><td>3.4</td><td>not top action movie</td></tr>\n",
              "\t<tr><td>Independence Daysaster                     </td><td>W.D. Hogan            </td><td>3.4</td><td>not top action movie</td></tr>\n",
              "\t<tr><td>Catwoman                                   </td><td>Pitof                 </td><td>3.3</td><td>not top action movie</td></tr>\n",
              "\t<tr><td>In the Name of the King: The Last Job      </td><td>Uwe Boll              </td><td>3.3</td><td>not top action movie</td></tr>\n",
              "\t<tr><td>Legend of Kung Fu Rabbit                   </td><td>Lijun Sun             </td><td>3.2</td><td>not top action movie</td></tr>\n",
              "\t<tr><td>Royal Kill                                 </td><td>Babar Ahmed           </td><td>3.2</td><td>not top action movie</td></tr>\n",
              "\t<tr><td>Left Behind                                </td><td>Vic Armstrong         </td><td>3.1</td><td>not top action movie</td></tr>\n",
              "\t<tr><td>Checkmate                                  </td><td>Timothy Woodward Jr.  </td><td>3.1</td><td>not top action movie</td></tr>\n",
              "\t<tr><td>Rollerball                                 </td><td>John McTiernan        </td><td>3.0</td><td>not top action movie</td></tr>\n",
              "\t<tr><td>The Dead Undead                            </td><td>Matthew R. Anderson   </td><td>3.0</td><td>not top action movie</td></tr>\n",
              "\t<tr><td>BloodRayne                                 </td><td>Uwe Boll              </td><td>2.9</td><td>not top action movie</td></tr>\n",
              "\t<tr><td>Steel                                      </td><td>Kenneth Johnson       </td><td>2.8</td><td>not top action movie</td></tr>\n",
              "\t<tr><td>Hum To Mohabbat Karega                     </td><td>Kundan Shah           </td><td>2.8</td><td>not top action movie</td></tr>\n",
              "\t<tr><td>Dragonball: Evolution                      </td><td>James Wong            </td><td>2.7</td><td>not top action movie</td></tr>\n",
              "\t<tr><td>Battlefield Earth                          </td><td>Roger Christian       </td><td>2.4</td><td>not top action movie</td></tr>\n",
              "\t<tr><td>Subconscious                               </td><td>Georgia Hilton        </td><td>2.2</td><td>not top action movie</td></tr>\n",
              "\t<tr><td>Crossover                                  </td><td>Preston A. Whitmore II</td><td>2.1</td><td>not top action movie</td></tr>\n",
              "\t<tr><td>The Helix... Loaded                        </td><td>A. Raven Cruz         </td><td>1.9</td><td>not top action movie</td></tr>\n",
              "\t<tr><td>Foodfight!                                 </td><td>Lawrence Kasanoff     </td><td>1.7</td><td>not top action movie</td></tr>\n",
              "</tbody>\n",
              "</table>\n"
            ]
          },
          "metadata": {
            "tags": []
          }
        }
      ]
    },
    {
      "cell_type": "markdown",
      "metadata": {
        "id": "UFyCQ79eECvh"
      },
      "source": [
        "#### EX 2C \n",
        "##### Crear un nuevo campo (\"company_size\") que segmente a las empresas según cantidad de empleados según el siguiente criterio,\n",
        "\n",
        "*   *small*, cuando la cantidad de empleados sea menor a 10000\n",
        "*   *medium*, cuando la cantidad de empleados sea mayor a 10000 y menor a 100000\n",
        "*   *big*, cuando la cantidad de empleados sea mayor a 100000\n",
        "\n",
        "##### Calcular mediana de ganancias (profits), según (i) sector y (ii) tamaño de empresa (\"company_size\")\n",
        "\n",
        "> Dataset https://data-wizards.s3.amazonaws.com/datasets/fortune1000.csv"
      ]
    },
    {
      "cell_type": "code",
      "metadata": {
        "colab": {
          "base_uri": "https://localhost:8080/"
        },
        "id": "K5VTug8s6Na0",
        "outputId": "30dc84cd-bba8-4595-acfe-4dd14ff31782"
      },
      "source": [
        "# Importamos df\n",
        "df_fortune = data.table::fread(\"https://data-wizards.s3.amazonaws.com/datasets/fortune1000.csv\")\n",
        "glimpse(df_fortune)"
      ],
      "execution_count": null,
      "outputs": [
        {
          "output_type": "stream",
          "text": [
            "Rows: 1,000\n",
            "Columns: 8\n",
            "$ Rank      \u001b[3m\u001b[90m<int>\u001b[39m\u001b[23m 1, 2, 3, 4, 5, 6, 7, 8, 9, 10, 11, 12, 13, 14, 15, 16, 17, 1…\n",
            "$ Company   \u001b[3m\u001b[90m<chr>\u001b[39m\u001b[23m \"Walmart\", \"Exxon Mobil\", \"Apple\", \"Berkshire Hathaway\", \"Mc…\n",
            "$ Sector    \u001b[3m\u001b[90m<chr>\u001b[39m\u001b[23m \"Retailing\", \"Energy\", \"Technology\", \"Financials\", \"Health C…\n",
            "$ Industry  \u001b[3m\u001b[90m<chr>\u001b[39m\u001b[23m \"General Merchandisers\", \"Petroleum Refining\", \"Computers, O…\n",
            "$ Location  \u001b[3m\u001b[90m<chr>\u001b[39m\u001b[23m \"Bentonville, AR\", \"Irving, TX\", \"Cupertino, CA\", \"Omaha, NE…\n",
            "$ Revenue   \u001b[3m\u001b[90m<int>\u001b[39m\u001b[23m 482130, 246204, 233715, 210821, 181241, 157107, 153290, 1523…\n",
            "$ Profits   \u001b[3m\u001b[90m<int>\u001b[39m\u001b[23m 14694, 16150, 53394, 24083, 1476, 5813, 5237, 9687, 7373, 13…\n",
            "$ Employees \u001b[3m\u001b[90m<int>\u001b[39m\u001b[23m 2300000, 75600, 110000, 331000, 70400, 200000, 199000, 21500…\n"
          ],
          "name": "stdout"
        }
      ]
    },
    {
      "cell_type": "code",
      "metadata": {
        "colab": {
          "base_uri": "https://localhost:8080/",
          "height": 189
        },
        "id": "I8bZ_tBlHauH",
        "outputId": "19d4bc75-c1c4-4f45-b5c0-792c96fa0c3d"
      },
      "source": [
        "# Creamos segmentos y los utilizamos para agrupar agregación\n",
        "df_fortune %>% mutate(\n",
        "  company_size = case_when(\n",
        "    Employees>100000 ~ \"big\"\n",
        "    , Employees>10000 ~ \"medium\"\n",
        "    , TRUE == TRUE ~ \"small\"\n",
        "  )\n",
        ") %>% group_by(\n",
        "  company_size\n",
        "  ) %>% summarise(\n",
        "  median_profits = median(Profits)\n",
        ")"
      ],
      "execution_count": null,
      "outputs": [
        {
          "output_type": "display_data",
          "data": {
            "text/plain": [
              "  company_size median_profits\n",
              "1 big          2757          \n",
              "2 medium        358          \n",
              "3 small         169          "
            ],
            "text/latex": "A tibble: 3 × 2\n\\begin{tabular}{ll}\n company\\_size & median\\_profits\\\\\n <chr> & <dbl>\\\\\n\\hline\n\t big    & 2757\\\\\n\t medium &  358\\\\\n\t small  &  169\\\\\n\\end{tabular}\n",
            "text/markdown": "\nA tibble: 3 × 2\n\n| company_size &lt;chr&gt; | median_profits &lt;dbl&gt; |\n|---|---|\n| big    | 2757 |\n| medium |  358 |\n| small  |  169 |\n\n",
            "text/html": [
              "<table class=\"dataframe\">\n",
              "<caption>A tibble: 3 × 2</caption>\n",
              "<thead>\n",
              "\t<tr><th scope=col>company_size</th><th scope=col>median_profits</th></tr>\n",
              "\t<tr><th scope=col>&lt;chr&gt;</th><th scope=col>&lt;dbl&gt;</th></tr>\n",
              "</thead>\n",
              "<tbody>\n",
              "\t<tr><td>big   </td><td>2757</td></tr>\n",
              "\t<tr><td>medium</td><td> 358</td></tr>\n",
              "\t<tr><td>small </td><td> 169</td></tr>\n",
              "</tbody>\n",
              "</table>\n"
            ]
          },
          "metadata": {
            "tags": []
          }
        }
      ]
    }
  ]
}